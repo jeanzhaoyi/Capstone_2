{
 "cells": [
  {
   "cell_type": "markdown",
   "metadata": {},
   "source": [
    "* Use preprocessed features to train a predictive model\n",
    "* First construct a function to implement cross validation\n",
    "* Then set a benchmark for model evaluation with randomized data and logistic regression\n",
    "* Finally, fit and evaluate logistic regression, bootstrapped balanced datasets, as well as a ensemble method still based on logistic regression"
   ]
  },
  {
   "cell_type": "code",
   "execution_count": 2,
   "metadata": {
    "collapsed": false
   },
   "outputs": [],
   "source": [
    "import numpy as np\n",
    "import pandas as pd\n",
    "import matplotlib.pyplot as plt\n",
    "\n",
    "# load in the data set\n",
    "train_raw = pd.read_csv('train.csv')\n",
    "muted = pd.read_csv('/Users/yizhao/Documents/Second_capstone/muted_data.csv')\n"
   ]
  },
  {
   "cell_type": "code",
   "execution_count": 3,
   "metadata": {
    "collapsed": true
   },
   "outputs": [],
   "source": [
    "# define predictors and predicted variable\n",
    "less_ft = muted.dropna(axis=1)\n"
   ]
  },
  {
   "cell_type": "markdown",
   "metadata": {},
   "source": [
    "### Test sensitivity to definition of categorical variabes"
   ]
  },
  {
   "cell_type": "code",
   "execution_count": null,
   "metadata": {
    "collapsed": true
   },
   "outputs": [],
   "source": [
    "def transf_dat(muted, N):\n",
    "    muted = muted.drop(['var3','var36', 'TARGET'], axis = 1)\n",
    "    # remove variables with missing values and the target column\n",
    "    muted = muted.set_index([\"ID\"]) \n",
    "    for field in list(muted.columns):\n",
    "    \n",
    "        n_uniq = np.unique(muted[field]).size # get the number of unique values\n",
    "        if n_uniq == 1:\n",
    "            muted = muted.drop(field,axis = 1) # drop fields with only 1 unique value,m,,,,,,\n",
    "\n",
    "        if n_uniq > 2 and n_uniq <=N:\n",
    "            # consider the column as a categorical variable\n",
    "            muted = pd.concat([muted, \n",
    "                               pd.get_dummies(muted[field], prefix=field).iloc[:,:-1]], \n",
    "                              axis=1)\n",
    "            muted = muted.drop(field, axis=1)\n",
    "    return muted"
   ]
  },
  {
   "cell_type": "markdown",
   "metadata": {},
   "source": [
    "### Set up functions for cross-validation"
   ]
  },
  {
   "cell_type": "code",
   "execution_count": 8,
   "metadata": {
    "collapsed": true
   },
   "outputs": [],
   "source": [
    "seed = 1\n",
    "# use stratified kfold to ensure that there are 1 and 0 in each fold\n",
    "kfold = cross_validation.StratifiedKFold(train_raw.TARGET, \n",
    "                                         n_folds=5,  # five fold cross validation\n",
    "                                         random_state=seed) "
   ]
  },
  {
   "cell_type": "code",
   "execution_count": 50,
   "metadata": {
    "collapsed": false
   },
   "outputs": [],
   "source": [
    "def cv_score(k, X, y, classifier): # X is a data frame, y is a list\n",
    "    kfold = model_selection.StratifiedKFold(n_splits= k)\n",
    "    scores = 0.\n",
    "    for train, test in kfold.split(X, y):\n",
    "        probas_t = classifier.fit(X.iloc[train,:], y[train]).predict_proba(X.iloc[test,:])\n",
    "        sc = metrics.roc_auc_score(y[test], probas_t[:,1])\n",
    "        scores += sc\n",
    "    return scores/k\n"
   ]
  },
  {
   "cell_type": "markdown",
   "metadata": {},
   "source": [
    "### Apply Cross validated Machine Learning"
   ]
  },
  {
   "cell_type": "code",
   "execution_count": 73,
   "metadata": {
    "collapsed": false
   },
   "outputs": [],
   "source": [
    "# load in libraries for ML\n",
    "from sklearn.feature_selection import SelectKBest, chi2\n",
    "from sklearn.cross_validation import train_test_split\n",
    "from sklearn import cross_validation #StratifiedKFold\n",
    "from sklearn.model_selection import GridSearchCV\n",
    "from sklearn.model_selection import cross_val_score\n",
    "from sklearn import model_selection # StratifiedKFold\n",
    "\n",
    "\n",
    "from sklearn import metrics\n",
    "from sklearn.preprocessing import MinMaxScaler\n",
    "from sklearn.decomposition import PCA\n",
    "from sklearn.linear_model import LogisticRegression\n",
    "from sklearn.svm import SVC\n",
    "from xgboost import XGBClassifier\n",
    "from sklearn.ensemble import RandomForestClassifier\n",
    "from sklearn.ensemble import GradientBoostingClassifier\n",
    "from sklearn.naive_bayes import BernoulliNB\n",
    "\n",
    "from sklearn.pipeline import Pipeline\n",
    "from pandas_ml import ConfusionMatrix"
   ]
  },
  {
   "cell_type": "markdown",
   "metadata": {},
   "source": [
    "### Construct a benchmark null model"
   ]
  },
  {
   "cell_type": "code",
   "execution_count": 5,
   "metadata": {
    "collapsed": true
   },
   "outputs": [],
   "source": [
    "rand_index = np.random.randint(less_ft.shape[0], size = less_ft.shape[0])\n",
    "randomized = less_ft.iloc[rand_index,:] # randomized data frame"
   ]
  },
  {
   "cell_type": "code",
   "execution_count": 7,
   "metadata": {
    "collapsed": false
   },
   "outputs": [
    {
     "data": {
      "text/plain": [
       "0.48363682517536721"
      ]
     },
     "execution_count": 7,
     "metadata": {},
     "output_type": "execute_result"
    }
   ],
   "source": [
    "y = train_raw[['TARGET']].values.ravel()\n",
    "\n",
    "Xlr, Xtestlr, y_lr, y_testlr = train_test_split(randomized, \n",
    "                                                y,\n",
    "                                                random_state=5)\n",
    "\n",
    "scale = MinMaxScaler()\n",
    "X_train = scale.fit_transform(Xlr) # scale all predictor variables\n",
    "X_test = scale.fit_transform(Xtestlr)\n",
    "\n",
    "LG = LogisticRegression(C=0.1)\n",
    "LG.fit(X_train, y_lr)\n",
    "\n",
    "pred_train = LG.predict(X_train)\n",
    "pred_test = LG.predict(X_test)\n",
    "\n",
    "metrics.roc_auc_score(y_testlr, LG.predict_proba(X_test)[:,1])"
   ]
  },
  {
   "cell_type": "code",
   "execution_count": 63,
   "metadata": {
    "collapsed": false
   },
   "outputs": [
    {
     "data": {
      "text/plain": [
       "Predicted      0  1  __all__\n",
       "Actual                      \n",
       "0          18300  0    18300\n",
       "1            705  0      705\n",
       "__all__    19005  0    19005"
      ]
     },
     "execution_count": 63,
     "metadata": {},
     "output_type": "execute_result"
    }
   ],
   "source": [
    "ConfusionMatrix(y_true = y_testlr, y_pred = pred_test)"
   ]
  },
  {
   "cell_type": "code",
   "execution_count": 51,
   "metadata": {
    "collapsed": false
   },
   "outputs": [
    {
     "name": "stdout",
     "output_type": "stream",
     "text": [
      "Null model no transformation Logistic Regression\n",
      " mean ROC AUC score: \n",
      " 0.49807360146\n"
     ]
    }
   ],
   "source": [
    "# use cross validation to find an average value of the ROC AUC\n",
    "results = cv_score(5,  randomized, y, LogisticRegression(C=0.1))\n",
    "print('Null model no transformation Logistic Regression\\n mean ROC AUC score: \\n',\n",
    "      results)"
   ]
  },
  {
   "cell_type": "markdown",
   "metadata": {},
   "source": [
    "### Logistic Rression on actual data set"
   ]
  },
  {
   "cell_type": "code",
   "execution_count": 53,
   "metadata": {
    "collapsed": false
   },
   "outputs": [
    {
     "name": "stdout",
     "output_type": "stream",
     "text": [
      "Logistic Regression\n",
      " mean ROC AUC score: \n",
      " 0.599080519934\n"
     ]
    }
   ],
   "source": [
    "print('Logistic Regression\\n mean ROC AUC score: \\n',\n",
    "      cv_score(5,  less_ft, y, LogisticRegression(C=0.1))\n",
    ")"
   ]
  },
  {
   "cell_type": "markdown",
   "metadata": {},
   "source": [
    "* The result above is better than the null model\n",
    "* Now add a MinMaxScaler to improve the model"
   ]
  },
  {
   "cell_type": "code",
   "execution_count": 54,
   "metadata": {
    "collapsed": false
   },
   "outputs": [
    {
     "name": "stdout",
     "output_type": "stream",
     "text": [
      "MinMax scalled Logistic Regression\n",
      " mean ROC AUC score: \n",
      " 0.786704261508\n"
     ]
    }
   ],
   "source": [
    "pipe_LG_scaled = Pipeline([\n",
    "    ('minmax', MinMaxScaler()),\n",
    "    ('LG', LogisticRegression(C=0.1))  \n",
    "])\n",
    "print('MinMax scalled Logistic Regression\\n mean ROC AUC score: \\n',\n",
    "      cv_score(5,  less_ft, y, pipe_LG_scaled)\n",
    "      )"
   ]
  },
  {
   "cell_type": "code",
   "execution_count": 98,
   "metadata": {
    "collapsed": false
   },
   "outputs": [
    {
     "name": "stdout",
     "output_type": "stream",
     "text": [
      "Scaled Logistic regression AUC score:  0.777781223847\n"
     ]
    },
    {
     "data": {
      "text/plain": [
       "Predicted      0  1  __all__\n",
       "Actual                      \n",
       "0          18256  2    18258\n",
       "1            747  0      747\n",
       "__all__    19003  2    19005"
      ]
     },
     "execution_count": 98,
     "metadata": {},
     "output_type": "execute_result"
    }
   ],
   "source": [
    "# run one individual logsitic regression to see the model performance in recall\n",
    "X = MinMaxScaler().fit_transform(less_ft)\n",
    "X_train, X_test, y_train, y_test = train_test_split(X, y, random_state= seed)\n",
    "\n",
    "LG = LogisticRegression(C=0.1)\n",
    "LG.fit(X_train, y_train)\n",
    "\n",
    "pred_train = LG.predict(X_train)\n",
    "pred_test = LG.predict(X_test)\n",
    "\n",
    "prob_test = LG.predict_proba(X_test)\n",
    "print(\"Scaled Logistic regression AUC score: \"\n",
    "    ,metrics.roc_auc_score(y_true = y_test,  y_score = prob_test[:,1]))\n",
    "\n",
    "ConfusionMatrix(y_true = y_test, y_pred = pred_test)"
   ]
  },
  {
   "cell_type": "code",
   "execution_count": 99,
   "metadata": {
    "collapsed": false
   },
   "outputs": [
    {
     "name": "stderr",
     "output_type": "stream",
     "text": [
      "/Users/yizhao/anaconda3/lib/python3.5/site-packages/sklearn/metrics/classification.py:1113: UndefinedMetricWarning: Precision is ill-defined and being set to 0.0 due to no predicted samples.\n",
      "  'precision', 'predicted', average, warn_for)\n",
      "/Users/yizhao/anaconda3/lib/python3.5/site-packages/sklearn/metrics/classification.py:1113: UndefinedMetricWarning: F-score is ill-defined and being set to 0.0 due to no predicted samples.\n",
      "  'precision', 'predicted', average, warn_for)\n"
     ]
    },
    {
     "data": {
      "image/png": "[encoded data removed]",
      "text/plain": [
       "<matplotlib.figure.Figure at 0x117efc898>"
      ]
     },
     "metadata": {},
     "output_type": "display_data"
    }
   ],
   "source": [
    "cut_off = np.arange(0.01,0.9,0.01)\n",
    "\n",
    "recall_test = [metrics.recall_score(y_pred= prob_test[:,1]>x, \n",
    "                            y_true = y_test) for x in cut_off]\n",
    "precision_test = [metrics.precision_score(y_pred= prob_test[:,1]>x, \n",
    "                            y_true = y_test) for x in cut_off]\n",
    "f1_test = [metrics.f1_score(y_pred= prob_test[:,1]>x, \n",
    "                            y_true = y_test) for x in cut_off]\n",
    "fig, ax = plt.subplots()\n",
    "ax.plot(cut_off, recall_test, label = 'Recall', color = 'purple')\n",
    "ax.plot(cut_off, precision_test, color = 'green', label = 'Precision')\n",
    "ax.plot(cut_off, f1_test, color = 'blue', label = 'f1-score')\n",
    "legend = ax.legend(loc='upper center', shadow=True)\n",
    "ax.set_title('Scaled Logistic Regression')\n",
    "ax.set_xlabel('Cut off probability for being 1 (dissatisfied customer)')\n",
    "ax.set_ylabel('Recall and precision score for test set')\n",
    "plt.show()"
   ]
  },
  {
   "cell_type": "code",
   "execution_count": 100,
   "metadata": {
    "collapsed": false
   },
   "outputs": [
    {
     "data": {
      "text/plain": [
       "Predicted  False  True  __all__\n",
       "Actual                         \n",
       "False      16255  2003    18258\n",
       "True         368   379      747\n",
       "__all__    16623  2382    19005"
      ]
     },
     "execution_count": 100,
     "metadata": {},
     "output_type": "execute_result"
    }
   ],
   "source": [
    "ConfusionMatrix(y_true = y_test, y_pred = prob_test[:,1]>0.08)"
   ]
  },
  {
   "cell_type": "markdown",
   "metadata": {},
   "source": [
    "* The MinMaxScale significantly improved the model\n",
    "* Try Chi2 feature selection to see if there is further improvment"
   ]
  },
  {
   "cell_type": "code",
   "execution_count": 55,
   "metadata": {
    "collapsed": false
   },
   "outputs": [
    {
     "name": "stdout",
     "output_type": "stream",
     "text": [
      "MinMax scalled Logistic Regression\n",
      " mean ROC AUC score: \n",
      " 0.778433472633\n"
     ]
    }
   ],
   "source": [
    "pipe_LG_chi2 = Pipeline([\n",
    "    ('minmax', MinMaxScaler()),\n",
    "    ('kBest', SelectKBest(chi2, k = 100)),\n",
    "    ('LG', LogisticRegression(C=0.1))  \n",
    "])\n",
    "\n",
    "print('MinMax scalled Logistic Regression\\n mean ROC AUC score: \\n',\n",
    "      cv_score(5,  less_ft, y, pipe_LG_chi2))"
   ]
  },
  {
   "cell_type": "markdown",
   "metadata": {},
   "source": [
    "* There was not any improvement. Actually, the AUC score was even lower. "
   ]
  },
  {
   "cell_type": "markdown",
   "metadata": {},
   "source": [
    "#### Test the sensitivity of results to the threshold of unique values for categorical versus numerical variables"
   ]
  },
  {
   "cell_type": "code",
   "execution_count": 70,
   "metadata": {
    "collapsed": false
   },
   "outputs": [
    {
     "name": "stderr",
     "output_type": "stream",
     "text": [
      "/Users/yizhao/anaconda3/lib/python3.5/site-packages/sklearn/linear_model/base.py:352: RuntimeWarning: overflow encountered in exp\n",
      "  np.exp(prob, prob)\n"
     ]
    },
    {
     "name": "stdout",
     "output_type": "stream",
     "text": [
      "Raw training data\n",
      " scalled Logistic Regression\n",
      " mean ROC AUC score: \n",
      " 0.783026687606\n"
     ]
    }
   ],
   "source": [
    "raw = train_raw.drop(['var3','var36', 'TARGET'], axis = 1)\n",
    "print('Raw training data\\n scalled Logistic Regression\\n mean ROC AUC score: \\n',\n",
    "      cv_score(5,  raw, y, pipe_LG_scaled)\n",
    "      )"
   ]
  },
  {
   "cell_type": "code",
   "execution_count": 65,
   "metadata": {
    "collapsed": true
   },
   "outputs": [],
   "source": [
    "uniq_10 = transf_dat(train_raw, 10)"
   ]
  },
  {
   "cell_type": "code",
   "execution_count": 67,
   "metadata": {
    "collapsed": false
   },
   "outputs": [
    {
     "data": {
      "text/plain": [
       "(76020, 631)"
      ]
     },
     "execution_count": 67,
     "metadata": {},
     "output_type": "execute_result"
    }
   ],
   "source": [
    "uniq_10.shape"
   ]
  },
  {
   "cell_type": "code",
   "execution_count": 66,
   "metadata": {
    "collapsed": false
   },
   "outputs": [
    {
     "name": "stdout",
     "output_type": "stream",
     "text": [
      "Categorical variables defined as having less than 10 unique values\n",
      " scalled Logistic Regression\n",
      " mean ROC AUC score: \n",
      " 0.784806125663\n"
     ]
    }
   ],
   "source": [
    "print('Categorical variables defined as having less than 10 unique values\\n scalled Logistic Regression\\n mean ROC AUC score: \\n',\n",
    "      cv_score(5,  uniq_10, y, pipe_LG_scaled)\n",
    "      )"
   ]
  },
  {
   "cell_type": "code",
   "execution_count": 68,
   "metadata": {
    "collapsed": false
   },
   "outputs": [
    {
     "data": {
      "text/plain": [
       "(76020, 1156)"
      ]
     },
     "execution_count": 68,
     "metadata": {},
     "output_type": "execute_result"
    }
   ],
   "source": [
    "uniq_30 = transf_dat(train_raw, 30)\n",
    "uniq_30.shape"
   ]
  },
  {
   "cell_type": "code",
   "execution_count": 69,
   "metadata": {
    "collapsed": false
   },
   "outputs": [
    {
     "name": "stdout",
     "output_type": "stream",
     "text": [
      "Categorical variables defined as having less than 30 unique values\n",
      " scalled Logistic Regression\n",
      " mean ROC AUC score: \n",
      " 0.785973809131\n"
     ]
    }
   ],
   "source": [
    "print('Categorical variables defined as having less than 30 unique values\\n scalled Logistic Regression\\n mean ROC AUC score: \\n',\n",
    "      cv_score(5,  uniq_30, y, pipe_LG_scaled)\n",
    "      )"
   ]
  },
  {
   "cell_type": "markdown",
   "metadata": {},
   "source": [
    "* It seems that there difference among choices of categorical variables did not make a significant difference\n",
    "* Even if using the raw dataset without distinguishing any categorical versus not or removing features with only one unique value, the resulting auc score is lower by 0.003 compared to transforming an arbitrarily defined set of categorical variables as dummy variables. "
   ]
  },
  {
   "cell_type": "markdown",
   "metadata": {},
   "source": [
    "### Naive Bayes"
   ]
  },
  {
   "cell_type": "code",
   "execution_count": 118,
   "metadata": {
    "collapsed": false
   },
   "outputs": [
    {
     "name": "stdout",
     "output_type": "stream",
     "text": [
      "Naive Bayes\n",
      " mean ROC AUC score: \n",
      " 0.712689622542\n"
     ]
    }
   ],
   "source": [
    "print('Naive Bayes\\n mean ROC AUC score: \\n',\n",
    "      cv_score(5,  less_ft, y, BernoulliNB()))"
   ]
  },
  {
   "cell_type": "code",
   "execution_count": 74,
   "metadata": {
    "collapsed": false
   },
   "outputs": [
    {
     "name": "stdout",
     "output_type": "stream",
     "text": [
      "MinMax scalled Naive Bayes\n",
      " mean ROC AUC score: \n",
      " 0.703902264811\n"
     ]
    }
   ],
   "source": [
    "pipe_NB = Pipeline([\n",
    "    ('minmax', MinMaxScaler()),\n",
    "    ('nb', BernoulliNB())  \n",
    "])\n",
    "\n",
    "print('MinMax scalled Naive Bayes\\n mean ROC AUC score: \\n',\n",
    "      cv_score(5,  less_ft, y, pipe_NB))\n"
   ]
  },
  {
   "cell_type": "code",
   "execution_count": 76,
   "metadata": {
    "collapsed": false
   },
   "outputs": [
    {
     "name": "stdout",
     "output_type": "stream",
     "text": [
      "MinMax scalled chi2 top 100 features\n",
      " Bernouli Naive Bayes\n",
      " mean ROC AUC score: \n",
      " 0.713750329496\n"
     ]
    }
   ],
   "source": [
    "pipe_NB_chi2 = Pipeline([\n",
    "    ('minmax', MinMaxScaler()),\n",
    "    ('kBest', SelectKBest(chi2, k = 100)),\n",
    "    ('nb', BernoulliNB())  \n",
    "])\n",
    "\n",
    "print('MinMax scalled chi2 top 100 features\\n Bernouli Naive Bayes\\n mean ROC AUC score: \\n',\n",
    "      cv_score(5,  less_ft, y, pipe_NB_chi2))"
   ]
  },
  {
   "cell_type": "markdown",
   "metadata": {},
   "source": [
    "### Decesion tree based classifiers"
   ]
  },
  {
   "cell_type": "code",
   "execution_count": 114,
   "metadata": {
    "collapsed": false
   },
   "outputs": [
    {
     "name": "stdout",
     "output_type": "stream",
     "text": [
      "Random Forest on original dataset\n",
      " mean ROC AUC score: \n",
      " 0.693697681224\n",
      "\n",
      "Random Forest \n",
      " mean ROC AUC score: \n",
      " 0.686270439471\n",
      "\n",
      "MinMax scalled RandomForestClassifier\n",
      " mean ROC AUC score: \n",
      " 0.6700023768\n"
     ]
    }
   ],
   "source": [
    "# simple random forest classifier\n",
    "print('Random Forest on original dataset\\n mean ROC AUC score: \\n',\n",
    "      cv_score(5,  raw, y, RandomForestClassifier()))\n",
    "\n",
    "print('\\nRandom Forest \\n mean ROC AUC score: \\n',\n",
    "      cv_score(5,  less_ft, y, RandomForestClassifier()))\n",
    "\n",
    "\n",
    "print('\\nMinMax scalled RandomForestClassifier\\n mean ROC AUC score: \\n',\n",
    "      cv_score(5,  less_ft, y, Pipeline([\n",
    "    ('minmax', MinMaxScaler()),\n",
    "    ('RF', RandomForestClassifier())  \n",
    "])))"
   ]
  },
  {
   "cell_type": "code",
   "execution_count": 117,
   "metadata": {
    "collapsed": false
   },
   "outputs": [
    {
     "name": "stdout",
     "output_type": "stream",
     "text": [
      "GradientBoostingClassifier\n",
      " mean ROC AUC score: \n",
      " 0.707529186673\n"
     ]
    }
   ],
   "source": [
    "# gradient boosting without any scaling\n",
    "print('GradientBoostingClassifier\\n mean ROC AUC score: \\n',\n",
    "      cv_score(5,  less_ft, y, GradientBoostingClassifier()  ))"
   ]
  },
  {
   "cell_type": "code",
   "execution_count": 57,
   "metadata": {
    "collapsed": false
   },
   "outputs": [
    {
     "name": "stdout",
     "output_type": "stream",
     "text": [
      "MinMax scalled Logistic Regression\n",
      " mean ROC AUC score: \n",
      " 0.773383059245\n"
     ]
    }
   ],
   "source": [
    "# Gradient Boosting classifier\n",
    "pipe_boost = Pipeline([\n",
    "    ('minmax', MinMaxScaler()),\n",
    "    ('G', GradientBoostingClassifier())  \n",
    "])\n",
    "\n",
    "print('MinMax scalled GradientBoostingClassifier\\n mean ROC AUC score: \\n',\n",
    "      cv_score(5,  less_ft, y, pipe_boost))"
   ]
  },
  {
   "cell_type": "markdown",
   "metadata": {},
   "source": [
    "* Again, the result was worse than a simple logistic regression\n",
    "* This model's default has max_depth = 3. Try some other numbers to see if the results improve"
   ]
  },
  {
   "cell_type": "code",
   "execution_count": 58,
   "metadata": {
    "collapsed": false
   },
   "outputs": [
    {
     "name": "stdout",
     "output_type": "stream",
     "text": [
      "MinMax scalled Gradient Boosting Classifier (max_depth = 2)\n",
      " mean ROC AUC score: \n",
      " 0.726656727175\n"
     ]
    }
   ],
   "source": [
    "\n",
    "print('MinMax scalled Gradient Boosting Classifier (max_depth = 2)\\n mean ROC AUC score: \\n',\n",
    "      cv_score(5,  less_ft, y, \n",
    "              Pipeline([\n",
    "                    ('minmax', MinMaxScaler()),\n",
    "                    ('G', GradientBoostingClassifier(max_depth = 2))  \n",
    "                ])\n",
    "              ))"
   ]
  },
  {
   "cell_type": "markdown",
   "metadata": {},
   "source": [
    "* A smaller max_depth led to a worse result\n",
    "* Try larger max_depth, or allow deeper learning in the trees to account for interactions among features"
   ]
  },
  {
   "cell_type": "code",
   "execution_count": 59,
   "metadata": {
    "collapsed": false,
    "scrolled": true
   },
   "outputs": [
    {
     "name": "stdout",
     "output_type": "stream",
     "text": [
      "MinMax scalled Gradient Boosting Classifier (max_depth = 4)\n",
      " mean ROC AUC score: \n",
      " 0.757331178641\n",
      "MinMax scalled Gradient Boosting Classifier (max_depth = 5)\n",
      " mean ROC AUC score: \n",
      " 0.762505814474\n"
     ]
    }
   ],
   "source": [
    "print('MinMax scalled Gradient Boosting Classifier (max_depth = 4)\\n mean ROC AUC score: \\n',\n",
    "      cv_score(5,  less_ft, y, \n",
    "              Pipeline([\n",
    "                    ('minmax', MinMaxScaler()),\n",
    "                    ('LG', GradientBoostingClassifier(max_depth = 4))  \n",
    "                ])\n",
    "              ))\n",
    "print('MinMax scalled Gradient Boosting Classifier (max_depth = 5)\\n mean ROC AUC score: \\n',\n",
    "      cv_score(5,  less_ft, y, \n",
    "              Pipeline([\n",
    "                    ('minmax', MinMaxScaler()),\n",
    "                    ('G', GradientBoostingClassifier(max_depth = 5))  \n",
    "                ])\n",
    "              ))"
   ]
  },
  {
   "cell_type": "code",
   "execution_count": 61,
   "metadata": {
    "collapsed": false
   },
   "outputs": [
    {
     "name": "stdout",
     "output_type": "stream",
     "text": [
      "MinMax scalled Gradient Boosting Classifier (max_depth = 10)\n",
      " mean ROC AUC score: \n",
      " 0.728726317078\n"
     ]
    }
   ],
   "source": [
    "print('MinMax scalled Gradient Boosting Classifier (max_depth = 10)\\n mean ROC AUC score: \\n',\n",
    "      cv_score(5,  less_ft, y, \n",
    "              Pipeline([\n",
    "                    ('minmax', MinMaxScaler()),\n",
    "                    ('G', GradientBoostingClassifier(max_depth = 10))  \n",
    "                ])\n",
    "              ))"
   ]
  },
  {
   "cell_type": "markdown",
   "metadata": {},
   "source": [
    "* Increasing the number of maximum depth in boosted regression trees did not lead to better result.\n",
    "* We conclude to use the simple logistic regression on MinMaxScaled features"
   ]
  },
  {
   "cell_type": "code",
   "execution_count": 115,
   "metadata": {
    "collapsed": false
   },
   "outputs": [
    {
     "name": "stdout",
     "output_type": "stream",
     "text": [
      "XGBoost\n",
      " mean ROC AUC score: \n",
      " 0.831932077938\n"
     ]
    }
   ],
   "source": [
    "print('XGBoost\\n mean ROC AUC score: \\n',\n",
    "      cv_score(5,  less_ft, y, XGBClassifier(max_depth = 3)))"
   ]
  },
  {
   "cell_type": "code",
   "execution_count": 77,
   "metadata": {
    "collapsed": false
   },
   "outputs": [
    {
     "name": "stdout",
     "output_type": "stream",
     "text": [
      "MinMax scalled XGBoost\n",
      " mean ROC AUC score: \n",
      " 0.831932077938\n"
     ]
    }
   ],
   "source": [
    "pipe_xgb = Pipeline([\n",
    "    ('minmax', MinMaxScaler()),\n",
    "    ('xgb', XGBClassifier(max_depth = 3))  \n",
    "])\n",
    "\n",
    "print('MinMax scalled XGBoost\\n mean ROC AUC score: \\n',\n",
    "      cv_score(5,  less_ft, y, pipe_xgb))"
   ]
  },
  {
   "cell_type": "markdown",
   "metadata": {},
   "source": [
    "* This model appears to be the best performing \n",
    "* Look at one run's result, especially the confusion matrix and recall, precision, f1-score"
   ]
  },
  {
   "cell_type": "code",
   "execution_count": 101,
   "metadata": {
    "collapsed": false
   },
   "outputs": [
    {
     "name": "stdout",
     "output_type": "stream",
     "text": [
      "AUC score:  0.835076494681\n"
     ]
    },
    {
     "data": {
      "text/plain": [
       "Predicted      0  1  __all__\n",
       "Actual                      \n",
       "0          18257  1    18258\n",
       "1            746  1      747\n",
       "__all__    19003  2    19005"
      ]
     },
     "execution_count": 101,
     "metadata": {},
     "output_type": "execute_result"
    }
   ],
   "source": [
    "X = MinMaxScaler().fit_transform(less_ft)\n",
    "X_train, X_test, y_train, y_test = train_test_split(X, y, random_state= seed)\n",
    "\n",
    "xgb = XGBClassifier(max_depth= 3)\n",
    "xgb.fit(X_train, y_train)\n",
    "\n",
    "pred_train = xgb.predict(X_train)\n",
    "pred_test = xgb.predict(X_test)\n",
    "\n",
    "prob_test = xgb.predict_proba(X_test)\n",
    "print(\"AUC score: \"\n",
    "    ,metrics.roc_auc_score(y_true = y_test,  y_score = prob_test[:,1]))\n",
    "\n",
    "ConfusionMatrix(y_true = y_test, y_pred = pred_test)"
   ]
  },
  {
   "cell_type": "code",
   "execution_count": 102,
   "metadata": {
    "collapsed": false
   },
   "outputs": [
    {
     "name": "stderr",
     "output_type": "stream",
     "text": [
      "/Users/yizhao/anaconda3/lib/python3.5/site-packages/sklearn/metrics/classification.py:1113: UndefinedMetricWarning: Precision is ill-defined and being set to 0.0 due to no predicted samples.\n",
      "  'precision', 'predicted', average, warn_for)\n",
      "/Users/yizhao/anaconda3/lib/python3.5/site-packages/sklearn/metrics/classification.py:1113: UndefinedMetricWarning: F-score is ill-defined and being set to 0.0 due to no predicted samples.\n",
      "  'precision', 'predicted', average, warn_for)\n"
     ]
    },
    {
     "data": {
      "image/png": "[encoded data removed]",
      "text/plain": [
       "<matplotlib.figure.Figure at 0x117088f28>"
      ]
     },
     "metadata": {},
     "output_type": "display_data"
    }
   ],
   "source": [
    "cut_off = np.arange(0.01,0.9,0.01)\n",
    "\n",
    "recall_test = [metrics.recall_score(y_pred= prob_test[:,1]>x, \n",
    "                            y_true = y_test) for x in cut_off]\n",
    "precision_test = [metrics.precision_score(y_pred= prob_test[:,1]>x, \n",
    "                            y_true = y_test) for x in cut_off]\n",
    "f1_test = [metrics.f1_score(y_pred= prob_test[:,1]>x, \n",
    "                            y_true = y_test) for x in cut_off]\n",
    "fig, ax = plt.subplots()\n",
    "ax.plot(cut_off, recall_test, label = 'Recall', color = 'purple')\n",
    "ax.plot(cut_off, precision_test, color = 'green', label = 'Precision')\n",
    "ax.plot(cut_off, f1_test, color = 'blue', label = 'f1-score')\n",
    "legend = ax.legend(loc='upper center', shadow=True)\n",
    "ax.set_title('XGBoost')\n",
    "ax.set_xlabel('Cut off probability for being 1 (dissatisfied customer)')\n",
    "ax.set_ylabel('Recall and precision score for test set')\n",
    "plt.show()"
   ]
  },
  {
   "cell_type": "code",
   "execution_count": 103,
   "metadata": {
    "collapsed": false,
    "scrolled": true
   },
   "outputs": [
    {
     "data": {
      "text/plain": [
       "Predicted  False  True  __all__\n",
       "Actual                         \n",
       "False      16769  1489    18258\n",
       "True         390   357      747\n",
       "__all__    17159  1846    19005"
      ]
     },
     "execution_count": 103,
     "metadata": {},
     "output_type": "execute_result"
    }
   ],
   "source": [
    "ConfusionMatrix(y_true = y_test, y_pred = prob_test[:,1]>0.13)"
   ]
  },
  {
   "cell_type": "markdown",
   "metadata": {},
   "source": [
    "* Recall always increases with a decreasing probability threshold for predicting as positive.\n",
    "* The number of False Positives is less alarming, because trying to improve service to those that were not going to leave wouldn't hurt. Falsely ignoring the dissatisfied customers, however, would be much more hurtful. \n",
    "* The recall score at a highest F1-score of this XGBoost model is 0.478, which is slightly lower than the recall of 0.507 in Logistic Regression with an optimal threshold of 0.08. \n",
    "Yet, this XGBoost model does have a higher precision, and a higher f-1 score. For the purpose of reducing False Negatives, however, logistic regression was still slighly better."
   ]
  },
  {
   "cell_type": "markdown",
   "metadata": {},
   "source": [
    "### Bootstrap the training set to ensure balanced positive and negative observations"
   ]
  },
  {
   "cell_type": "code",
   "execution_count": 104,
   "metadata": {
    "collapsed": true
   },
   "outputs": [],
   "source": [
    "X_train, X_test, y_train, y_test = train_test_split(X, y, random_state= seed)\n",
    "\n",
    "# divid the training set into 0 and 1\n",
    "y_train_pos = y_train[y_train == 1] # only dissatisfied customers\n",
    "X_train_pos = X_train[y_train == 1]\n",
    "\n",
    "y_train_neg = y_train[y_train == 0] # subset the training set to only those with satisfied customers\n",
    "X_train_neg = X_train[y_train == 0]\n",
    "\n",
    "reps = round(X_train.shape[0]/2)\n",
    "\n",
    "pos_i = np.random.choice(X_train_pos.shape[0], reps)\n",
    "neg_i = np.random.choice(X_train_neg.shape[0], reps)\n",
    "\n",
    "X_res = np.concatenate([X_train_pos[pos_i] , \n",
    "                        X_train_neg[neg_i]])\n",
    "            # pd.concat([X_train_pos.iloc[pos_i, :], \n",
    "         #          X_train_neg.iloc[neg_i, :]], axis = 0)\n",
    "y_res = np.concatenate([y_train_pos[pos_i] , \n",
    "                        y_train_neg[neg_i]])"
   ]
  },
  {
   "cell_type": "code",
   "execution_count": 105,
   "metadata": {
    "collapsed": false
   },
   "outputs": [
    {
     "name": "stdout",
     "output_type": "stream",
     "text": [
      "Bootstrapped Logistic Regression AUC score:  0.783211936364\n"
     ]
    },
    {
     "data": {
      "text/plain": [
       "Predicted      0     1  __all__\n",
       "Actual                         \n",
       "0          12281  5977    18258\n",
       "1            202   545      747\n",
       "__all__    12483  6522    19005"
      ]
     },
     "execution_count": 105,
     "metadata": {},
     "output_type": "execute_result"
    }
   ],
   "source": [
    "LG = LogisticRegression(C=0.1)\n",
    "LG.fit(X_res, y_res)\n",
    "\n",
    "pred_train = LG.predict(X_res)\n",
    "pred_test = LG.predict(X_test)\n",
    "\n",
    "prob_test = LG.predict_proba(X_test)\n",
    "print(\"Bootstrapped Logistic Regression AUC score: \"\n",
    "    ,metrics.roc_auc_score(y_true = y_test,  y_score = prob_test[:,1]))\n",
    "\n",
    "ConfusionMatrix(y_true = y_test, y_pred = pred_test)"
   ]
  },
  {
   "cell_type": "code",
   "execution_count": 106,
   "metadata": {
    "collapsed": false
   },
   "outputs": [
    {
     "data": {
      "image/png": "[encoded data removed]",
      "text/plain": [
       "<matplotlib.figure.Figure at 0x11582e240>"
      ]
     },
     "metadata": {},
     "output_type": "display_data"
    }
   ],
   "source": [
    "prob_test = LG.predict_proba(X_test)\n",
    "\n",
    "recall_test = [metrics.recall_score(y_pred= prob_test[:,1]>x, \n",
    "                            y_true = y_test) for x in cut_off]\n",
    "precision_test = [metrics.precision_score(y_pred= prob_test[:,1]>x, \n",
    "                            y_true = y_test) for x in cut_off]\n",
    "f1_test = [metrics.f1_score(y_pred= prob_test[:,1]>x, \n",
    "                            y_true = y_test) for x in cut_off]\n",
    "fig, ax = plt.subplots()\n",
    "ax.plot(cut_off, recall_test, label = 'Recall', color = 'purple')\n",
    "ax.plot(cut_off, precision_test, color = 'green', label = 'Precision')\n",
    "ax.plot(cut_off, f1_test, color = 'blue', label = 'f1-score')\n",
    "legend = ax.legend(loc='upper center', shadow=True)\n",
    "ax.set_title('Logistic Regression')\n",
    "ax.set_xlabel('Cut off probability for being 1 (dissatisfied customer)')\n",
    "ax.set_ylabel('Recall and precision score for test set')\n",
    "plt.show()"
   ]
  },
  {
   "cell_type": "code",
   "execution_count": 110,
   "metadata": {
    "collapsed": false
   },
   "outputs": [
    {
     "data": {
      "text/plain": [
       "Predicted  False  True  __all__\n",
       "Actual                         \n",
       "False      16025  2233    18258\n",
       "True         358   389      747\n",
       "__all__    16383  2622    19005"
      ]
     },
     "execution_count": 110,
     "metadata": {},
     "output_type": "execute_result"
    }
   ],
   "source": [
    "ConfusionMatrix(y_true = y_test, y_pred = prob_test[:,1]>0.66)"
   ]
  },
  {
   "cell_type": "markdown",
   "metadata": {},
   "source": [
    "* Obtained about the same level of F-1 score as the Logistic Regression model without any bootstrap\n",
    "* Recall is higher with a corresponding loss in having a higher number of False Positives."
   ]
  },
  {
   "cell_type": "code",
   "execution_count": null,
   "metadata": {
    "collapsed": true
   },
   "outputs": [],
   "source": []
  }
 ],
 "metadata": {
  "anaconda-cloud": {},
  "kernelspec": {
   "display_name": "Python [conda root]",
   "language": "python",
   "name": "conda-root-py"
  },
  "language_info": {
   "codemirror_mode": {
    "name": "ipython",
    "version": 3
   },
   "file_extension": ".py",
   "mimetype": "text/x-python",
   "name": "python",
   "nbconvert_exporter": "python",
   "pygments_lexer": "ipython3",
   "version": "3.5.2"
  }
 },
 "nbformat": 4,
 "nbformat_minor": 1
}
