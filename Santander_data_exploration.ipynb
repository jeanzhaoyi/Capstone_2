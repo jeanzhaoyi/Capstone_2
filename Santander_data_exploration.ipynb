{
 "cells": [
  {
   "cell_type": "code",
   "execution_count": 22,
   "metadata": {
    "collapsed": true
   },
   "outputs": [],
   "source": [
    "import numpy as np\n",
    "import pandas as pd\n",
    "import matplotlib.pyplot as plt"
   ]
  },
  {
   "cell_type": "code",
   "execution_count": 3,
   "metadata": {
    "collapsed": false
   },
   "outputs": [
    {
     "data": {
      "text/html": [
       "<div>\n",
       "<table border=\"1\" class=\"dataframe\">\n",
       "  <thead>\n",
       "    <tr style=\"text-align: right;\">\n",
       "      <th></th>\n",
       "      <th>ID</th>\n",
       "      <th>var3</th>\n",
       "      <th>var15</th>\n",
       "      <th>imp_ent_var16_ult1</th>\n",
       "      <th>imp_op_var39_comer_ult1</th>\n",
       "      <th>imp_op_var39_comer_ult3</th>\n",
       "      <th>imp_op_var40_comer_ult1</th>\n",
       "      <th>imp_op_var40_comer_ult3</th>\n",
       "      <th>imp_op_var40_efect_ult1</th>\n",
       "      <th>imp_op_var40_efect_ult3</th>\n",
       "      <th>...</th>\n",
       "      <th>saldo_medio_var33_hace2</th>\n",
       "      <th>saldo_medio_var33_hace3</th>\n",
       "      <th>saldo_medio_var33_ult1</th>\n",
       "      <th>saldo_medio_var33_ult3</th>\n",
       "      <th>saldo_medio_var44_hace2</th>\n",
       "      <th>saldo_medio_var44_hace3</th>\n",
       "      <th>saldo_medio_var44_ult1</th>\n",
       "      <th>saldo_medio_var44_ult3</th>\n",
       "      <th>var38</th>\n",
       "      <th>TARGET</th>\n",
       "    </tr>\n",
       "  </thead>\n",
       "  <tbody>\n",
       "    <tr>\n",
       "      <th>0</th>\n",
       "      <td>1</td>\n",
       "      <td>2</td>\n",
       "      <td>23</td>\n",
       "      <td>0.0</td>\n",
       "      <td>0.0</td>\n",
       "      <td>0.0</td>\n",
       "      <td>0.0</td>\n",
       "      <td>0.0</td>\n",
       "      <td>0.0</td>\n",
       "      <td>0.0</td>\n",
       "      <td>...</td>\n",
       "      <td>0.0</td>\n",
       "      <td>0.0</td>\n",
       "      <td>0.0</td>\n",
       "      <td>0.0</td>\n",
       "      <td>0.0</td>\n",
       "      <td>0.0</td>\n",
       "      <td>0.0</td>\n",
       "      <td>0.0</td>\n",
       "      <td>39205.170000</td>\n",
       "      <td>0</td>\n",
       "    </tr>\n",
       "    <tr>\n",
       "      <th>1</th>\n",
       "      <td>3</td>\n",
       "      <td>2</td>\n",
       "      <td>34</td>\n",
       "      <td>0.0</td>\n",
       "      <td>0.0</td>\n",
       "      <td>0.0</td>\n",
       "      <td>0.0</td>\n",
       "      <td>0.0</td>\n",
       "      <td>0.0</td>\n",
       "      <td>0.0</td>\n",
       "      <td>...</td>\n",
       "      <td>0.0</td>\n",
       "      <td>0.0</td>\n",
       "      <td>0.0</td>\n",
       "      <td>0.0</td>\n",
       "      <td>0.0</td>\n",
       "      <td>0.0</td>\n",
       "      <td>0.0</td>\n",
       "      <td>0.0</td>\n",
       "      <td>49278.030000</td>\n",
       "      <td>0</td>\n",
       "    </tr>\n",
       "    <tr>\n",
       "      <th>2</th>\n",
       "      <td>4</td>\n",
       "      <td>2</td>\n",
       "      <td>23</td>\n",
       "      <td>0.0</td>\n",
       "      <td>0.0</td>\n",
       "      <td>0.0</td>\n",
       "      <td>0.0</td>\n",
       "      <td>0.0</td>\n",
       "      <td>0.0</td>\n",
       "      <td>0.0</td>\n",
       "      <td>...</td>\n",
       "      <td>0.0</td>\n",
       "      <td>0.0</td>\n",
       "      <td>0.0</td>\n",
       "      <td>0.0</td>\n",
       "      <td>0.0</td>\n",
       "      <td>0.0</td>\n",
       "      <td>0.0</td>\n",
       "      <td>0.0</td>\n",
       "      <td>67333.770000</td>\n",
       "      <td>0</td>\n",
       "    </tr>\n",
       "    <tr>\n",
       "      <th>3</th>\n",
       "      <td>8</td>\n",
       "      <td>2</td>\n",
       "      <td>37</td>\n",
       "      <td>0.0</td>\n",
       "      <td>195.0</td>\n",
       "      <td>195.0</td>\n",
       "      <td>0.0</td>\n",
       "      <td>0.0</td>\n",
       "      <td>0.0</td>\n",
       "      <td>0.0</td>\n",
       "      <td>...</td>\n",
       "      <td>0.0</td>\n",
       "      <td>0.0</td>\n",
       "      <td>0.0</td>\n",
       "      <td>0.0</td>\n",
       "      <td>0.0</td>\n",
       "      <td>0.0</td>\n",
       "      <td>0.0</td>\n",
       "      <td>0.0</td>\n",
       "      <td>64007.970000</td>\n",
       "      <td>0</td>\n",
       "    </tr>\n",
       "    <tr>\n",
       "      <th>4</th>\n",
       "      <td>10</td>\n",
       "      <td>2</td>\n",
       "      <td>39</td>\n",
       "      <td>0.0</td>\n",
       "      <td>0.0</td>\n",
       "      <td>0.0</td>\n",
       "      <td>0.0</td>\n",
       "      <td>0.0</td>\n",
       "      <td>0.0</td>\n",
       "      <td>0.0</td>\n",
       "      <td>...</td>\n",
       "      <td>0.0</td>\n",
       "      <td>0.0</td>\n",
       "      <td>0.0</td>\n",
       "      <td>0.0</td>\n",
       "      <td>0.0</td>\n",
       "      <td>0.0</td>\n",
       "      <td>0.0</td>\n",
       "      <td>0.0</td>\n",
       "      <td>117310.979016</td>\n",
       "      <td>0</td>\n",
       "    </tr>\n",
       "  </tbody>\n",
       "</table>\n",
       "<p>5 rows × 371 columns</p>\n",
       "</div>"
      ],
      "text/plain": [
       "   ID  var3  var15  imp_ent_var16_ult1  imp_op_var39_comer_ult1  \\\n",
       "0   1     2     23                 0.0                      0.0   \n",
       "1   3     2     34                 0.0                      0.0   \n",
       "2   4     2     23                 0.0                      0.0   \n",
       "3   8     2     37                 0.0                    195.0   \n",
       "4  10     2     39                 0.0                      0.0   \n",
       "\n",
       "   imp_op_var39_comer_ult3  imp_op_var40_comer_ult1  imp_op_var40_comer_ult3  \\\n",
       "0                      0.0                      0.0                      0.0   \n",
       "1                      0.0                      0.0                      0.0   \n",
       "2                      0.0                      0.0                      0.0   \n",
       "3                    195.0                      0.0                      0.0   \n",
       "4                      0.0                      0.0                      0.0   \n",
       "\n",
       "   imp_op_var40_efect_ult1  imp_op_var40_efect_ult3   ...    \\\n",
       "0                      0.0                      0.0   ...     \n",
       "1                      0.0                      0.0   ...     \n",
       "2                      0.0                      0.0   ...     \n",
       "3                      0.0                      0.0   ...     \n",
       "4                      0.0                      0.0   ...     \n",
       "\n",
       "   saldo_medio_var33_hace2  saldo_medio_var33_hace3  saldo_medio_var33_ult1  \\\n",
       "0                      0.0                      0.0                     0.0   \n",
       "1                      0.0                      0.0                     0.0   \n",
       "2                      0.0                      0.0                     0.0   \n",
       "3                      0.0                      0.0                     0.0   \n",
       "4                      0.0                      0.0                     0.0   \n",
       "\n",
       "   saldo_medio_var33_ult3  saldo_medio_var44_hace2  saldo_medio_var44_hace3  \\\n",
       "0                     0.0                      0.0                      0.0   \n",
       "1                     0.0                      0.0                      0.0   \n",
       "2                     0.0                      0.0                      0.0   \n",
       "3                     0.0                      0.0                      0.0   \n",
       "4                     0.0                      0.0                      0.0   \n",
       "\n",
       "   saldo_medio_var44_ult1  saldo_medio_var44_ult3          var38  TARGET  \n",
       "0                     0.0                     0.0   39205.170000       0  \n",
       "1                     0.0                     0.0   49278.030000       0  \n",
       "2                     0.0                     0.0   67333.770000       0  \n",
       "3                     0.0                     0.0   64007.970000       0  \n",
       "4                     0.0                     0.0  117310.979016       0  \n",
       "\n",
       "[5 rows x 371 columns]"
      ]
     },
     "execution_count": 3,
     "metadata": {},
     "output_type": "execute_result"
    }
   ],
   "source": [
    "# read in the training set file\n",
    "\n",
    "train_raw = pd.read_csv('train.csv')\n",
    "train_raw.head()"
   ]
  },
  {
   "cell_type": "code",
   "execution_count": 3,
   "metadata": {
    "collapsed": false
   },
   "outputs": [
    {
     "name": "stdout",
     "output_type": "stream",
     "text": [
      "<class 'pandas.core.frame.DataFrame'>\n",
      "RangeIndex: 76020 entries, 0 to 76019\n",
      "Columns: 371 entries, ID to TARGET\n",
      "dtypes: float64(111), int64(260)\n",
      "memory usage: 215.2 MB\n"
     ]
    }
   ],
   "source": [
    "train_raw.info()\n",
    "# there are 370 features to predict the target\n"
   ]
  },
  {
   "cell_type": "code",
   "execution_count": 88,
   "metadata": {
    "collapsed": false
   },
   "outputs": [
    {
     "data": {
      "text/plain": [
       "TARGET\n",
       "0    73012\n",
       "1     3008\n",
       "dtype: int64"
      ]
     },
     "execution_count": 88,
     "metadata": {},
     "output_type": "execute_result"
    }
   ],
   "source": [
    "train_raw.groupby('TARGET').size() "
   ]
  },
  {
   "cell_type": "markdown",
   "metadata": {},
   "source": [
    "The \"TARGET\" column is the variable to predict. It equals 1 for unsatisfied customers and 0 for satisfied customers. We don't have information on what each feature variable actually means or refers to. There are 3008 out of 73012 dissatisfied customers, or\n",
    "only 4%.<p>\n",
    "This problem is almost an outlier identification problem, as the dissatisfied customers could be considered outliers"
   ]
  },
  {
   "cell_type": "code",
   "execution_count": 11,
   "metadata": {
    "collapsed": false
   },
   "outputs": [
    {
     "data": {
      "text/html": [
       "<div>\n",
       "<table border=\"1\" class=\"dataframe\">\n",
       "  <thead>\n",
       "    <tr style=\"text-align: right;\">\n",
       "      <th></th>\n",
       "      <th>ind_var1_0</th>\n",
       "      <th>ind_var1</th>\n",
       "      <th>ind_var2_0</th>\n",
       "      <th>ind_var2</th>\n",
       "      <th>ind_var5_0</th>\n",
       "      <th>ind_var5</th>\n",
       "      <th>ind_var6_0</th>\n",
       "      <th>ind_var6</th>\n",
       "      <th>ind_var8_0</th>\n",
       "      <th>ind_var8</th>\n",
       "      <th>ind_var12_0</th>\n",
       "    </tr>\n",
       "  </thead>\n",
       "  <tbody>\n",
       "    <tr>\n",
       "      <th>count</th>\n",
       "      <td>76020.000000</td>\n",
       "      <td>76020.000000</td>\n",
       "      <td>76020.0</td>\n",
       "      <td>76020.0</td>\n",
       "      <td>76020.000000</td>\n",
       "      <td>76020.000000</td>\n",
       "      <td>76020.000000</td>\n",
       "      <td>76020.000000</td>\n",
       "      <td>76020.000000</td>\n",
       "      <td>76020.000000</td>\n",
       "      <td>76020.000000</td>\n",
       "    </tr>\n",
       "    <tr>\n",
       "      <th>mean</th>\n",
       "      <td>0.011458</td>\n",
       "      <td>0.003762</td>\n",
       "      <td>0.0</td>\n",
       "      <td>0.0</td>\n",
       "      <td>0.958024</td>\n",
       "      <td>0.663760</td>\n",
       "      <td>0.000105</td>\n",
       "      <td>0.000026</td>\n",
       "      <td>0.032833</td>\n",
       "      <td>0.028598</td>\n",
       "      <td>0.067522</td>\n",
       "    </tr>\n",
       "    <tr>\n",
       "      <th>std</th>\n",
       "      <td>0.106425</td>\n",
       "      <td>0.061221</td>\n",
       "      <td>0.0</td>\n",
       "      <td>0.0</td>\n",
       "      <td>0.200535</td>\n",
       "      <td>0.472425</td>\n",
       "      <td>0.010258</td>\n",
       "      <td>0.005129</td>\n",
       "      <td>0.178202</td>\n",
       "      <td>0.166674</td>\n",
       "      <td>0.250925</td>\n",
       "    </tr>\n",
       "    <tr>\n",
       "      <th>min</th>\n",
       "      <td>0.000000</td>\n",
       "      <td>0.000000</td>\n",
       "      <td>0.0</td>\n",
       "      <td>0.0</td>\n",
       "      <td>0.000000</td>\n",
       "      <td>0.000000</td>\n",
       "      <td>0.000000</td>\n",
       "      <td>0.000000</td>\n",
       "      <td>0.000000</td>\n",
       "      <td>0.000000</td>\n",
       "      <td>0.000000</td>\n",
       "    </tr>\n",
       "    <tr>\n",
       "      <th>25%</th>\n",
       "      <td>0.000000</td>\n",
       "      <td>0.000000</td>\n",
       "      <td>0.0</td>\n",
       "      <td>0.0</td>\n",
       "      <td>1.000000</td>\n",
       "      <td>0.000000</td>\n",
       "      <td>0.000000</td>\n",
       "      <td>0.000000</td>\n",
       "      <td>0.000000</td>\n",
       "      <td>0.000000</td>\n",
       "      <td>0.000000</td>\n",
       "    </tr>\n",
       "    <tr>\n",
       "      <th>50%</th>\n",
       "      <td>0.000000</td>\n",
       "      <td>0.000000</td>\n",
       "      <td>0.0</td>\n",
       "      <td>0.0</td>\n",
       "      <td>1.000000</td>\n",
       "      <td>1.000000</td>\n",
       "      <td>0.000000</td>\n",
       "      <td>0.000000</td>\n",
       "      <td>0.000000</td>\n",
       "      <td>0.000000</td>\n",
       "      <td>0.000000</td>\n",
       "    </tr>\n",
       "    <tr>\n",
       "      <th>75%</th>\n",
       "      <td>0.000000</td>\n",
       "      <td>0.000000</td>\n",
       "      <td>0.0</td>\n",
       "      <td>0.0</td>\n",
       "      <td>1.000000</td>\n",
       "      <td>1.000000</td>\n",
       "      <td>0.000000</td>\n",
       "      <td>0.000000</td>\n",
       "      <td>0.000000</td>\n",
       "      <td>0.000000</td>\n",
       "      <td>0.000000</td>\n",
       "    </tr>\n",
       "    <tr>\n",
       "      <th>max</th>\n",
       "      <td>1.000000</td>\n",
       "      <td>1.000000</td>\n",
       "      <td>0.0</td>\n",
       "      <td>0.0</td>\n",
       "      <td>1.000000</td>\n",
       "      <td>1.000000</td>\n",
       "      <td>1.000000</td>\n",
       "      <td>1.000000</td>\n",
       "      <td>1.000000</td>\n",
       "      <td>1.000000</td>\n",
       "      <td>1.000000</td>\n",
       "    </tr>\n",
       "  </tbody>\n",
       "</table>\n",
       "</div>"
      ],
      "text/plain": [
       "         ind_var1_0      ind_var1  ind_var2_0  ind_var2    ind_var5_0  \\\n",
       "count  76020.000000  76020.000000     76020.0   76020.0  76020.000000   \n",
       "mean       0.011458      0.003762         0.0       0.0      0.958024   \n",
       "std        0.106425      0.061221         0.0       0.0      0.200535   \n",
       "min        0.000000      0.000000         0.0       0.0      0.000000   \n",
       "25%        0.000000      0.000000         0.0       0.0      1.000000   \n",
       "50%        0.000000      0.000000         0.0       0.0      1.000000   \n",
       "75%        0.000000      0.000000         0.0       0.0      1.000000   \n",
       "max        1.000000      1.000000         0.0       0.0      1.000000   \n",
       "\n",
       "           ind_var5    ind_var6_0      ind_var6    ind_var8_0      ind_var8  \\\n",
       "count  76020.000000  76020.000000  76020.000000  76020.000000  76020.000000   \n",
       "mean       0.663760      0.000105      0.000026      0.032833      0.028598   \n",
       "std        0.472425      0.010258      0.005129      0.178202      0.166674   \n",
       "min        0.000000      0.000000      0.000000      0.000000      0.000000   \n",
       "25%        0.000000      0.000000      0.000000      0.000000      0.000000   \n",
       "50%        1.000000      0.000000      0.000000      0.000000      0.000000   \n",
       "75%        1.000000      0.000000      0.000000      0.000000      0.000000   \n",
       "max        1.000000      1.000000      1.000000      1.000000      1.000000   \n",
       "\n",
       "        ind_var12_0  \n",
       "count  76020.000000  \n",
       "mean       0.067522  \n",
       "std        0.250925  \n",
       "min        0.000000  \n",
       "25%        0.000000  \n",
       "50%        0.000000  \n",
       "75%        0.000000  \n",
       "max        1.000000  "
      ]
     },
     "execution_count": 11,
     "metadata": {},
     "output_type": "execute_result"
    }
   ],
   "source": [
    "summary = train_raw.describe() # descriptive statistics of all variables\n",
    "summary.iloc[:,20:31]"
   ]
  },
  {
   "cell_type": "markdown",
   "metadata": {},
   "source": [
    "It looks like all of the predictor variables are continuous. Some of them have hidden NA values, such as \"-999999\" as a minimum value of var3. It could also be that certain categorical varables were mistaken as continuous. If a variable has only a handful of unique vales and they are all integers ordered in a sequence, it would be very likely to be a categorical or ordered variable."
   ]
  },
  {
   "cell_type": "code",
   "execution_count": 8,
   "metadata": {
    "collapsed": false
   },
   "outputs": [
    {
     "data": {
      "text/plain": [
       "ID                         76020\n",
       "var3                         208\n",
       "var15                        100\n",
       "imp_ent_var16_ult1           596\n",
       "imp_op_var39_comer_ult1     7551\n",
       "imp_op_var39_comer_ult3     9099\n",
       "imp_op_var40_comer_ult1      293\n",
       "imp_op_var40_comer_ult3      346\n",
       "imp_op_var40_efect_ult1       23\n",
       "imp_op_var40_efect_ult3       29\n",
       "imp_op_var40_ult1            224\n",
       "imp_op_var41_comer_ult1     7421\n",
       "imp_op_var41_comer_ult3     8961\n",
       "imp_op_var41_efect_ult1      331\n",
       "imp_op_var41_efect_ult3      454\n",
       "imp_op_var41_ult1           8032\n",
       "imp_op_var39_efect_ult1      336\n",
       "imp_op_var39_efect_ult3      462\n",
       "imp_op_var39_ult1           8149\n",
       "imp_sal_var16_ult1            66\n",
       "ind_var1_0                     2\n",
       "ind_var1                       2\n",
       "ind_var2_0                     1\n",
       "ind_var2                       1\n",
       "ind_var5_0                     2\n",
       "ind_var5                       2\n",
       "ind_var6_0                     2\n",
       "ind_var6                       2\n",
       "ind_var8_0                     2\n",
       "ind_var8                       2\n",
       "ind_var12_0                    2\n",
       "ind_var12                      2\n",
       "ind_var13_0                    2\n",
       "ind_var13_corto_0              2\n",
       "ind_var13_corto                2\n",
       "ind_var13_largo_0              2\n",
       "ind_var13_largo                2\n",
       "ind_var13_medio_0              2\n",
       "ind_var13_medio                2\n",
       "ind_var13                      2\n",
       "ind_var14_0                    2\n",
       "ind_var14                      2\n",
       "ind_var17_0                    2\n",
       "ind_var17                      2\n",
       "ind_var18_0                    2\n",
       "ind_var18                      2\n",
       "ind_var19                      2\n",
       "ind_var20_0                    2\n",
       "ind_var20                      2\n",
       "ind_var24_0                    2\n",
       "dtype: int64"
      ]
     },
     "execution_count": 8,
     "metadata": {},
     "output_type": "execute_result"
    }
   ],
   "source": [
    "# apply a function to each column that counts the total number of unique values\n",
    "var_uniq = train_raw.apply(lambda x : np.unique(x).size, axis = 0)\n",
    "var_uniq[:50]"
   ]
  },
  {
   "cell_type": "markdown",
   "metadata": {},
   "source": [
    "First, check the histogram to see the distribution of unique value size among feature variables.\n",
    "<ul>\n",
    "    <li>When there are over 100 unique values, it is very likely that the variabel is continuous.</li>\n",
    "  <li>When there are 2 unique values, it is very likely a binary or dummy variable.</li>\n",
    "  <li>When there is only 1 unique value, this variable could be discarded.</li>\n",
    "</ul>\n",
    " "
   ]
  },
  {
   "cell_type": "code",
   "execution_count": 19,
   "metadata": {
    "collapsed": false
   },
   "outputs": [
    {
     "data": {
      "image/png": "[encoded data removed]",
      "text/plain": [
       "<matplotlib.figure.Figure at 0x1202849b0>"
      ]
     },
     "metadata": {},
     "output_type": "display_data"
    }
   ],
   "source": [
    "plt.hist(var_uniq[var_uniq<100])\n",
    "plt.xlabel('Number of unique values in a variable')\n",
    "plt.ylabel('Frequency')\n",
    "plt.show()"
   ]
  },
  {
   "cell_type": "markdown",
   "metadata": {},
   "source": [
    "It looks like there are about 65% of the features with less than 10 unique values. Let's take a closer look at variables with 10 unique values or less."
   ]
  },
  {
   "cell_type": "code",
   "execution_count": 20,
   "metadata": {
    "collapsed": false
   },
   "outputs": [
    {
     "data": {
      "image/png": "[encoded data removed]",
      "text/plain": [
       "<matplotlib.figure.Figure at 0x1043c4e10>"
      ]
     },
     "metadata": {},
     "output_type": "display_data"
    }
   ],
   "source": [
    "plt.hist(var_uniq[var_uniq<10])\n",
    "plt.xlabel('Number of unique values in a variable')\n",
    "plt.ylabel('Frequency')\n",
    "plt.show()"
   ]
  },
  {
   "cell_type": "code",
   "execution_count": 27,
   "metadata": {
    "collapsed": false
   },
   "outputs": [
    {
     "name": "stdout",
     "output_type": "stream",
     "text": [
      "[ 0.  1.]\n",
      "[ 0.  1.]\n",
      "[ 0.  1.]\n",
      "[ 0.  1.]\n",
      "[ 0.  1.]\n",
      "[ 0.  1.]\n",
      "[ 0.  1.]\n",
      "[ 0.  1.]\n",
      "[ 0.  1.]\n",
      "[ 0.  1.]\n",
      "[ 0.  1.]\n",
      "[ 0.  1.]\n",
      "[ 0.  1.]\n",
      "[ 0.  1.]\n",
      "[ 0.  1.]\n",
      "[ 0.  1.]\n",
      "[ 0.  1.]\n",
      "[ 0.  1.]\n",
      "[ 0.  1.]\n",
      "[ 0.  1.]\n",
      "[ 0.  1.]\n",
      "[ 0.  1.]\n",
      "[ 0.  1.]\n",
      "[ 0.  1.]\n",
      "[ 0.  1.]\n",
      "[ 0.  1.]\n",
      "[ 0.  1.]\n",
      "[ 0.  1.]\n",
      "[ 0.  1.]\n",
      "[ 0.  1.]\n",
      "[ 0.  1.]\n",
      "[ 0.  1.]\n",
      "[ 0.  1.]\n",
      "[ 0.  1.]\n",
      "[ 0.  1.]\n",
      "[ 0.  1.]\n",
      "[ 0.  1.]\n",
      "[ 0.  1.]\n",
      "[ 0.  1.]\n",
      "[ 0.  1.]\n",
      "[ 0.  1.]\n",
      "[ 0.  1.]\n",
      "[ 0.  1.]\n",
      "[ 0.  1.]\n",
      "[ 0.  1.]\n",
      "[ 0.  1.]\n",
      "[ 0.  1.]\n",
      "[ 0.  1.]\n",
      "[ 0.  1.]\n",
      "[ 0.  1.]\n",
      "[ 0.  1.]\n",
      "[ 0.  1.]\n",
      "[ 0.  1.]\n",
      "[ 0.  1.]\n",
      "[ 0.  1.]\n",
      "[ 0.  1.]\n",
      "[ 0.  1.]\n",
      "[ 0.  1.]\n",
      "[ 0.  3.]\n",
      "[ 0.  3.]\n",
      "[ 0.  3.]\n",
      "[ 0.  3.]\n",
      "[ 0.  3.]\n",
      "[ 0.  3.]\n",
      "[ 0.  3.]\n",
      "[ 0.  3.]\n",
      "[ 0.  3.]\n",
      "[ 0.  3.]\n",
      "[ 0.  3.]\n",
      "[ 0.  3.]\n",
      "[ 0.  3.]\n",
      "[ 0.  3.]\n",
      "[ 0.  3.]\n",
      "[ 0.  3.]\n",
      "[  0.00000000e+00   1.00000000e+10]\n",
      "[  0.00000000e+00   1.00000000e+10]\n",
      "[  0.00000000e+00   1.00000000e+10]\n",
      "[  0.00000000e+00   1.00000000e+10]\n",
      "[  0.00000000e+00   1.00000000e+10]\n",
      "[  0.00000000e+00   1.00000000e+10]\n",
      "[  0.00000000e+00   1.00000000e+10]\n",
      "[  0.00000000e+00   1.00000000e+10]\n",
      "[  0.00000000e+00   1.00000000e+10]\n",
      "[  0.00000000e+00   1.00000000e+10]\n",
      "[     0.    12027.15]\n",
      "[    0.  1200.]\n",
      "[    0.  3000.]\n",
      "[ 0.  1.]\n",
      "[ 0.  1.]\n",
      "[ 0.  1.]\n",
      "[ 0.  1.]\n",
      "[ 0.  1.]\n",
      "[ 0.  1.]\n",
      "[ 0.  1.]\n",
      "[ 0.  1.]\n",
      "[ 0.  3.]\n",
      "[ 0.  2.]\n",
      "[ 0.  3.]\n",
      "[ 0.  3.]\n",
      "[ 0.  3.]\n",
      "[ 0.  3.]\n",
      "[ 0.  3.]\n",
      "[ 0.  3.]\n",
      "[ 0.  3.]\n",
      "[   0.   145.2]\n",
      "[ 0.  1.]\n"
     ]
    },
    {
     "data": {
      "text/plain": [
       "ind_var1_0                       None\n",
       "ind_var1                         None\n",
       "ind_var5_0                       None\n",
       "ind_var5                         None\n",
       "ind_var6_0                       None\n",
       "ind_var6                         None\n",
       "ind_var8_0                       None\n",
       "ind_var8                         None\n",
       "ind_var12_0                      None\n",
       "ind_var12                        None\n",
       "ind_var13_0                      None\n",
       "ind_var13_corto_0                None\n",
       "ind_var13_corto                  None\n",
       "ind_var13_largo_0                None\n",
       "ind_var13_largo                  None\n",
       "ind_var13_medio_0                None\n",
       "ind_var13_medio                  None\n",
       "ind_var13                        None\n",
       "ind_var14_0                      None\n",
       "ind_var14                        None\n",
       "ind_var17_0                      None\n",
       "ind_var17                        None\n",
       "ind_var18_0                      None\n",
       "ind_var18                        None\n",
       "ind_var19                        None\n",
       "ind_var20_0                      None\n",
       "ind_var20                        None\n",
       "ind_var24_0                      None\n",
       "ind_var24                        None\n",
       "ind_var25_cte                    None\n",
       "                                 ... \n",
       "delta_imp_reemb_var13_1y3        None\n",
       "delta_imp_reemb_var33_1y3        None\n",
       "delta_imp_trasp_var17_out_1y3    None\n",
       "delta_imp_trasp_var33_out_1y3    None\n",
       "delta_num_reemb_var13_1y3        None\n",
       "delta_num_reemb_var33_1y3        None\n",
       "delta_num_trasp_var17_out_1y3    None\n",
       "delta_num_trasp_var33_out_1y3    None\n",
       "imp_reemb_var17_hace3            None\n",
       "imp_reemb_var33_ult1             None\n",
       "imp_trasp_var33_out_ult1         None\n",
       "ind_var7_emit_ult1               None\n",
       "ind_var7_recib_ult1              None\n",
       "ind_var10_ult1                   None\n",
       "ind_var10cte_ult1                None\n",
       "ind_var9_cte_ult1                None\n",
       "ind_var9_ult1                    None\n",
       "ind_var43_emit_ult1              None\n",
       "ind_var43_recib_ult1             None\n",
       "num_var7_emit_ult1               None\n",
       "num_meses_var13_medio_ult3       None\n",
       "num_reemb_var13_ult1             None\n",
       "num_reemb_var17_hace3            None\n",
       "num_reemb_var33_ult1             None\n",
       "num_trasp_var17_in_ult1          None\n",
       "num_trasp_var17_out_ult1         None\n",
       "num_trasp_var33_in_hace3         None\n",
       "num_trasp_var33_out_ult1         None\n",
       "saldo_medio_var29_hace3          None\n",
       "TARGET                           None\n",
       "dtype: object"
      ]
     },
     "execution_count": 27,
     "metadata": {},
     "output_type": "execute_result"
    }
   ],
   "source": [
    "# print out the unique values of variables that had only 2 unique values\n",
    "train_raw.loc[:,var_uniq==2].apply(lambda x: print(np.unique(x)), axis= 0)"
   ]
  },
  {
   "cell_type": "markdown",
   "metadata": {},
   "source": [
    "All those features that have 2 unique values have 0 as one of the two values. Some features had 1 as the other value, but others have ranging from 3 to 145.2, 1200, 12027.15. Those features would have a misleading mean and standard deviation value. Their scale may also misleading our modele results. \n",
    "Even if they were indeed continuous variables, they could be converted into dummy variables encoded as {1: having a value of 'X', 0: not having a value of 'x'}."
   ]
  },
  {
   "cell_type": "code",
   "execution_count": 74,
   "metadata": {
    "collapsed": false
   },
   "outputs": [
    {
     "name": "stdout",
     "output_type": "stream",
     "text": [
      "[ 0.  3.  6.]\n",
      "[ 0.  3.  6.]\n",
      "[ 0.  3.  6.]\n",
      "[ 0.  3.  6.]\n",
      "[ 0.  3.  6.]\n",
      "[ 0.  3.  6.]\n",
      "[ 0.  3.  6.]\n",
      "[ 0.  3.  6.]\n",
      "[ 0.  3.  6.]\n",
      "[     0.   11976.6  19531.8]\n",
      "[     0.   9000.  30000.]\n",
      "[       0.   300000.  3000000.]\n",
      "[     0.   11976.6  19531.8]\n",
      "[     0.  15000.  36000.]\n",
      "[ -1.00000000e+00   0.00000000e+00   1.00000000e+10]\n",
      "[ -1.00000000e+00   0.00000000e+00   1.00000000e+10]\n",
      "[ -1.00000000e+00   0.00000000e+00   1.00000000e+10]\n",
      "[ -1.00000000e+00   0.00000000e+00   1.00000000e+10]\n",
      "[ -1.00000000e+00   0.00000000e+00   1.00000000e+10]\n",
      "[ -1.00000000e+00   0.00000000e+00   1.00000000e+10]\n",
      "[     0.     1883.22  15691.8 ]\n",
      "[    0.     276.24  1096.02]\n",
      "[     0.    45741.48  96781.44]\n",
      "[ 0.  3.  6.]\n",
      "[ 0.  1.  2.]\n",
      "[ 0.  3.  6.]\n",
      "[ 0.  3.  6.]\n",
      "[ 0.  3.  6.]\n",
      "[    0.    5586.21  7741.95]\n",
      "[     0.   9000.  30000.]\n",
      "[     0.     7293.12  18870.99]\n"
     ]
    },
    {
     "data": {
      "text/plain": [
       "num_var1_0                       None\n",
       "num_var1                         None\n",
       "num_var8_0                       None\n",
       "num_var13_corto_0                None\n",
       "num_var13_corto                  None\n",
       "num_var24                        None\n",
       "num_var33                        None\n",
       "num_var40_0                      None\n",
       "num_var44_0                      None\n",
       "saldo_var6                       None\n",
       "saldo_var13_medio                None\n",
       "saldo_var18                      None\n",
       "saldo_var29                      None\n",
       "saldo_var34                      None\n",
       "delta_imp_reemb_var17_1y3        None\n",
       "delta_imp_trasp_var17_in_1y3     None\n",
       "delta_imp_trasp_var33_in_1y3     None\n",
       "delta_num_reemb_var17_1y3        None\n",
       "delta_num_trasp_var17_in_1y3     None\n",
       "delta_num_trasp_var33_in_1y3     None\n",
       "imp_amort_var18_ult1             None\n",
       "imp_amort_var34_ult1             None\n",
       "imp_trasp_var17_in_hace3         None\n",
       "num_aport_var33_ult1             None\n",
       "num_meses_var29_ult3             None\n",
       "num_trasp_var17_in_hace3         None\n",
       "num_trasp_var33_in_ult1          None\n",
       "num_venta_var44_hace3            None\n",
       "saldo_medio_var13_medio_hace2    None\n",
       "saldo_medio_var13_medio_ult1     None\n",
       "saldo_medio_var13_medio_ult3     None\n",
       "dtype: object"
      ]
     },
     "execution_count": 74,
     "metadata": {},
     "output_type": "execute_result"
    }
   ],
   "source": [
    "# print out the unique values of variables that had only 3 unique values\n",
    "train_raw.loc[:,var_uniq==3].apply(lambda x: print(np.unique(x)), axis= 0)"
   ]
  },
  {
   "cell_type": "code",
   "execution_count": 124,
   "metadata": {
    "collapsed": false
   },
   "outputs": [
    {
     "name": "stdout",
     "output_type": "stream",
     "text": [
      "num_var1_0 [0 3 6]\n",
      "num_var1 [0 3 6]\n",
      "num_var4 [0 1 2 3 4 5 6 7]\n",
      "num_var5_0 [ 0  3  6  9 15]\n",
      "num_var5 [ 0  3  6  9 15]\n",
      "num_var8_0 [0 3 6]\n",
      "num_var12_0 [  0   3   6   9  15 111]\n",
      "num_var12 [ 0  3  6 15]\n",
      "num_var13_0 [ 0  3  6  9 12 15 18]\n",
      "num_var13_corto_0 [0 3 6]\n",
      "num_var13_corto [0 3 6]\n",
      "num_var13_largo_0 [ 0  3  6  9 12 15 18]\n",
      "num_var13_largo [ 0  3  6  9 12 15 18]\n",
      "num_var13 [ 0  3  6  9 12 15 18]\n",
      "num_var14_0 [  0   3   6  12 111]\n",
      "num_var14 [ 0  3  6 12]\n",
      "num_var17_0 [ 0  3  6  9 12 15 18 21 24 27 36]\n",
      "num_var17 [ 0  3  6  9 12 15 18 21 27]\n",
      "num_var24_0 [0 3 6 9]\n",
      "num_var24 [0 3 6]\n",
      "num_var26_0 [ 0  3  6  9 12 15 21 27 33]\n",
      "num_var26 [ 0  3  6  9 12 15 21 27 33]\n",
      "num_var25_0 [ 0  3  6  9 12 15 21 27 33]\n",
      "num_var25 [ 0  3  6  9 12 15 21 27 33]\n",
      "num_op_var40_hace2 [  0   3   6   9  12  15  18  21  24  27  30  42  45  51  54  72  81  96\n",
      " 117]\n",
      "num_op_var40_hace3 [ 0  3  6  9 48]\n",
      "num_var30_0 [  0   3   6   9  12  15  18  21  24  33 114]\n",
      "num_var30 [ 0  3  6  9 12 15 18 21 33]\n",
      "num_var31_0 [ 0  3  6  9 12 15 18 21 24 27 36]\n",
      "num_var31 [ 0  3  6  9 12 15 18 21 27]\n",
      "num_var32_0 [ 0  3  6  9 12]\n",
      "num_var32 [ 0  3  6  9 12]\n",
      "num_var33_0 [ 0  3  6 12]\n",
      "num_var33 [0 3 6]\n",
      "num_var35 [ 0  3  6  9 12 15 18 21 24 27 30 33 36]\n",
      "num_var39_0 [ 0  3  6  9 12 15 18 21 33]\n",
      "num_var40_0 [0 3 6]\n",
      "num_var41_0 [ 0  3  6  9 12 15 18 21 33]\n",
      "num_var42_0 [  0   3   6   9  12  15  18 114]\n",
      "num_var42 [ 0  3  6  9 12 15 18]\n",
      "num_var44_0 [0 3 6]\n",
      "saldo_var6 [     0.   11976.6  19531.8]\n",
      "saldo_var13_medio [    0  9000 30000]\n",
      "saldo_var18 [      0  300000 3000000]\n",
      "saldo_var29 [     0.   11976.6  19531.8]\n",
      "saldo_var34 [    0 15000 36000]\n",
      "var36 [ 0  1  2  3 99]\n",
      "delta_imp_aport_var17_1y3 [ -1.00000000e+00  -7.50000000e-01   0.00000000e+00   6.85333333e-01\n",
      "   1.00005455e+00   1.50000000e+00   1.00000000e+10]\n",
      "delta_imp_aport_var33_1y3 [ -1.00000000e+00  -9.50000000e-01  -9.40476190e-01  -9.16000000e-01\n",
      "  -7.00000000e-01  -6.66666667e-01  -5.00000000e-01   0.00000000e+00\n",
      "   1.00000000e+10]\n",
      "delta_imp_compra_var44_1y3 [ -1.00000000e+00  -9.78792340e-01  -9.68480590e-01  -9.64235374e-01\n",
      "  -9.50397506e-01  -9.34030473e-01  -6.30726516e-01  -4.75738877e-01\n",
      "   0.00000000e+00   2.56232283e-02   1.51750671e-01   3.33606862e-01\n",
      "   1.88620413e+00   2.65054945e+00   3.65427830e+00   6.26760784e+00\n",
      "   1.00000000e+10]\n",
      "delta_imp_reemb_var17_1y3 [        -1          0 9999999999]\n",
      "delta_imp_trasp_var17_in_1y3 [        -1          0 9999999999]\n",
      "delta_imp_trasp_var33_in_1y3 [        -1          0 9999999999]\n",
      "delta_imp_venta_var44_1y3 [ -1.00000000e+00  -5.05773267e-01   0.00000000e+00   5.41709845e+00\n",
      "   1.00000000e+10]\n",
      "delta_num_aport_var13_1y3 [ -1.00000000e+00  -5.00000000e-01  -3.33333333e-01   0.00000000e+00\n",
      "   1.00000000e+00   1.00000000e+10]\n",
      "delta_num_aport_var17_1y3 [ -1.00000000e+00  -3.33333333e-01   0.00000000e+00   1.00000000e+00\n",
      "   2.00000000e+00   1.00000000e+10]\n",
      "delta_num_aport_var33_1y3 [ -1.00000000e+00  -5.00000000e-01   0.00000000e+00   1.00000000e+10]\n",
      "delta_num_compra_var44_1y3 [ -1.00000000e+00  -6.66666667e-01  -3.33333333e-01   0.00000000e+00\n",
      "   5.00000000e-01   1.00000000e+00   2.50000000e+00   4.00000000e+00\n",
      "   1.00000000e+10]\n",
      "delta_num_reemb_var17_1y3 [        -1          0 9999999999]\n",
      "delta_num_trasp_var17_in_1y3 [        -1          0 9999999999]\n",
      "delta_num_trasp_var33_in_1y3 [        -1          0 9999999999]\n",
      "delta_num_venta_var44_1y3 [ -1.00000000e+00  -5.00000000e-01   0.00000000e+00   8.00000000e+00\n",
      "   1.00000000e+10]\n",
      "imp_amort_var18_ult1 [     0.     1883.22  15691.8 ]\n",
      "imp_amort_var34_ult1 [    0.     276.24  1096.02]\n",
      "imp_aport_var17_hace3 [  0.00000000e+00   6.00000000e+02   1.81500000e+03   3.00000000e+03\n",
      "   4.50000000e+03   1.65000000e+04   2.27931600e+04   3.00000000e+04\n",
      "   3.75000000e+04   4.57414800e+04   6.00000000e+04   7.49989200e+04\n",
      "   9.00000000e+04   9.00003600e+04   9.67814400e+04   1.20000000e+05\n",
      "   1.50000000e+05   1.74000000e+05   2.55000000e+05   6.08369187e+06]\n",
      "imp_aport_var33_hace3 [    0   150   300   900  1500  3000  4500  6000  7500  7530  9000 12600\n",
      " 15000 18000 22500 36000]\n",
      "imp_aport_var33_ult1 [   0  150  300  450  750 1260]\n",
      "imp_var7_emit_ult1 [      0.     18000.     43500.    145384.92]\n",
      "imp_reemb_var17_ult1 [      0.       763.62    3059.52    3192.27    4149.39    6098.28\n",
      "    7383.6    26571.81   30300.     30396.69   33008.28   36000.     37035.75\n",
      "   56395.56   69599.01   69620.1    69622.29  119234.67  133926.27\n",
      "  182132.97]\n",
      "imp_trasp_var17_in_hace3 [     0.    45741.48  96781.44]\n",
      "imp_trasp_var17_in_ult1 [      0.      2999.82   14356.26   39927.15  133730.58]\n",
      "imp_trasp_var17_out_ult1 [     0.     3059.52   3192.27  69599.01  69622.29]\n",
      "imp_trasp_var33_in_hace3 [     0.    25501.8   25920.03  33079.83  33744.48  44251.08  49581.27]\n",
      "imp_trasp_var33_in_ult1 [     0.      174.09   2545.65   2596.53   5400.    13207.32]\n",
      "imp_venta_var44_hace3 [  0.00000000e+00   2.31600000e+01   7.80405900e+04   2.09834400e+05]\n",
      "num_aport_var13_hace3 [ 0  3  6  9 12 15 18 24]\n",
      "num_aport_var13_ult1 [ 0  3  6  9 12 24 30]\n",
      "num_aport_var17_hace3 [ 0  3  6  9 12]\n",
      "num_aport_var17_ult1 [ 0  3  6  9 12 15 18 21]\n",
      "num_aport_var33_hace3 [ 0  3  6 12]\n",
      "num_aport_var33_ult1 [0 3 6]\n",
      "num_var7_recib_ult1 [ 0  3  6  9 12 24]\n",
      "num_compra_var44_hace3 [0 3 6 9]\n",
      "num_compra_var44_ult1 [ 0  3  6  9 12 15 18 21 24 39]\n",
      "num_ent_var16_ult1 [ 0  3  6  9 12 15 18 21 24 27 30 45 60]\n",
      "num_var22_hace3 [  0   3   6   9  12  15  18  21  24  27  30  33  36  39  42  45  48  51\n",
      " 108]\n",
      "num_var22_ult1 [ 0  3  6  9 12 15 18 21 24 27 30 33 36 39 42 48 51 96]\n",
      "num_med_var22_ult3 [ 0  3  6  9 12 15 18 21 24 27 30 33 48 51 78]\n",
      "num_meses_var5_ult3 [0 1 2 3]\n",
      "num_meses_var8_ult3 [0 1 2 3]\n",
      "num_meses_var12_ult3 [0 1 2 3]\n",
      "num_meses_var13_corto_ult3 [0 1 2 3]\n",
      "num_meses_var13_largo_ult3 [0 1 2 3]\n",
      "num_meses_var17_ult3 [0 1 2 3]\n",
      "num_meses_var29_ult3 [0 1 2]\n",
      "num_meses_var33_ult3 [0 1 2 3]\n",
      "num_meses_var39_vig_ult3 [0 1 2 3]\n",
      "num_meses_var44_ult3 [0 1 2 3]\n",
      "num_op_var40_efect_ult1 [ 0  3  6  9 12 18 24]\n",
      "num_op_var40_efect_ult3 [ 0  3  6  9 12 15 18 21 24]\n",
      "num_reemb_var17_ult1 [ 0  3  6  9 21]\n",
      "num_sal_var16_ult1 [ 0  3  6  9 12 15]\n",
      "num_trasp_var11_ult1 [ 0  3  6  9 12 15 18 21 24 27 30 33 36 39 42 45 63 93]\n",
      "num_trasp_var17_in_hace3 [0 3 6]\n",
      "num_trasp_var33_in_ult1 [0 3 6]\n",
      "num_venta_var44_hace3 [0 3 6]\n",
      "num_venta_var44_ult1 [ 0  3  6  9 12 15 21 27 39]\n",
      "saldo_medio_var13_medio_hace2 [    0.    5586.21  7741.95]\n",
      "saldo_medio_var13_medio_ult1 [    0  9000 30000]\n",
      "saldo_medio_var13_medio_ult3 [     0.     7293.12  18870.99]\n",
      "saldo_medio_var17_hace3 [  0.00000000e+00   3.00000000e-02   1.19040000e+02   7.21230000e+02\n",
      "   1.98228000e+03   2.93484000e+03   4.77366000e+03   7.39635000e+03\n",
      "   8.57316000e+03   9.02439000e+03   9.06408000e+03   2.37416400e+04\n",
      "   3.68715300e+04   4.44029700e+04   5.09058900e+04   7.66983900e+04\n",
      "   1.26162780e+05   2.36855895e+06]\n",
      "saldo_medio_var29_hace2 [     0.       59.97    868.98   4838.7   10430.01]\n",
      "saldo_medio_var29_ult1 [     0.     2142.87   3365.46  13793.67]\n",
      "saldo_medio_var29_ult3 [    0.    3365.46  3490.8   7331.34]\n"
     ]
    }
   ],
   "source": [
    "# print out the unique values of variables that had only 3 to 10 unique values\n",
    "temp_3_10 = train_raw.loc[:,(var_uniq>2) & (var_uniq <21)]\n",
    "for i in range(temp_3_10.shape[1]):\n",
    "    print(list(temp_3_10.columns)[i], np.unique(temp_3_10.iloc[:,i]))"
   ]
  },
  {
   "cell_type": "markdown",
   "metadata": {},
   "source": [
    "<ul>\n",
    "<li>It seems that many of those variables are ordered categorical variables, with '99' representing missing values, such as 'var36': [ 0  1  2  3 99]. </li>\n",
    "<li> Some features are evenly spread but with large values. It is again hard to interpret like\n",
    "<p>saldo_var18 [      0  300000 3000000]</p>\n",
    "saldo_var29 [     0.   11976.6  19531.8]</li>\n",
    "<li>It's much harder to make sense of some vairables with a wide range like 'num_var12_0': [  0   3   6   9  15 111]. And it's unclear whether '111' was an outlier or not</li>\n",
    "<li> Quite a few of the 'delta' variables have values like 'delta_imp_reemb_var17_1y3': [        -1          0 9999999999]</li>\n",
    "<li>The relationships between variables with almost the same name but different ending could be very important. <p>For instance, </p>\n",
    "     num_var13_0: [ 0  3  6  9 12 15 18]\n",
    "     <p>num_var13_corto_0: [0 3 6]</p>\n",
    "     <p>num_var13_corto: [0 3 6]</p>\n",
    "     <p>num_var13_largo_0: [ 0  3  6  9 12 15 18]</p>\n",
    "     <p>num_var13_largo: [ 0  3  6  9 12 15 18]</p>\n",
    "    <p></p>\n",
    "</li>\n",
    "<li> It could be that the features with '_0' have more values than the ones without, like <p>num_var17_0: [ 0  3  6  9 12 15 18 21 24 27 36]</p>\n",
    "num_var17: [ 0  3  6  9 12 15 18 21 27]\n",
    "<p> num_var33_0: [ 0  3  6 12]</p>\n",
    "num_var33: [0 3 6]\n",
    "</ul>"
   ]
  },
  {
   "cell_type": "code",
   "execution_count": 77,
   "metadata": {
    "collapsed": false
   },
   "outputs": [
    {
     "data": {
      "image/png": "[encoded data removed]",
      "text/plain": [
       "<matplotlib.figure.Figure at 0x1197b8710>"
      ]
     },
     "metadata": {},
     "output_type": "display_data"
    }
   ],
   "source": [
    "plt.scatter(train_raw.num_var17_0, train_raw.num_var17),\n",
    "plt.xlabel('num_var17_0')\n",
    "plt.ylabel('num_var17')\n",
    "plt.show()"
   ]
  },
  {
   "cell_type": "code",
   "execution_count": 80,
   "metadata": {
    "collapsed": false
   },
   "outputs": [
    {
     "data": {
      "text/plain": [
       "num_var17_0  num_var17\n",
       "0            0            75883\n",
       "3            0               22\n",
       "             3               46\n",
       "6            0                1\n",
       "             3                6\n",
       "             6               24\n",
       "9            0                2\n",
       "             3                1\n",
       "             6                3\n",
       "             9                9\n",
       "12           0                1\n",
       "             3                1\n",
       "             9                2\n",
       "             12               6\n",
       "15           3                1\n",
       "             6                1\n",
       "             12               1\n",
       "             15               3\n",
       "18           15               1\n",
       "             18               1\n",
       "21           18               1\n",
       "24           15               1\n",
       "             21               1\n",
       "27           27               1\n",
       "36           0                1\n",
       "dtype: int64"
      ]
     },
     "execution_count": 80,
     "metadata": {},
     "output_type": "execute_result"
    }
   ],
   "source": [
    "train_raw.groupby(['num_var17_0','num_var17']).size()\n",
    "# compare the diffrences of two features"
   ]
  },
  {
   "cell_type": "markdown",
   "metadata": {},
   "source": [
    "According to the scatter plot above, it seems that even though those two variables are highly correlated, there are still many observations with different values.\n",
    "And the table shows that the vast majority of observations have \"0\" in both two features.\n",
    "<p></p>\n",
    "'0' is the minimum value of most variables. If the vast majority of a variable has zero value, it may be that a survey question asked whether a custom had a certain experience x, and 0 would imply that he/she didn't have it, and the other values would imply a customers' satisfaction level of their experience."
   ]
  },
  {
   "cell_type": "code",
   "execution_count": 12,
   "metadata": {
    "collapsed": false
   },
   "outputs": [
    {
     "data": {
      "text/plain": [
       "var3                        -999999.00\n",
       "saldo_var8                    -4942.26\n",
       "saldo_var30                   -4942.26\n",
       "saldo_var42                   -4942.26\n",
       "saldo_medio_var8_ult1         -3401.34\n",
       "saldo_var5                    -2895.72\n",
       "saldo_medio_var8_ult3         -1844.52\n",
       "saldo_medio_var5_ult1          -922.38\n",
       "saldo_medio_var5_ult3          -476.07\n",
       "saldo_medio_var8_hace2         -287.67\n",
       "saldo_medio_var5_hace2         -128.37\n",
       "saldo_medio_var5_hace3           -8.04\n",
       "delta_imp_aport_var13_1y3        -1.00\n",
       "saldo_var1                       -0.90\n",
       "saldo_var40                      -0.90\n",
       "saldo_medio_var17_hace2          -0.03\n",
       "num_var43_emit_ult1               0.00\n",
       "num_var43_recib_ult1              0.00\n",
       "num_op_var39_efect_ult1           0.00\n",
       "num_op_var39_efect_ult3           0.00\n",
       "imp_var7_recib_ult1               0.00\n",
       "num_op_var41_efect_ult1           0.00\n",
       "num_op_var41_comer_ult3           0.00\n",
       "num_op_var40_comer_ult3           0.00\n",
       "num_op_var40_comer_ult1           0.00\n",
       "num_op_var39_comer_ult3           0.00\n",
       "num_op_var39_comer_ult1           0.00\n",
       "num_med_var45_ult3                0.00\n",
       "num_var22_ult3                    0.00\n",
       "num_var22_hace2                   0.00\n",
       "                               ...    \n",
       "num_op_var39_hace2                0.00\n",
       "num_op_var39_ult1                 0.00\n",
       "saldo_medio_var44_ult3            0.00\n",
       "imp_aport_var17_ult1              0.00\n",
       "saldo_medio_var44_hace2           0.00\n",
       "imp_aport_var13_hace3             0.00\n",
       "saldo_var44                       0.00\n",
       "saldo_var37                       0.00\n",
       "saldo_var33                       0.00\n",
       "saldo_var32                       0.00\n",
       "saldo_var31                       0.00\n",
       "saldo_var25                       0.00\n",
       "saldo_var26                       0.00\n",
       "saldo_var24                       0.00\n",
       "saldo_var20                       0.00\n",
       "saldo_var17                       0.00\n",
       "saldo_var14                       0.00\n",
       "saldo_var13                       0.00\n",
       "saldo_var13_largo                 0.00\n",
       "saldo_var13_corto                 0.00\n",
       "saldo_var12                       0.00\n",
       "num_var37                         0.00\n",
       "num_var37_0                       0.00\n",
       "num_var37_med_ult2                0.00\n",
       "num_op_var39_ult3                 0.00\n",
       "num_op_var39_hace3                0.00\n",
       "saldo_medio_var44_hace3           0.00\n",
       "ID                                1.00\n",
       "var15                             5.00\n",
       "var38                          5163.75\n",
       "Name: min, dtype: float64"
      ]
     },
     "execution_count": 12,
     "metadata": {},
     "output_type": "execute_result"
    }
   ],
   "source": [
    "summary.loc['min',var_uniq > 20].sort_values()\n",
    "# see the minimum value of a \"continuous\" variable"
   ]
  },
  {
   "cell_type": "markdown",
   "metadata": {},
   "source": [
    "It seems that the vast majority of predictor variables have \"0\" as the mean value. However, it is unknown what 0 means and also what positive or negative vlaues mean."
   ]
  },
  {
   "cell_type": "code",
   "execution_count": 17,
   "metadata": {
    "collapsed": false
   },
   "outputs": [
    {
     "data": {
      "text/plain": [
       "saldo_var8\n",
       "-4942.26          1\n",
       "-2994.93          1\n",
       "-1802.01          1\n",
       "-1774.80          1\n",
       "-843.39           1\n",
       "-798.48           1\n",
       "-325.41           1\n",
       "-306.57           1\n",
       "-234.81           1\n",
       "-95.70            1\n",
       "-80.37            1\n",
       "-72.81            1\n",
       "-31.77            1\n",
       "-30.96            1\n",
       "-19.05            1\n",
       "-10.14            1\n",
       "-9.48             1\n",
       "-4.17             1\n",
       "-3.90             1\n",
       " 0.00         73846\n",
       " 0.03             2\n",
       " 0.06             2\n",
       " 0.18             1\n",
       " 0.21             1\n",
       " 0.27             1\n",
       " 0.33             2\n",
       " 0.36             1\n",
       " 0.42             2\n",
       " 0.60             3\n",
       " 0.69             1\n",
       "              ...  \n",
       " 39851.28         1\n",
       " 43363.23         1\n",
       " 44650.17         1\n",
       " 46519.08         1\n",
       " 49135.89         1\n",
       " 49247.82         1\n",
       " 51013.74         1\n",
       " 52180.44         1\n",
       " 54217.92         1\n",
       " 56959.98         1\n",
       " 57569.37         1\n",
       " 58847.37         1\n",
       " 60098.49         1\n",
       " 64385.34         1\n",
       " 65611.32         1\n",
       " 70501.71         1\n",
       " 85194.06         1\n",
       " 89262.00         1\n",
       " 89381.61         1\n",
       " 100190.82        1\n",
       " 101733.51        1\n",
       " 131143.32        1\n",
       " 137855.55        1\n",
       " 156351.33        1\n",
       " 170434.32        1\n",
       " 172766.37        1\n",
       " 180035.46        1\n",
       " 181665.24        1\n",
       " 227354.91        1\n",
       " 240045.00        1\n",
       "dtype: int64"
      ]
     },
     "execution_count": 17,
     "metadata": {},
     "output_type": "execute_result"
    }
   ],
   "source": [
    "train_raw.groupby(train_raw.saldo_var8).size()\n",
    "# it seems that the values are highly spread and bimodal"
   ]
  },
  {
   "cell_type": "code",
   "execution_count": 20,
   "metadata": {
    "collapsed": false,
    "scrolled": true
   },
   "outputs": [
    {
     "data": {
      "image/png": "[encoded data removed]",
      "text/plain": [
       "<matplotlib.figure.Figure at 0x118bb0898>"
      ]
     },
     "metadata": {},
     "output_type": "display_data"
    }
   ],
   "source": [
    "f, (ax1, ax2) = plt.subplots(1, 2, sharey=False)\n",
    "ax1.hist(train_raw.saldo_var8[train_raw.saldo_var8<10],bins= 2000)\n",
    "ax2.hist(train_raw.saldo_var8[train_raw.saldo_var8>10],bins= 2000)\n",
    "plt.show()"
   ]
  },
  {
   "cell_type": "code",
   "execution_count": 22,
   "metadata": {
    "collapsed": false
   },
   "outputs": [
    {
     "data": {
      "text/plain": [
       "num_var43_emit_ult1\n",
       "0      70958\n",
       "3       2984\n",
       "6       1071\n",
       "9        457\n",
       "12       223\n",
       "15       108\n",
       "18        66\n",
       "21        45\n",
       "24        24\n",
       "27        22\n",
       "30         9\n",
       "33        16\n",
       "36         7\n",
       "39         3\n",
       "42         5\n",
       "45         6\n",
       "48         1\n",
       "51         3\n",
       "54         1\n",
       "57         2\n",
       "60         3\n",
       "66         1\n",
       "69         1\n",
       "75         1\n",
       "84         1\n",
       "102        1\n",
       "180        1\n",
       "dtype: int64"
      ]
     },
     "execution_count": 22,
     "metadata": {},
     "output_type": "execute_result"
    }
   ],
   "source": [
    "train_raw.groupby('num_var43_emit_ult1').size()\n",
    "# another seemly continuous variable with vast majority of values being zero"
   ]
  },
  {
   "cell_type": "code",
   "execution_count": 21,
   "metadata": {
    "collapsed": false
   },
   "outputs": [
    {
     "data": {
      "image/png": "[encoded data removed]",
      "text/plain": [
       "<matplotlib.figure.Figure at 0x1185d6978>"
      ]
     },
     "metadata": {},
     "output_type": "display_data"
    }
   ],
   "source": [
    "plt.hist(train_raw.num_var43_emit_ult1,bins=2000)\n",
    "plt.show()"
   ]
  },
  {
   "cell_type": "code",
   "execution_count": 27,
   "metadata": {
    "collapsed": false
   },
   "outputs": [
    {
     "data": {
      "text/plain": [
       "ID                             0\n",
       "var15                          0\n",
       "var38                          0\n",
       "var3                          75\n",
       "saldo_var30                20310\n",
       "saldo_var42                21786\n",
       "saldo_medio_var5_hace2     23241\n",
       "saldo_medio_var5_ult3      24664\n",
       "saldo_medio_var5_ult1      24664\n",
       "saldo_var5                 25561\n",
       "saldo_medio_var5_hace3     29637\n",
       "num_var45_ult3             38356\n",
       "num_var45_hace2            48881\n",
       "num_var22_ult3             49954\n",
       "num_var45_hace3            50663\n",
       "num_med_var45_ult3         51408\n",
       "num_var45_ult1             54392\n",
       "num_var22_hace2            60541\n",
       "num_op_var39_ult3          62244\n",
       "num_op_var41_ult3          62355\n",
       "imp_op_var39_ult1          64271\n",
       "num_op_var39_ult1          64271\n",
       "num_op_var39_comer_ult3    64330\n",
       "imp_op_var39_comer_ult3    64330\n",
       "num_op_var41_ult1          64388\n",
       "imp_op_var41_ult1          64388\n",
       "imp_op_var41_comer_ult3    64480\n",
       "num_op_var41_comer_ult3    64480\n",
       "imp_op_var39_comer_ult1    66075\n",
       "num_op_var39_comer_ult1    66075\n",
       "                           ...  \n",
       "saldo_var40                75737\n",
       "saldo_var31                75741\n",
       "num_op_var40_ult3          75772\n",
       "num_op_var40_ult1          75791\n",
       "imp_op_var40_ult1          75791\n",
       "imp_var7_recib_ult1        75815\n",
       "saldo_var20                75815\n",
       "saldo_medio_var44_ult1     75879\n",
       "saldo_medio_var44_ult3     75879\n",
       "saldo_var44                75891\n",
       "saldo_medio_var17_ult3     75902\n",
       "saldo_medio_var17_ult1     75902\n",
       "saldo_var17                75910\n",
       "saldo_medio_var44_hace2    75921\n",
       "imp_sal_var16_ult1         75924\n",
       "saldo_medio_var17_hace2    75930\n",
       "imp_compra_var44_ult1      75936\n",
       "saldo_var32                75938\n",
       "saldo_medio_var33_ult3     75972\n",
       "saldo_var33                75972\n",
       "saldo_medio_var33_ult1     75972\n",
       "imp_op_var40_efect_ult3    75975\n",
       "imp_venta_var44_ult1       75976\n",
       "imp_aport_var17_ult1       75976\n",
       "saldo_medio_var33_hace2    75977\n",
       "imp_reemb_var13_ult1       75982\n",
       "imp_op_var40_efect_ult1    75982\n",
       "saldo_medio_var44_hace3    75988\n",
       "imp_compra_var44_hace3     75988\n",
       "saldo_medio_var33_hace3    75996\n",
       "dtype: int64"
      ]
     },
     "execution_count": 27,
     "metadata": {},
     "output_type": "execute_result"
    }
   ],
   "source": [
    "# compute the number of zeros in all numeric variables\n",
    "(train_raw == 0).astype(int).sum(axis=0)[var_uniq > 20].sort_values()"
   ]
  },
  {
   "cell_type": "markdown",
   "metadata": {},
   "source": [
    "Only three varaibles have a relatively small number of \"0\", and the rest of the features have 20K+ or over 26% of observations being zero. And the remaining 100 of those numerical predictor variables (> 20 unique values) have 60K+ observations with zero values, which is 79% of the sample size."
   ]
  },
  {
   "cell_type": "markdown",
   "metadata": {},
   "source": [
    "### Replace missing values with np.nan"
   ]
  },
  {
   "cell_type": "code",
   "execution_count": 10,
   "metadata": {
    "collapsed": false
   },
   "outputs": [
    {
     "data": {
      "text/plain": [
       "[-999999,\n",
       " 0,\n",
       " 1,\n",
       " 2,\n",
       " 3,\n",
       " 4,\n",
       " 5,\n",
       " 6,\n",
       " 7,\n",
       " 8,\n",
       " 9,\n",
       " 10,\n",
       " 11,\n",
       " 12,\n",
       " 13,\n",
       " 14,\n",
       " 15,\n",
       " 16,\n",
       " 17,\n",
       " 18,\n",
       " 19,\n",
       " 20,\n",
       " 21,\n",
       " 22,\n",
       " 23,\n",
       " 24,\n",
       " 25,\n",
       " 26,\n",
       " 27,\n",
       " 28,\n",
       " 29,\n",
       " 30,\n",
       " 31,\n",
       " 32,\n",
       " 33,\n",
       " 34,\n",
       " 35,\n",
       " 36,\n",
       " 38,\n",
       " 40,\n",
       " 41,\n",
       " 42,\n",
       " 43,\n",
       " 44,\n",
       " 45,\n",
       " 46,\n",
       " 47,\n",
       " 48,\n",
       " 49,\n",
       " 50,\n",
       " 51,\n",
       " 52,\n",
       " 53,\n",
       " 54,\n",
       " 55,\n",
       " 56,\n",
       " 57,\n",
       " 58,\n",
       " 59,\n",
       " 60,\n",
       " 61,\n",
       " 62,\n",
       " 63,\n",
       " 64,\n",
       " 65,\n",
       " 66,\n",
       " 68,\n",
       " 69,\n",
       " 71,\n",
       " 72,\n",
       " 73,\n",
       " 74,\n",
       " 76,\n",
       " 77,\n",
       " 78,\n",
       " 79,\n",
       " 81,\n",
       " 82,\n",
       " 84,\n",
       " 85,\n",
       " 86,\n",
       " 87,\n",
       " 88,\n",
       " 89,\n",
       " 90,\n",
       " 91,\n",
       " 93,\n",
       " 94,\n",
       " 95,\n",
       " 96,\n",
       " 97,\n",
       " 98,\n",
       " 99,\n",
       " 100,\n",
       " 101,\n",
       " 102,\n",
       " 103,\n",
       " 104,\n",
       " 105,\n",
       " 106,\n",
       " 107,\n",
       " 108,\n",
       " 110,\n",
       " 111,\n",
       " 112,\n",
       " 114,\n",
       " 115,\n",
       " 116,\n",
       " 117,\n",
       " 118,\n",
       " 119,\n",
       " 120,\n",
       " 121,\n",
       " 122,\n",
       " 124,\n",
       " 125,\n",
       " 126,\n",
       " 127,\n",
       " 128,\n",
       " 129,\n",
       " 130,\n",
       " 131,\n",
       " 132,\n",
       " 133,\n",
       " 134,\n",
       " 135,\n",
       " 136,\n",
       " 137,\n",
       " 138,\n",
       " 139,\n",
       " 141,\n",
       " 142,\n",
       " 143,\n",
       " 144,\n",
       " 145,\n",
       " 146,\n",
       " 147,\n",
       " 148,\n",
       " 149,\n",
       " 150,\n",
       " 151,\n",
       " 152,\n",
       " 153,\n",
       " 154,\n",
       " 156,\n",
       " 157,\n",
       " 158,\n",
       " 159,\n",
       " 161,\n",
       " 162,\n",
       " 163,\n",
       " 164,\n",
       " 165,\n",
       " 166,\n",
       " 167,\n",
       " 168,\n",
       " 169,\n",
       " 170,\n",
       " 171,\n",
       " 172,\n",
       " 173,\n",
       " 174,\n",
       " 175,\n",
       " 176,\n",
       " 177,\n",
       " 178,\n",
       " 181,\n",
       " 182,\n",
       " 183,\n",
       " 184,\n",
       " 185,\n",
       " 186,\n",
       " 187,\n",
       " 188,\n",
       " 189,\n",
       " 190,\n",
       " 191,\n",
       " 192,\n",
       " 193,\n",
       " 194,\n",
       " 195,\n",
       " 196,\n",
       " 197,\n",
       " 198,\n",
       " 199,\n",
       " 200,\n",
       " 201,\n",
       " 204,\n",
       " 205,\n",
       " 207,\n",
       " 208,\n",
       " 209,\n",
       " 210,\n",
       " 211,\n",
       " 213,\n",
       " 215,\n",
       " 216,\n",
       " 217,\n",
       " 218,\n",
       " 219,\n",
       " 220,\n",
       " 223,\n",
       " 225,\n",
       " 228,\n",
       " 229,\n",
       " 231,\n",
       " 235,\n",
       " 238]"
      ]
     },
     "execution_count": 10,
     "metadata": {},
     "output_type": "execute_result"
    }
   ],
   "source": [
    "# see the unique values of var3 \n",
    "# double check that -999999 represents missing values\n",
    "\n",
    "sorted(train_raw.var3.unique())"
   ]
  },
  {
   "cell_type": "code",
   "execution_count": 96,
   "metadata": {
    "collapsed": false
   },
   "outputs": [],
   "source": [
    "muted = train_raw.copy()"
   ]
  },
  {
   "cell_type": "code",
   "execution_count": 97,
   "metadata": {
    "collapsed": false
   },
   "outputs": [],
   "source": [
    "muted.var3 = muted.var3.replace(-999999, np.nan)"
   ]
  },
  {
   "cell_type": "code",
   "execution_count": 98,
   "metadata": {
    "collapsed": false
   },
   "outputs": [],
   "source": [
    "muted.var36 = muted.var36.replace(99, np.nan)"
   ]
  },
  {
   "cell_type": "code",
   "execution_count": 99,
   "metadata": {
    "collapsed": false
   },
   "outputs": [
    {
     "data": {
      "text/html": [
       "<div>\n",
       "<table border=\"1\" class=\"dataframe\">\n",
       "  <thead>\n",
       "    <tr style=\"text-align: right;\">\n",
       "      <th></th>\n",
       "      <th>saldo_medio_var44_ult1</th>\n",
       "      <th>saldo_medio_var44_ult3</th>\n",
       "      <th>var38</th>\n",
       "    </tr>\n",
       "    <tr>\n",
       "      <th>ID</th>\n",
       "      <th></th>\n",
       "      <th></th>\n",
       "      <th></th>\n",
       "    </tr>\n",
       "  </thead>\n",
       "  <tbody>\n",
       "    <tr>\n",
       "      <th>1</th>\n",
       "      <td>0.0</td>\n",
       "      <td>0.0</td>\n",
       "      <td>39205.17</td>\n",
       "    </tr>\n",
       "    <tr>\n",
       "      <th>3</th>\n",
       "      <td>0.0</td>\n",
       "      <td>0.0</td>\n",
       "      <td>49278.03</td>\n",
       "    </tr>\n",
       "    <tr>\n",
       "      <th>4</th>\n",
       "      <td>0.0</td>\n",
       "      <td>0.0</td>\n",
       "      <td>67333.77</td>\n",
       "    </tr>\n",
       "  </tbody>\n",
       "</table>\n",
       "</div>"
      ],
      "text/plain": [
       "    saldo_medio_var44_ult1  saldo_medio_var44_ult3     var38\n",
       "ID                                                          \n",
       "1                      0.0                     0.0  39205.17\n",
       "3                      0.0                     0.0  49278.03\n",
       "4                      0.0                     0.0  67333.77"
      ]
     },
     "execution_count": 99,
     "metadata": {},
     "output_type": "execute_result"
    }
   ],
   "source": [
    "muted = muted.set_index([\"ID\"]) # set the ID column as row name\n",
    "muted = muted.drop('TARGET', axis = 1)\n",
    "muted.iloc[:3,-3:]"
   ]
  },
  {
   "cell_type": "markdown",
   "metadata": {},
   "source": [
    "### Reshape 'categorical variables' into binary formats and scale numeric variables\n"
   ]
  },
  {
   "cell_type": "code",
   "execution_count": 104,
   "metadata": {
    "collapsed": false
   },
   "outputs": [
    {
     "name": "stdout",
     "output_type": "stream",
     "text": [
      "var3 :  323\n",
      "var15 :  100\n",
      "imp_ent_var16_ult1 :  596\n",
      "imp_op_var39_comer_ult1 :  7551\n",
      "imp_op_var39_comer_ult3 :  9099\n",
      "imp_op_var40_comer_ult1 :  293\n",
      "imp_op_var40_comer_ult3 :  346\n",
      "imp_op_var40_efect_ult1 :  23\n",
      "imp_op_var40_efect_ult3 :  29\n",
      "imp_op_var40_ult1 :  224\n",
      "imp_op_var41_comer_ult1 :  7421\n",
      "imp_op_var41_comer_ult3 :  8961\n",
      "imp_op_var41_efect_ult1 :  331\n",
      "imp_op_var41_efect_ult3 :  454\n",
      "imp_op_var41_ult1 :  8032\n",
      "imp_op_var39_efect_ult1 :  336\n",
      "imp_op_var39_efect_ult3 :  462\n",
      "imp_op_var39_ult1 :  8149\n",
      "imp_sal_var16_ult1 :  66\n",
      "ind_var1_0 :  2\n",
      "ind_var1 :  2\n",
      "ind_var2_0 :  1\n",
      "ind_var2 :  1\n",
      "ind_var5_0 :  2\n",
      "ind_var5 :  2\n",
      "ind_var6_0 :  2\n",
      "ind_var6 :  2\n",
      "ind_var8_0 :  2\n",
      "ind_var8 :  2\n",
      "ind_var12_0 :  2\n",
      "ind_var12 :  2\n",
      "ind_var13_0 :  2\n",
      "ind_var13_corto_0 :  2\n",
      "ind_var13_corto :  2\n",
      "ind_var13_largo_0 :  2\n",
      "ind_var13_largo :  2\n",
      "ind_var13_medio_0 :  2\n",
      "ind_var13_medio :  2\n",
      "ind_var13 :  2\n",
      "ind_var14_0 :  2\n",
      "ind_var14 :  2\n",
      "ind_var17_0 :  2\n",
      "ind_var17 :  2\n",
      "ind_var18_0 :  2\n",
      "ind_var18 :  2\n",
      "ind_var19 :  2\n",
      "ind_var20_0 :  2\n",
      "ind_var20 :  2\n",
      "ind_var24_0 :  2\n",
      "ind_var24 :  2\n",
      "ind_var25_cte :  2\n",
      "ind_var26_0 :  2\n",
      "ind_var26_cte :  2\n",
      "ind_var26 :  2\n",
      "ind_var25_0 :  2\n",
      "ind_var25 :  2\n",
      "ind_var27_0 :  1\n",
      "ind_var28_0 :  1\n",
      "ind_var28 :  1\n",
      "ind_var27 :  1\n",
      "ind_var29_0 :  2\n",
      "ind_var29 :  2\n",
      "ind_var30_0 :  2\n",
      "ind_var30 :  2\n",
      "ind_var31_0 :  2\n",
      "ind_var31 :  2\n",
      "ind_var32_cte :  2\n",
      "ind_var32_0 :  2\n",
      "ind_var32 :  2\n",
      "ind_var33_0 :  2\n",
      "ind_var33 :  2\n",
      "ind_var34_0 :  2\n",
      "ind_var34 :  2\n",
      "ind_var37_cte :  2\n",
      "ind_var37_0 :  2\n",
      "ind_var37 :  2\n",
      "ind_var39_0 :  2\n",
      "ind_var40_0 :  2\n",
      "ind_var40 :  2\n",
      "ind_var41_0 :  2\n",
      "ind_var41 :  1\n",
      "ind_var39 :  2\n",
      "ind_var44_0 :  2\n",
      "ind_var44 :  2\n",
      "ind_var46_0 :  1\n",
      "ind_var46 :  1\n",
      "num_var1_0 :  3\n",
      "num_var1 :  3\n",
      "num_var4 :  8\n",
      "num_var5_0 :  5\n",
      "num_var5 :  5\n",
      "num_var6_0 :  2\n",
      "num_var6 :  2\n",
      "num_var8_0 :  3\n",
      "num_var8 :  2\n",
      "num_var12_0 :  6\n",
      "num_var12 :  4\n",
      "num_var13_0 :  7\n",
      "num_var13_corto_0 :  3\n",
      "num_var13_corto :  3\n",
      "num_var13_largo_0 :  7\n",
      "num_var13_largo :  7\n",
      "num_var13_medio_0 :  2\n",
      "num_var13_medio :  2\n",
      "num_var13 :  7\n",
      "num_var14_0 :  5\n",
      "num_var14 :  4\n",
      "num_var17_0 :  11\n",
      "num_var17 :  9\n",
      "num_var18_0 :  2\n",
      "num_var18 :  2\n",
      "num_var20_0 :  2\n",
      "num_var20 :  2\n",
      "num_var24_0 :  4\n",
      "num_var24 :  3\n",
      "num_var26_0 :  9\n",
      "num_var26 :  9\n",
      "num_var25_0 :  9\n",
      "num_var25 :  9\n",
      "num_op_var40_hace2 :  19\n",
      "num_op_var40_hace3 :  5\n",
      "num_op_var40_ult1 :  30\n",
      "num_op_var40_ult3 :  35\n",
      "num_op_var41_hace2 :  51\n",
      "num_op_var41_hace3 :  22\n",
      "num_op_var41_ult1 :  68\n",
      "num_op_var41_ult3 :  96\n",
      "num_op_var39_hace2 :  50\n",
      "num_op_var39_hace3 :  22\n",
      "num_op_var39_ult1 :  71\n",
      "num_op_var39_ult3 :  99\n",
      "num_var27_0 :  1\n",
      "num_var28_0 :  1\n",
      "num_var28 :  1\n",
      "num_var27 :  1\n",
      "num_var29_0 :  2\n",
      "num_var29 :  2\n",
      "num_var30_0 :  11\n",
      "num_var30 :  9\n",
      "num_var31_0 :  11\n",
      "num_var31 :  9\n",
      "num_var32_0 :  5\n",
      "num_var32 :  5\n",
      "num_var33_0 :  4\n",
      "num_var33 :  3\n",
      "num_var34_0 :  2\n",
      "num_var34 :  2\n",
      "num_var35 :  13\n",
      "num_var37_med_ult2 :  21\n",
      "num_var37_0 :  22\n",
      "num_var37 :  22\n",
      "num_var39_0 :  9\n",
      "num_var40_0 :  3\n",
      "num_var40 :  2\n",
      "num_var41_0 :  9\n",
      "num_var41 :  1\n",
      "num_var39 :  2\n",
      "num_var42_0 :  8\n",
      "num_var42 :  7\n",
      "num_var44_0 :  3\n",
      "num_var44 :  2\n",
      "num_var46_0 :  1\n",
      "num_var46 :  1\n",
      "saldo_var1 :  285\n",
      "saldo_var5 :  11642\n",
      "saldo_var6 :  3\n",
      "saldo_var8 :  1989\n",
      "saldo_var12 :  3059\n",
      "saldo_var13_corto :  730\n",
      "saldo_var13_largo :  229\n",
      "saldo_var13_medio :  3\n",
      "saldo_var13 :  859\n",
      "saldo_var14 :  345\n",
      "saldo_var17 :  111\n",
      "saldo_var18 :  3\n",
      "saldo_var20 :  176\n",
      "saldo_var24 :  2614\n",
      "saldo_var26 :  1592\n",
      "saldo_var25 :  1524\n",
      "saldo_var28 :  1\n",
      "saldo_var27 :  1\n",
      "saldo_var29 :  3\n",
      "saldo_var30 :  16940\n",
      "saldo_var31 :  278\n",
      "saldo_var32 :  75\n",
      "saldo_var33 :  48\n",
      "saldo_var34 :  3\n",
      "saldo_var37 :  4041\n",
      "saldo_var40 :  282\n",
      "saldo_var41 :  1\n",
      "saldo_var42 :  15730\n",
      "saldo_var44 :  129\n",
      "saldo_var46 :  1\n",
      "var36 :  30068\n",
      "delta_imp_amort_var18_1y3 :  2\n",
      "delta_imp_amort_var34_1y3 :  2\n",
      "delta_imp_aport_var13_1y3 :  27\n",
      "delta_imp_aport_var17_1y3 :  7\n",
      "delta_imp_aport_var33_1y3 :  9\n",
      "delta_imp_compra_var44_1y3 :  17\n",
      "delta_imp_reemb_var13_1y3 :  2\n",
      "delta_imp_reemb_var17_1y3 :  3\n",
      "delta_imp_reemb_var33_1y3 :  2\n",
      "delta_imp_trasp_var17_in_1y3 :  3\n",
      "delta_imp_trasp_var17_out_1y3 :  2\n",
      "delta_imp_trasp_var33_in_1y3 :  3\n",
      "delta_imp_trasp_var33_out_1y3 :  2\n",
      "delta_imp_venta_var44_1y3 :  5\n",
      "delta_num_aport_var13_1y3 :  6\n",
      "delta_num_aport_var17_1y3 :  6\n",
      "delta_num_aport_var33_1y3 :  4\n",
      "delta_num_compra_var44_1y3 :  9\n",
      "delta_num_reemb_var13_1y3 :  2\n",
      "delta_num_reemb_var17_1y3 :  3\n",
      "delta_num_reemb_var33_1y3 :  2\n",
      "delta_num_trasp_var17_in_1y3 :  3\n",
      "delta_num_trasp_var17_out_1y3 :  2\n",
      "delta_num_trasp_var33_in_1y3 :  3\n",
      "delta_num_trasp_var33_out_1y3 :  2\n",
      "delta_num_venta_var44_1y3 :  5\n",
      "imp_amort_var18_hace3 :  1\n",
      "imp_amort_var18_ult1 :  3\n",
      "imp_amort_var34_hace3 :  1\n",
      "imp_amort_var34_ult1 :  3\n",
      "imp_aport_var13_hace3 :  425\n",
      "imp_aport_var13_ult1 :  182\n",
      "imp_aport_var17_hace3 :  20\n",
      "imp_aport_var17_ult1 :  42\n",
      "imp_aport_var33_hace3 :  16\n",
      "imp_aport_var33_ult1 :  6\n",
      "imp_var7_emit_ult1 :  4\n",
      "imp_var7_recib_ult1 :  184\n",
      "imp_compra_var44_hace3 :  33\n",
      "imp_compra_var44_ult1 :  85\n",
      "imp_reemb_var13_hace3 :  1\n",
      "imp_reemb_var13_ult1 :  33\n",
      "imp_reemb_var17_hace3 :  2\n",
      "imp_reemb_var17_ult1 :  20\n",
      "imp_reemb_var33_hace3 :  1\n",
      "imp_reemb_var33_ult1 :  2\n",
      "imp_var43_emit_ult1 :  2342\n",
      "imp_trans_var37_ult1 :  3831\n",
      "imp_trasp_var17_in_hace3 :  3\n",
      "imp_trasp_var17_in_ult1 :  5\n",
      "imp_trasp_var17_out_hace3 :  1\n",
      "imp_trasp_var17_out_ult1 :  5\n",
      "imp_trasp_var33_in_hace3 :  7\n",
      "imp_trasp_var33_in_ult1 :  6\n",
      "imp_trasp_var33_out_hace3 :  1\n",
      "imp_trasp_var33_out_ult1 :  2\n",
      "imp_venta_var44_hace3 :  4\n",
      "imp_venta_var44_ult1 :  45\n",
      "ind_var7_emit_ult1 :  2\n",
      "ind_var7_recib_ult1 :  2\n",
      "ind_var10_ult1 :  2\n",
      "ind_var10cte_ult1 :  2\n",
      "ind_var9_cte_ult1 :  2\n",
      "ind_var9_ult1 :  2\n",
      "ind_var43_emit_ult1 :  2\n",
      "ind_var43_recib_ult1 :  2\n",
      "var21 :  24\n",
      "num_var2_0_ult1 :  1\n",
      "num_var2_ult1 :  1\n",
      "num_aport_var13_hace3 :  8\n",
      "num_aport_var13_ult1 :  7\n",
      "num_aport_var17_hace3 :  5\n",
      "num_aport_var17_ult1 :  8\n",
      "num_aport_var33_hace3 :  4\n",
      "num_aport_var33_ult1 :  3\n",
      "num_var7_emit_ult1 :  2\n",
      "num_var7_recib_ult1 :  6\n",
      "num_compra_var44_hace3 :  4\n",
      "num_compra_var44_ult1 :  10\n",
      "num_ent_var16_ult1 :  13\n",
      "num_var22_hace2 :  22\n",
      "num_var22_hace3 :  19\n",
      "num_var22_ult1 :  18\n",
      "num_var22_ult3 :  33\n",
      "num_med_var22_ult3 :  15\n",
      "num_med_var45_ult3 :  71\n",
      "num_meses_var5_ult3 :  4\n",
      "num_meses_var8_ult3 :  4\n",
      "num_meses_var12_ult3 :  4\n",
      "num_meses_var13_corto_ult3 :  4\n",
      "num_meses_var13_largo_ult3 :  4\n",
      "num_meses_var13_medio_ult3 :  2\n",
      "num_meses_var17_ult3 :  4\n",
      "num_meses_var29_ult3 :  3\n",
      "num_meses_var33_ult3 :  4\n",
      "num_meses_var39_vig_ult3 :  4\n",
      "num_meses_var44_ult3 :  4\n",
      "num_op_var39_comer_ult1 :  63\n",
      "num_op_var39_comer_ult3 :  92\n",
      "num_op_var40_comer_ult1 :  34\n",
      "num_op_var40_comer_ult3 :  47\n",
      "num_op_var40_efect_ult1 :  7\n",
      "num_op_var40_efect_ult3 :  9\n",
      "num_op_var41_comer_ult1 :  60\n",
      "num_op_var41_comer_ult3 :  88\n",
      "num_op_var41_efect_ult1 :  25\n",
      "num_op_var41_efect_ult3 :  40\n",
      "num_op_var39_efect_ult1 :  26\n",
      "num_op_var39_efect_ult3 :  40\n",
      "num_reemb_var13_hace3 :  1\n",
      "num_reemb_var13_ult1 :  2\n",
      "num_reemb_var17_hace3 :  2\n",
      "num_reemb_var17_ult1 :  5\n",
      "num_reemb_var33_hace3 :  1\n",
      "num_reemb_var33_ult1 :  2\n",
      "num_sal_var16_ult1 :  6\n",
      "num_var43_emit_ult1 :  27\n",
      "num_var43_recib_ult1 :  38\n",
      "num_trasp_var11_ult1 :  18\n",
      "num_trasp_var17_in_hace3 :  3\n",
      "num_trasp_var17_in_ult1 :  2\n",
      "num_trasp_var17_out_hace3 :  1\n",
      "num_trasp_var17_out_ult1 :  2\n",
      "num_trasp_var33_in_hace3 :  2\n",
      "num_trasp_var33_in_ult1 :  3\n",
      "num_trasp_var33_out_hace3 :  1\n",
      "num_trasp_var33_out_ult1 :  2\n",
      "num_venta_var44_hace3 :  3\n",
      "num_venta_var44_ult1 :  9\n",
      "num_var45_hace2 :  85\n",
      "num_var45_hace3 :  66\n",
      "num_var45_ult1 :  94\n",
      "num_var45_ult3 :  172\n",
      "saldo_var2_ult1 :  1\n",
      "saldo_medio_var5_hace2 :  14486\n",
      "saldo_medio_var5_hace3 :  7787\n",
      "saldo_medio_var5_ult1 :  14778\n",
      "saldo_medio_var5_ult3 :  17330\n",
      "saldo_medio_var8_hace2 :  1325\n",
      "saldo_medio_var8_hace3 :  439\n",
      "saldo_medio_var8_ult1 :  2116\n",
      "saldo_medio_var8_ult3 :  2173\n",
      "saldo_medio_var12_hace2 :  2834\n",
      "saldo_medio_var12_hace3 :  1152\n",
      "saldo_medio_var12_ult1 :  3405\n",
      "saldo_medio_var12_ult3 :  3447\n",
      "saldo_medio_var13_corto_hace2 :  1628\n",
      "saldo_medio_var13_corto_hace3 :  968\n",
      "saldo_medio_var13_corto_ult1 :  943\n",
      "saldo_medio_var13_corto_ult3 :  2576\n",
      "saldo_medio_var13_largo_hace2 :  295\n",
      "saldo_medio_var13_largo_hace3 :  264\n",
      "saldo_medio_var13_largo_ult1 :  233\n",
      "saldo_medio_var13_largo_ult3 :  511\n",
      "saldo_medio_var13_medio_hace2 :  3\n",
      "saldo_medio_var13_medio_hace3 :  1\n",
      "saldo_medio_var13_medio_ult1 :  3\n",
      "saldo_medio_var13_medio_ult3 :  3\n",
      "saldo_medio_var17_hace2 :  88\n",
      "saldo_medio_var17_hace3 :  18\n",
      "saldo_medio_var17_ult1 :  119\n",
      "saldo_medio_var17_ult3 :  119\n",
      "saldo_medio_var29_hace2 :  5\n",
      "saldo_medio_var29_hace3 :  2\n",
      "saldo_medio_var29_ult1 :  4\n",
      "saldo_medio_var29_ult3 :  4\n",
      "saldo_medio_var33_hace2 :  43\n",
      "saldo_medio_var33_hace3 :  24\n",
      "saldo_medio_var33_ult1 :  48\n",
      "saldo_medio_var33_ult3 :  48\n",
      "saldo_medio_var44_hace2 :  99\n",
      "saldo_medio_var44_hace3 :  33\n",
      "saldo_medio_var44_ult1 :  141\n",
      "saldo_medio_var44_ult3 :  141\n",
      "var38 :  57736\n"
     ]
    }
   ],
   "source": [
    "for field in list(muted.columns):\n",
    "    \n",
    "    n_uniq = np.unique(muted[field]).size # get the number of unique values\n",
    "    if n_uniq == 1:\n",
    "        muted = muted.drop(field,axis = 1) # drop fields with only 1 unique value,m,,,,,,\n",
    "     \n",
    "    if n_uniq > 2 and n_uniq <21:\n",
    "        # consider the column as a categorical variable\n",
    "        muted = pd.concat([muted, pd.get_dummies(muted[field], prefix=field)], axis=1)\n",
    "        muted = muted.drop(field, axis=1) # remove the original feature\n",
    "    print(field, ': ', n_uniq)\n",
    "    # Standarize numerical features\n",
    "    #if n_uniq >= 21:\n",
    "    #    mean, std = muted[field].mean(), muted[field].std()\n",
    "    #    muted.loc[:,field] = (muted[field]-mean)/std\n",
    "        # normalize feature to Normal(0,1)"
   ]
  },
  {
   "cell_type": "code",
   "execution_count": 109,
   "metadata": {
    "collapsed": false
   },
   "outputs": [
    {
     "data": {
      "text/plain": [
       "(76020, 963)"
      ]
     },
     "execution_count": 109,
     "metadata": {},
     "output_type": "execute_result"
    }
   ],
   "source": [
    "muted.shape"
   ]
  },
  {
   "cell_type": "code",
   "execution_count": 110,
   "metadata": {
    "collapsed": false
   },
   "outputs": [
    {
     "data": {
      "text/plain": [
       "Index(['var3', 'var15', 'imp_ent_var16_ult1', 'imp_op_var39_comer_ult1',\n",
       "       'imp_op_var39_comer_ult3', 'imp_op_var40_comer_ult1',\n",
       "       'imp_op_var40_comer_ult3', 'imp_op_var40_efect_ult1',\n",
       "       'imp_op_var40_efect_ult3', 'imp_op_var40_ult1',\n",
       "       ...\n",
       "       'saldo_medio_var29_hace2_4838.7', 'saldo_medio_var29_hace2_10430.01',\n",
       "       'saldo_medio_var29_ult1_0.0', 'saldo_medio_var29_ult1_2142.87',\n",
       "       'saldo_medio_var29_ult1_3365.46', 'saldo_medio_var29_ult1_13793.67',\n",
       "       'saldo_medio_var29_ult3_0.0', 'saldo_medio_var29_ult3_3365.46',\n",
       "       'saldo_medio_var29_ult3_3490.8', 'saldo_medio_var29_ult3_7331.34'],\n",
       "      dtype='object', length=963)"
      ]
     },
     "execution_count": 110,
     "metadata": {},
     "output_type": "execute_result"
    }
   ],
   "source": [
    "muted.columns"
   ]
  },
  {
   "cell_type": "code",
   "execution_count": 111,
   "metadata": {
    "collapsed": false
   },
   "outputs": [],
   "source": [
    "muted.to_csv('/Users/yizhao/Documents/Second_capstone/muted_data.csv',header=True)"
   ]
  },
  {
   "cell_type": "code",
   "execution_count": 112,
   "metadata": {
    "collapsed": false
   },
   "outputs": [],
   "source": [
    "import seaborn as sns\n",
    "\n",
    "# assess linear relationship among numeric predictor variables\n",
    "corr_matrix = train_raw.loc[:,var_uniq > 20].corr()\n"
   ]
  },
  {
   "cell_type": "code",
   "execution_count": 113,
   "metadata": {
    "collapsed": false
   },
   "outputs": [
    {
     "data": {
      "image/png": "[encoded data removed]",
      "text/plain": [
       "<matplotlib.figure.Figure at 0x14471e400>"
      ]
     },
     "metadata": {},
     "output_type": "display_data"
    }
   ],
   "source": [
    "sns.heatmap(corr_matrix, \n",
    "        xticklabels=corr_matrix.columns,\n",
    "        yticklabels=corr_matrix.columns)\n",
    "plt.show()"
   ]
  },
  {
   "cell_type": "markdown",
   "metadata": {},
   "source": [
    "It seems that there are clusters of variables that are highly correlated with each other, especially the ones with highly similar names, such as the ones starting with \"imp_\" and those starting with \"num_\""
   ]
  },
  {
   "cell_type": "markdown",
   "metadata": {},
   "source": [
    "### Feature selection\n",
    "Run logistic regression using each individual feature and rank the result."
   ]
  },
  {
   "cell_type": "code",
   "execution_count": 9,
   "metadata": {
    "collapsed": false
   },
   "outputs": [],
   "source": [
    "import statsmodels as sm\n",
    "muted = pd.read_csv('/Users/yizhao/Documents/Second_capstone/muted_data.csv')"
   ]
  },
  {
   "cell_type": "code",
   "execution_count": 114,
   "metadata": {
    "collapsed": false
   },
   "outputs": [
    {
     "name": "stdout",
     "output_type": "stream",
     "text": [
      "(76020, 963)\n"
     ]
    },
    {
     "data": {
      "text/html": [
       "<div>\n",
       "<table border=\"1\" class=\"dataframe\">\n",
       "  <thead>\n",
       "    <tr style=\"text-align: right;\">\n",
       "      <th></th>\n",
       "      <th>var3</th>\n",
       "      <th>var15</th>\n",
       "      <th>imp_ent_var16_ult1</th>\n",
       "      <th>imp_op_var39_comer_ult1</th>\n",
       "      <th>imp_op_var39_comer_ult3</th>\n",
       "    </tr>\n",
       "    <tr>\n",
       "      <th>ID</th>\n",
       "      <th></th>\n",
       "      <th></th>\n",
       "      <th></th>\n",
       "      <th></th>\n",
       "      <th></th>\n",
       "    </tr>\n",
       "  </thead>\n",
       "  <tbody>\n",
       "    <tr>\n",
       "      <th>1</th>\n",
       "      <td>2.0</td>\n",
       "      <td>23</td>\n",
       "      <td>0.0</td>\n",
       "      <td>0.0</td>\n",
       "      <td>0.0</td>\n",
       "    </tr>\n",
       "    <tr>\n",
       "      <th>3</th>\n",
       "      <td>2.0</td>\n",
       "      <td>34</td>\n",
       "      <td>0.0</td>\n",
       "      <td>0.0</td>\n",
       "      <td>0.0</td>\n",
       "    </tr>\n",
       "    <tr>\n",
       "      <th>4</th>\n",
       "      <td>2.0</td>\n",
       "      <td>23</td>\n",
       "      <td>0.0</td>\n",
       "      <td>0.0</td>\n",
       "      <td>0.0</td>\n",
       "    </tr>\n",
       "    <tr>\n",
       "      <th>8</th>\n",
       "      <td>2.0</td>\n",
       "      <td>37</td>\n",
       "      <td>0.0</td>\n",
       "      <td>195.0</td>\n",
       "      <td>195.0</td>\n",
       "    </tr>\n",
       "    <tr>\n",
       "      <th>10</th>\n",
       "      <td>2.0</td>\n",
       "      <td>39</td>\n",
       "      <td>0.0</td>\n",
       "      <td>0.0</td>\n",
       "      <td>0.0</td>\n",
       "    </tr>\n",
       "  </tbody>\n",
       "</table>\n",
       "</div>"
      ],
      "text/plain": [
       "    var3  var15  imp_ent_var16_ult1  imp_op_var39_comer_ult1  \\\n",
       "ID                                                             \n",
       "1    2.0     23                 0.0                      0.0   \n",
       "3    2.0     34                 0.0                      0.0   \n",
       "4    2.0     23                 0.0                      0.0   \n",
       "8    2.0     37                 0.0                    195.0   \n",
       "10   2.0     39                 0.0                      0.0   \n",
       "\n",
       "    imp_op_var39_comer_ult3  \n",
       "ID                           \n",
       "1                       0.0  \n",
       "3                       0.0  \n",
       "4                       0.0  \n",
       "8                     195.0  \n",
       "10                      0.0  "
      ]
     },
     "execution_count": 114,
     "metadata": {},
     "output_type": "execute_result"
    }
   ],
   "source": [
    "print(muted.shape)\n",
    "muted.iloc[:5,:5]"
   ]
  },
  {
   "cell_type": "code",
   "execution_count": 7,
   "metadata": {
    "collapsed": false
   },
   "outputs": [
    {
     "name": "stdout",
     "output_type": "stream",
     "text": [
      "(45908, 964)\n"
     ]
    }
   ],
   "source": [
    "no_null = muted.dropna()\n",
    "\n",
    "print(no_null.shape)"
   ]
  },
  {
   "cell_type": "code",
   "execution_count": 10,
   "metadata": {
    "collapsed": false
   },
   "outputs": [
    {
     "name": "stdout",
     "output_type": "stream",
     "text": [
      "(76020, 962)\n"
     ]
    }
   ],
   "source": [
    "less_ft = muted.dropna(axis=1)\n",
    "\n",
    "print(less_ft.shape)"
   ]
  },
  {
   "cell_type": "code",
   "execution_count": 40,
   "metadata": {
    "collapsed": false
   },
   "outputs": [],
   "source": [
    "from sklearn.feature_selection import SelectKBest, chi2\n",
    "from sklearn.cross_validation import train_test_split, StratifiedKFold\n",
    "from sklearn.model_selection import GridSearchCV\n",
    "from sklearn.model_selection import cross_val_score\n",
    "\n",
    "\n",
    "from sklearn import metrics\n",
    "from sklearn.preprocessing import MinMaxScaler\n",
    "from sklearn.decomposition import PCA\n",
    "from sklearn.linear_model import LogisticRegression\n",
    "from sklearn.svm import SVC\n",
    "from xgboost import XGBClassifier\n",
    "from sklearn.ensemble import RandomForestClassifier\n",
    "\n",
    "from sklearn.pipeline import Pipeline\n"
   ]
  },
  {
   "cell_type": "markdown",
   "metadata": {},
   "source": [
    "#### Construct a pipeline from feature selection to logistic regression\n",
    "--> Also optimize the choice of K best features"
   ]
  },
  {
   "cell_type": "code",
   "execution_count": 35,
   "metadata": {
    "collapsed": false
   },
   "outputs": [],
   "source": [
    "pipeline = Pipeline([\n",
    "    ('minmax', MinMaxScaler()),\n",
    "    ('kBest', SelectKBest(chi2, k = 100)),\n",
    "    \n",
    "    #('pca', PCA()),\n",
    "    #('LG', LogisticRegression())\n",
    "    #('RF', RandomForestClassifier(n_estimators = 100)),\n",
    "    ('svm', SVC())\n",
    "])\n",
    "parameters = {\n",
    "    #'kBest__k':(10,50,100,200,500),\n",
    "    #'pca__n_components':(10,20,40),\n",
    "    #'LG__C':(0.1,1,10,100)\n",
    "    'svm__C':(0.1,1,10,100)\n",
    "}"
   ]
  },
  {
   "cell_type": "code",
   "execution_count": 36,
   "metadata": {
    "collapsed": false,
    "scrolled": false
   },
   "outputs": [
    {
     "name": "stdout",
     "output_type": "stream",
     "text": [
      "Fitting 3 folds for each of 4 candidates, totalling 12 fits\n"
     ]
    },
    {
     "name": "stderr",
     "output_type": "stream",
     "text": [
      "Process ForkPoolWorker-9:\n",
      "Process ForkPoolWorker-12:\n",
      "Process ForkPoolWorker-10:\n",
      "Process ForkPoolWorker-11:\n",
      "Traceback (most recent call last):\n",
      "Traceback (most recent call last):\n",
      "  File \"/Users/yizhao/anaconda3/lib/python3.5/multiprocessing/process.py\", line 249, in _bootstrap\n",
      "    self.run()\n",
      "  File \"/Users/yizhao/anaconda3/lib/python3.5/multiprocessing/process.py\", line 93, in run\n",
      "    self._target(*self._args, **self._kwargs)\n",
      "Traceback (most recent call last):\n"
     ]
    },
    {
     "ename": "KeyboardInterrupt",
     "evalue": "",
     "output_type": "error",
     "traceback": [
      "\u001b[0;31m---------------------------------------------------------------------------\u001b[0m",
      "\u001b[0;31mKeyboardInterrupt\u001b[0m                         Traceback (most recent call last)",
      "\u001b[0;32m<ipython-input-36-0ee52832439c>\u001b[0m in \u001b[0;36m<module>\u001b[0;34m()\u001b[0m\n\u001b[1;32m      4\u001b[0m \u001b[0;31m#metrics.f1_score\u001b[0m\u001b[0;34m\u001b[0m\u001b[0;34m\u001b[0m\u001b[0m\n\u001b[1;32m      5\u001b[0m \u001b[0;34m\u001b[0m\u001b[0m\n\u001b[0;32m----> 6\u001b[0;31m \u001b[0mgrid_search\u001b[0m\u001b[0;34m.\u001b[0m\u001b[0mfit\u001b[0m\u001b[0;34m(\u001b[0m\u001b[0mless_ft\u001b[0m\u001b[0;34m,\u001b[0m \u001b[0mtrain_raw\u001b[0m\u001b[0;34m.\u001b[0m\u001b[0mTARGET\u001b[0m\u001b[0;34m)\u001b[0m \u001b[0;31m# the last column is the target\u001b[0m\u001b[0;34m\u001b[0m\u001b[0m\n\u001b[0m\u001b[1;32m      7\u001b[0m \u001b[0;34m\u001b[0m\u001b[0m\n\u001b[1;32m      8\u001b[0m \u001b[0mbest_parameters\u001b[0m \u001b[0;34m=\u001b[0m \u001b[0mgrid_search\u001b[0m\u001b[0;34m.\u001b[0m\u001b[0mbest_estimator_\u001b[0m\u001b[0;34m.\u001b[0m\u001b[0mget_params\u001b[0m\u001b[0;34m(\u001b[0m\u001b[0;34m)\u001b[0m\u001b[0;34m\u001b[0m\u001b[0m\n",
      "\u001b[0;32m/Users/yizhao/anaconda3/lib/python3.5/site-packages/sklearn/model_selection/_search.py\u001b[0m in \u001b[0;36mfit\u001b[0;34m(self, X, y, groups)\u001b[0m\n\u001b[1;32m    943\u001b[0m             \u001b[0mtrain\u001b[0m\u001b[0;34m/\u001b[0m\u001b[0mtest\u001b[0m \u001b[0mset\u001b[0m\u001b[0;34m.\u001b[0m\u001b[0;34m\u001b[0m\u001b[0m\n\u001b[1;32m    944\u001b[0m         \"\"\"\n\u001b[0;32m--> 945\u001b[0;31m         \u001b[0;32mreturn\u001b[0m \u001b[0mself\u001b[0m\u001b[0;34m.\u001b[0m\u001b[0m_fit\u001b[0m\u001b[0;34m(\u001b[0m\u001b[0mX\u001b[0m\u001b[0;34m,\u001b[0m \u001b[0my\u001b[0m\u001b[0;34m,\u001b[0m \u001b[0mgroups\u001b[0m\u001b[0;34m,\u001b[0m \u001b[0mParameterGrid\u001b[0m\u001b[0;34m(\u001b[0m\u001b[0mself\u001b[0m\u001b[0;34m.\u001b[0m\u001b[0mparam_grid\u001b[0m\u001b[0;34m)\u001b[0m\u001b[0;34m)\u001b[0m\u001b[0;34m\u001b[0m\u001b[0m\n\u001b[0m\u001b[1;32m    946\u001b[0m \u001b[0;34m\u001b[0m\u001b[0m\n\u001b[1;32m    947\u001b[0m \u001b[0;34m\u001b[0m\u001b[0m\n",
      "\u001b[0;32m/Users/yizhao/anaconda3/lib/python3.5/site-packages/sklearn/model_selection/_search.py\u001b[0m in \u001b[0;36m_fit\u001b[0;34m(self, X, y, groups, parameter_iterable)\u001b[0m\n\u001b[1;32m    562\u001b[0m                                   \u001b[0mreturn_times\u001b[0m\u001b[0;34m=\u001b[0m\u001b[0;32mTrue\u001b[0m\u001b[0;34m,\u001b[0m \u001b[0mreturn_parameters\u001b[0m\u001b[0;34m=\u001b[0m\u001b[0;32mTrue\u001b[0m\u001b[0;34m,\u001b[0m\u001b[0;34m\u001b[0m\u001b[0m\n\u001b[1;32m    563\u001b[0m                                   error_score=self.error_score)\n\u001b[0;32m--> 564\u001b[0;31m           \u001b[0;32mfor\u001b[0m \u001b[0mparameters\u001b[0m \u001b[0;32min\u001b[0m \u001b[0mparameter_iterable\u001b[0m\u001b[0;34m\u001b[0m\u001b[0m\n\u001b[0m\u001b[1;32m    565\u001b[0m           for train, test in cv_iter)\n\u001b[1;32m    566\u001b[0m \u001b[0;34m\u001b[0m\u001b[0m\n",
      "\u001b[0;32m/Users/yizhao/anaconda3/lib/python3.5/site-packages/sklearn/externals/joblib/parallel.py\u001b[0m in \u001b[0;36m__call__\u001b[0;34m(self, iterable)\u001b[0m\n\u001b[1;32m    766\u001b[0m                 \u001b[0;31m# consumption.\u001b[0m\u001b[0;34m\u001b[0m\u001b[0;34m\u001b[0m\u001b[0m\n\u001b[1;32m    767\u001b[0m                 \u001b[0mself\u001b[0m\u001b[0;34m.\u001b[0m\u001b[0m_iterating\u001b[0m \u001b[0;34m=\u001b[0m \u001b[0;32mFalse\u001b[0m\u001b[0;34m\u001b[0m\u001b[0m\n\u001b[0;32m--> 768\u001b[0;31m             \u001b[0mself\u001b[0m\u001b[0;34m.\u001b[0m\u001b[0mretrieve\u001b[0m\u001b[0;34m(\u001b[0m\u001b[0;34m)\u001b[0m\u001b[0;34m\u001b[0m\u001b[0m\n\u001b[0m\u001b[1;32m    769\u001b[0m             \u001b[0;31m# Make sure that we get a last message telling us we are done\u001b[0m\u001b[0;34m\u001b[0m\u001b[0;34m\u001b[0m\u001b[0m\n\u001b[1;32m    770\u001b[0m             \u001b[0melapsed_time\u001b[0m \u001b[0;34m=\u001b[0m \u001b[0mtime\u001b[0m\u001b[0;34m.\u001b[0m\u001b[0mtime\u001b[0m\u001b[0;34m(\u001b[0m\u001b[0;34m)\u001b[0m \u001b[0;34m-\u001b[0m \u001b[0mself\u001b[0m\u001b[0;34m.\u001b[0m\u001b[0m_start_time\u001b[0m\u001b[0;34m\u001b[0m\u001b[0m\n",
      "\u001b[0;32m/Users/yizhao/anaconda3/lib/python3.5/site-packages/sklearn/externals/joblib/parallel.py\u001b[0m in \u001b[0;36mretrieve\u001b[0;34m(self)\u001b[0m\n\u001b[1;32m    717\u001b[0m                     \u001b[0mensure_ready\u001b[0m \u001b[0;34m=\u001b[0m \u001b[0mself\u001b[0m\u001b[0;34m.\u001b[0m\u001b[0m_managed_backend\u001b[0m\u001b[0;34m\u001b[0m\u001b[0m\n\u001b[1;32m    718\u001b[0m                     \u001b[0mbackend\u001b[0m\u001b[0;34m.\u001b[0m\u001b[0mabort_everything\u001b[0m\u001b[0;34m(\u001b[0m\u001b[0mensure_ready\u001b[0m\u001b[0;34m=\u001b[0m\u001b[0mensure_ready\u001b[0m\u001b[0;34m)\u001b[0m\u001b[0;34m\u001b[0m\u001b[0m\n\u001b[0;32m--> 719\u001b[0;31m                 \u001b[0;32mraise\u001b[0m \u001b[0mexception\u001b[0m\u001b[0;34m\u001b[0m\u001b[0m\n\u001b[0m\u001b[1;32m    720\u001b[0m \u001b[0;34m\u001b[0m\u001b[0m\n\u001b[1;32m    721\u001b[0m     \u001b[0;32mdef\u001b[0m \u001b[0m__call__\u001b[0m\u001b[0;34m(\u001b[0m\u001b[0mself\u001b[0m\u001b[0;34m,\u001b[0m \u001b[0miterable\u001b[0m\u001b[0;34m)\u001b[0m\u001b[0;34m:\u001b[0m\u001b[0;34m\u001b[0m\u001b[0m\n",
      "\u001b[0;32m/Users/yizhao/anaconda3/lib/python3.5/site-packages/sklearn/externals/joblib/parallel.py\u001b[0m in \u001b[0;36mretrieve\u001b[0;34m(self)\u001b[0m\n\u001b[1;32m    680\u001b[0m                 \u001b[0;31m# check if timeout supported in backend future implementation\u001b[0m\u001b[0;34m\u001b[0m\u001b[0;34m\u001b[0m\u001b[0m\n\u001b[1;32m    681\u001b[0m                 \u001b[0;32mif\u001b[0m \u001b[0;34m'timeout'\u001b[0m \u001b[0;32min\u001b[0m \u001b[0mgetfullargspec\u001b[0m\u001b[0;34m(\u001b[0m\u001b[0mjob\u001b[0m\u001b[0;34m.\u001b[0m\u001b[0mget\u001b[0m\u001b[0;34m)\u001b[0m\u001b[0;34m.\u001b[0m\u001b[0margs\u001b[0m\u001b[0;34m:\u001b[0m\u001b[0;34m\u001b[0m\u001b[0m\n\u001b[0;32m--> 682\u001b[0;31m                     \u001b[0mself\u001b[0m\u001b[0;34m.\u001b[0m\u001b[0m_output\u001b[0m\u001b[0;34m.\u001b[0m\u001b[0mextend\u001b[0m\u001b[0;34m(\u001b[0m\u001b[0mjob\u001b[0m\u001b[0;34m.\u001b[0m\u001b[0mget\u001b[0m\u001b[0;34m(\u001b[0m\u001b[0mtimeout\u001b[0m\u001b[0;34m=\u001b[0m\u001b[0mself\u001b[0m\u001b[0;34m.\u001b[0m\u001b[0mtimeout\u001b[0m\u001b[0;34m)\u001b[0m\u001b[0;34m)\u001b[0m\u001b[0;34m\u001b[0m\u001b[0m\n\u001b[0m\u001b[1;32m    683\u001b[0m                 \u001b[0;32melse\u001b[0m\u001b[0;34m:\u001b[0m\u001b[0;34m\u001b[0m\u001b[0m\n\u001b[1;32m    684\u001b[0m                     \u001b[0mself\u001b[0m\u001b[0;34m.\u001b[0m\u001b[0m_output\u001b[0m\u001b[0;34m.\u001b[0m\u001b[0mextend\u001b[0m\u001b[0;34m(\u001b[0m\u001b[0mjob\u001b[0m\u001b[0;34m.\u001b[0m\u001b[0mget\u001b[0m\u001b[0;34m(\u001b[0m\u001b[0;34m)\u001b[0m\u001b[0;34m)\u001b[0m\u001b[0;34m\u001b[0m\u001b[0m\n",
      "\u001b[0;32m/Users/yizhao/anaconda3/lib/python3.5/multiprocessing/pool.py\u001b[0m in \u001b[0;36mget\u001b[0;34m(self, timeout)\u001b[0m\n\u001b[1;32m    600\u001b[0m \u001b[0;34m\u001b[0m\u001b[0m\n\u001b[1;32m    601\u001b[0m     \u001b[0;32mdef\u001b[0m \u001b[0mget\u001b[0m\u001b[0;34m(\u001b[0m\u001b[0mself\u001b[0m\u001b[0;34m,\u001b[0m \u001b[0mtimeout\u001b[0m\u001b[0;34m=\u001b[0m\u001b[0;32mNone\u001b[0m\u001b[0;34m)\u001b[0m\u001b[0;34m:\u001b[0m\u001b[0;34m\u001b[0m\u001b[0m\n\u001b[0;32m--> 602\u001b[0;31m         \u001b[0mself\u001b[0m\u001b[0;34m.\u001b[0m\u001b[0mwait\u001b[0m\u001b[0;34m(\u001b[0m\u001b[0mtimeout\u001b[0m\u001b[0;34m)\u001b[0m\u001b[0;34m\u001b[0m\u001b[0m\n\u001b[0m\u001b[1;32m    603\u001b[0m         \u001b[0;32mif\u001b[0m \u001b[0;32mnot\u001b[0m \u001b[0mself\u001b[0m\u001b[0;34m.\u001b[0m\u001b[0mready\u001b[0m\u001b[0;34m(\u001b[0m\u001b[0;34m)\u001b[0m\u001b[0;34m:\u001b[0m\u001b[0;34m\u001b[0m\u001b[0m\n\u001b[1;32m    604\u001b[0m             \u001b[0;32mraise\u001b[0m \u001b[0mTimeoutError\u001b[0m\u001b[0;34m\u001b[0m\u001b[0m\n",
      "\u001b[0;32m/Users/yizhao/anaconda3/lib/python3.5/multiprocessing/pool.py\u001b[0m in \u001b[0;36mwait\u001b[0;34m(self, timeout)\u001b[0m\n\u001b[1;32m    597\u001b[0m \u001b[0;34m\u001b[0m\u001b[0m\n\u001b[1;32m    598\u001b[0m     \u001b[0;32mdef\u001b[0m \u001b[0mwait\u001b[0m\u001b[0;34m(\u001b[0m\u001b[0mself\u001b[0m\u001b[0;34m,\u001b[0m \u001b[0mtimeout\u001b[0m\u001b[0;34m=\u001b[0m\u001b[0;32mNone\u001b[0m\u001b[0;34m)\u001b[0m\u001b[0;34m:\u001b[0m\u001b[0;34m\u001b[0m\u001b[0m\n\u001b[0;32m--> 599\u001b[0;31m         \u001b[0mself\u001b[0m\u001b[0;34m.\u001b[0m\u001b[0m_event\u001b[0m\u001b[0;34m.\u001b[0m\u001b[0mwait\u001b[0m\u001b[0;34m(\u001b[0m\u001b[0mtimeout\u001b[0m\u001b[0;34m)\u001b[0m\u001b[0;34m\u001b[0m\u001b[0m\n\u001b[0m\u001b[1;32m    600\u001b[0m \u001b[0;34m\u001b[0m\u001b[0m\n\u001b[1;32m    601\u001b[0m     \u001b[0;32mdef\u001b[0m \u001b[0mget\u001b[0m\u001b[0;34m(\u001b[0m\u001b[0mself\u001b[0m\u001b[0;34m,\u001b[0m \u001b[0mtimeout\u001b[0m\u001b[0;34m=\u001b[0m\u001b[0;32mNone\u001b[0m\u001b[0;34m)\u001b[0m\u001b[0;34m:\u001b[0m\u001b[0;34m\u001b[0m\u001b[0m\n",
      "\u001b[0;32m/Users/yizhao/anaconda3/lib/python3.5/threading.py\u001b[0m in \u001b[0;36mwait\u001b[0;34m(self, timeout)\u001b[0m\n\u001b[1;32m    547\u001b[0m             \u001b[0msignaled\u001b[0m \u001b[0;34m=\u001b[0m \u001b[0mself\u001b[0m\u001b[0;34m.\u001b[0m\u001b[0m_flag\u001b[0m\u001b[0;34m\u001b[0m\u001b[0m\n\u001b[1;32m    548\u001b[0m             \u001b[0;32mif\u001b[0m \u001b[0;32mnot\u001b[0m \u001b[0msignaled\u001b[0m\u001b[0;34m:\u001b[0m\u001b[0;34m\u001b[0m\u001b[0m\n\u001b[0;32m--> 549\u001b[0;31m                 \u001b[0msignaled\u001b[0m \u001b[0;34m=\u001b[0m \u001b[0mself\u001b[0m\u001b[0;34m.\u001b[0m\u001b[0m_cond\u001b[0m\u001b[0;34m.\u001b[0m\u001b[0mwait\u001b[0m\u001b[0;34m(\u001b[0m\u001b[0mtimeout\u001b[0m\u001b[0;34m)\u001b[0m\u001b[0;34m\u001b[0m\u001b[0m\n\u001b[0m\u001b[1;32m    550\u001b[0m             \u001b[0;32mreturn\u001b[0m \u001b[0msignaled\u001b[0m\u001b[0;34m\u001b[0m\u001b[0m\n\u001b[1;32m    551\u001b[0m \u001b[0;34m\u001b[0m\u001b[0m\n",
      "\u001b[0;32m/Users/yizhao/anaconda3/lib/python3.5/threading.py\u001b[0m in \u001b[0;36mwait\u001b[0;34m(self, timeout)\u001b[0m\n\u001b[1;32m    291\u001b[0m         \u001b[0;32mtry\u001b[0m\u001b[0;34m:\u001b[0m    \u001b[0;31m# restore state no matter what (e.g., KeyboardInterrupt)\u001b[0m\u001b[0;34m\u001b[0m\u001b[0m\n\u001b[1;32m    292\u001b[0m             \u001b[0;32mif\u001b[0m \u001b[0mtimeout\u001b[0m \u001b[0;32mis\u001b[0m \u001b[0;32mNone\u001b[0m\u001b[0;34m:\u001b[0m\u001b[0;34m\u001b[0m\u001b[0m\n\u001b[0;32m--> 293\u001b[0;31m                 \u001b[0mwaiter\u001b[0m\u001b[0;34m.\u001b[0m\u001b[0macquire\u001b[0m\u001b[0;34m(\u001b[0m\u001b[0;34m)\u001b[0m\u001b[0;34m\u001b[0m\u001b[0m\n\u001b[0m\u001b[1;32m    294\u001b[0m                 \u001b[0mgotit\u001b[0m \u001b[0;34m=\u001b[0m \u001b[0;32mTrue\u001b[0m\u001b[0;34m\u001b[0m\u001b[0m\n\u001b[1;32m    295\u001b[0m             \u001b[0;32melse\u001b[0m\u001b[0;34m:\u001b[0m\u001b[0;34m\u001b[0m\u001b[0m\n",
      "\u001b[0;31mKeyboardInterrupt\u001b[0m: "
     ]
    }
   ],
   "source": [
    "\n",
    "grid_search = GridSearchCV(pipeline, parameters, n_jobs=-1, verbose=1, \n",
    "                           scoring= metrics.make_scorer(metrics.accuracy_score))\n",
    "#metrics.f1_score\n",
    "\n",
    "grid_search.fit(less_ft, train_raw.TARGET) # the last column is the target\n",
    "\n",
    "best_parameters = grid_search.best_estimator_.get_params()\n",
    "print( best_parameters)"
   ]
  },
  {
   "cell_type": "code",
   "execution_count": 37,
   "metadata": {
    "collapsed": true
   },
   "outputs": [],
   "source": [
    "seed = 1\n",
    "kfold = StratifiedKFold(train_raw.TARGET, n_folds=5, random_state=seed) "
   ]
  },
  {
   "cell_type": "code",
   "execution_count": 38,
   "metadata": {
    "collapsed": false
   },
   "outputs": [
    {
     "name": "stderr",
     "output_type": "stream",
     "text": [
      "/Users/yizhao/anaconda3/lib/python3.5/site-packages/sklearn/metrics/classification.py:1113: UndefinedMetricWarning: F-score is ill-defined and being set to 0.0 due to no predicted samples.\n",
      "  'precision', 'predicted', average, warn_for)\n"
     ]
    },
    {
     "name": "stdout",
     "output_type": "stream",
     "text": [
      "chi2 top 100 feature Logistic Regression\n",
      " mean f1_score score: \n",
      " 0.0\n"
     ]
    },
    {
     "name": "stderr",
     "output_type": "stream",
     "text": [
      "/Users/yizhao/anaconda3/lib/python3.5/site-packages/sklearn/metrics/classification.py:1113: UndefinedMetricWarning: F-score is ill-defined and being set to 0.0 due to no predicted samples.\n",
      "  'precision', 'predicted', average, warn_for)\n"
     ]
    }
   ],
   "source": [
    "pipe_LG = Pipeline([\n",
    "    ('minmax', MinMaxScaler()),\n",
    "    ('kBest', SelectKBest(chi2, k = 100)),\n",
    "    ('LG', LogisticRegression(C=0.1)) # SGDclassifier \n",
    "])\n",
    "\n",
    "results = cross_val_score(pipe_LG,  # run on the pipeline\n",
    "                          less_ft, train_raw.TARGET,  # review texts and sales rank\n",
    "                          cv=kfold,  \n",
    "                          scoring = metrics.make_scorer(metrics.f1_score))\n",
    "print('chi2 top 100 feature Logistic Regression\\n mean f1_score score: \\n',\n",
    "      results.mean())"
   ]
  },
  {
   "cell_type": "code",
   "execution_count": 38,
   "metadata": {
    "collapsed": false
   },
   "outputs": [
    {
     "name": "stderr",
     "output_type": "stream",
     "text": [
      "/Users/yizhao/anaconda3/lib/python3.5/site-packages/sklearn/metrics/classification.py:1113: UndefinedMetricWarning: F-score is ill-defined and being set to 0.0 due to no predicted samples.\n",
      "  'precision', 'predicted', average, warn_for)\n",
      "/Users/yizhao/anaconda3/lib/python3.5/site-packages/sklearn/metrics/classification.py:1113: UndefinedMetricWarning: F-score is ill-defined and being set to 0.0 due to no predicted samples.\n",
      "  'precision', 'predicted', average, warn_for)\n",
      "/Users/yizhao/anaconda3/lib/python3.5/site-packages/sklearn/metrics/classification.py:1113: UndefinedMetricWarning: F-score is ill-defined and being set to 0.0 due to no predicted samples.\n",
      "  'precision', 'predicted', average, warn_for)\n",
      "/Users/yizhao/anaconda3/lib/python3.5/site-packages/sklearn/metrics/classification.py:1113: UndefinedMetricWarning: F-score is ill-defined and being set to 0.0 due to no predicted samples.\n",
      "  'precision', 'predicted', average, warn_for)\n"
     ]
    },
    {
     "name": "stdout",
     "output_type": "stream",
     "text": [
      "chi2 top 100 feature SVM\n",
      " mean f1_score score: \n",
      " 0.0\n"
     ]
    },
    {
     "name": "stderr",
     "output_type": "stream",
     "text": [
      "/Users/yizhao/anaconda3/lib/python3.5/site-packages/sklearn/metrics/classification.py:1113: UndefinedMetricWarning: F-score is ill-defined and being set to 0.0 due to no predicted samples.\n",
      "  'precision', 'predicted', average, warn_for)\n"
     ]
    }
   ],
   "source": [
    "pipe_svm = Pipeline([\n",
    "    ('minmax', MinMaxScaler()),\n",
    "    ('kBest', SelectKBest(chi2, k = 100)),\n",
    "    ('svm', SVC(C=0.1)) # SGDclassifier \n",
    "])\n",
    "\n",
    "results = cross_val_score(pipe_svm,  # run on the pipeline\n",
    "                          less_ft, train_raw.TARGET,  # review texts and sales rank\n",
    "                          cv=kfold,  \n",
    "                          scoring = metrics.make_scorer(metrics.f1_score))\n",
    "print('chi2 top 100 feature SVM\\n mean f1_score score: \\n',\n",
    "      results.mean())"
   ]
  },
  {
   "cell_type": "code",
   "execution_count": 39,
   "metadata": {
    "collapsed": false
   },
   "outputs": [
    {
     "name": "stderr",
     "output_type": "stream",
     "text": [
      "/Users/yizhao/anaconda3/lib/python3.5/site-packages/sklearn/metrics/classification.py:1113: UndefinedMetricWarning: F-score is ill-defined and being set to 0.0 due to no predicted samples.\n",
      "  'precision', 'predicted', average, warn_for)\n",
      "/Users/yizhao/anaconda3/lib/python3.5/site-packages/sklearn/metrics/classification.py:1113: UndefinedMetricWarning: F-score is ill-defined and being set to 0.0 due to no predicted samples.\n",
      "  'precision', 'predicted', average, warn_for)\n"
     ]
    },
    {
     "name": "stdout",
     "output_type": "stream",
     "text": [
      "XGBoost Classifier\n",
      " mean f1_score score: \n",
      " 0.0588321326693\n"
     ]
    }
   ],
   "source": [
    "pipe_XGBoost = Pipeline([\n",
    "    ('minmax', MinMaxScaler()),\n",
    "    ('xgboost', XGBClassifier(max_depth=2))  \n",
    "])\n",
    "\n",
    "results = cross_val_score(pipe_XGBoost,  # run on the pipeline\n",
    "                          less_ft, train_raw.TARGET,  # review texts and sales rank\n",
    "                          cv=kfold,  \n",
    "                          scoring = metrics.make_scorer(metrics.f1_score))\n",
    "print('XGBoost Classifier\\n mean f1_score score: \\n',\n",
    "      results.mean())"
   ]
  },
  {
   "cell_type": "code",
   "execution_count": 41,
   "metadata": {
    "collapsed": false
   },
   "outputs": [
    {
     "name": "stdout",
     "output_type": "stream",
     "text": [
      "RandomForest Classifier\n",
      " mean f1_score score: \n",
      " 0.0939305405907\n"
     ]
    }
   ],
   "source": [
    "# use no feature transformation\n",
    "results = cross_val_score(RandomForestClassifier(n_estimators=100),  \n",
    "                          less_ft, train_raw.TARGET,  \n",
    "                          cv=kfold,  \n",
    "                          scoring = metrics.make_scorer(metrics.f1_score))\n",
    "print('RandomForest Classifier\\n mean f1_score score: \\n',\n",
    "      results.mean())"
   ]
  },
  {
   "cell_type": "code",
   "execution_count": 53,
   "metadata": {
    "collapsed": false
   },
   "outputs": [
    {
     "data": {
      "text/plain": [
       "array([    0,     1,     2, ..., 76017, 76018, 76019])"
      ]
     },
     "execution_count": 53,
     "metadata": {},
     "output_type": "execute_result"
    }
   ],
   "source": [
    "train_raw.index.values"
   ]
  },
  {
   "cell_type": "code",
   "execution_count": 61,
   "metadata": {
    "collapsed": false
   },
   "outputs": [
    {
     "data": {
      "text/plain": [
       "(45908, 964)"
      ]
     },
     "execution_count": 61,
     "metadata": {},
     "output_type": "execute_result"
    }
   ],
   "source": [
    "# use the original raw data set\n",
    "X = muted.dropna(axis = 0)\n",
    "y = train_raw.ix[X.index.values][['TARGET']]\n",
    "X.shape"
   ]
  },
  {
   "cell_type": "code",
   "execution_count": 62,
   "metadata": {
    "collapsed": false
   },
   "outputs": [
    {
     "data": {
      "text/plain": [
       "45908"
      ]
     },
     "execution_count": 62,
     "metadata": {},
     "output_type": "execute_result"
    }
   ],
   "source": [
    "y.size"
   ]
  },
  {
   "cell_type": "code",
   "execution_count": 66,
   "metadata": {
    "collapsed": false
   },
   "outputs": [
    {
     "ename": "IndexError",
     "evalue": "positional indexers are out-of-bounds",
     "output_type": "error",
     "traceback": [
      "\u001b[0;31m---------------------------------------------------------------------------\u001b[0m",
      "\u001b[0;31mIndexError\u001b[0m                                Traceback (most recent call last)",
      "\u001b[0;32m<ipython-input-66-991a3b186251>\u001b[0m in \u001b[0;36m<module>\u001b[0;34m()\u001b[0m\n\u001b[1;32m      2\u001b[0m                           \u001b[0mX\u001b[0m\u001b[0;34m,\u001b[0m \u001b[0my\u001b[0m\u001b[0;34m,\u001b[0m\u001b[0;34m\u001b[0m\u001b[0m\n\u001b[1;32m      3\u001b[0m                           \u001b[0mcv\u001b[0m\u001b[0;34m=\u001b[0m\u001b[0mkfold\u001b[0m\u001b[0;34m,\u001b[0m\u001b[0;34m\u001b[0m\u001b[0m\n\u001b[0;32m----> 4\u001b[0;31m                           scoring = metrics.make_scorer(metrics.f1_score))\n\u001b[0m\u001b[1;32m      5\u001b[0m print('RandomForest Classifier\\n mean f1_score score: \\n',\n\u001b[1;32m      6\u001b[0m       results.mean())\n",
      "\u001b[0;32m/Users/yizhao/anaconda3/lib/python3.5/site-packages/sklearn/model_selection/_validation.py\u001b[0m in \u001b[0;36mcross_val_score\u001b[0;34m(estimator, X, y, groups, scoring, cv, n_jobs, verbose, fit_params, pre_dispatch)\u001b[0m\n\u001b[1;32m    138\u001b[0m                                               \u001b[0mtrain\u001b[0m\u001b[0;34m,\u001b[0m \u001b[0mtest\u001b[0m\u001b[0;34m,\u001b[0m \u001b[0mverbose\u001b[0m\u001b[0;34m,\u001b[0m \u001b[0;32mNone\u001b[0m\u001b[0;34m,\u001b[0m\u001b[0;34m\u001b[0m\u001b[0m\n\u001b[1;32m    139\u001b[0m                                               fit_params)\n\u001b[0;32m--> 140\u001b[0;31m                       for train, test in cv_iter)\n\u001b[0m\u001b[1;32m    141\u001b[0m     \u001b[0;32mreturn\u001b[0m \u001b[0mnp\u001b[0m\u001b[0;34m.\u001b[0m\u001b[0marray\u001b[0m\u001b[0;34m(\u001b[0m\u001b[0mscores\u001b[0m\u001b[0;34m)\u001b[0m\u001b[0;34m[\u001b[0m\u001b[0;34m:\u001b[0m\u001b[0;34m,\u001b[0m \u001b[0;36m0\u001b[0m\u001b[0;34m]\u001b[0m\u001b[0;34m\u001b[0m\u001b[0m\n\u001b[1;32m    142\u001b[0m \u001b[0;34m\u001b[0m\u001b[0m\n",
      "\u001b[0;32m/Users/yizhao/anaconda3/lib/python3.5/site-packages/sklearn/externals/joblib/parallel.py\u001b[0m in \u001b[0;36m__call__\u001b[0;34m(self, iterable)\u001b[0m\n\u001b[1;32m    756\u001b[0m             \u001b[0;31m# was dispatched. In particular this covers the edge\u001b[0m\u001b[0;34m\u001b[0m\u001b[0;34m\u001b[0m\u001b[0m\n\u001b[1;32m    757\u001b[0m             \u001b[0;31m# case of Parallel used with an exhausted iterator.\u001b[0m\u001b[0;34m\u001b[0m\u001b[0;34m\u001b[0m\u001b[0m\n\u001b[0;32m--> 758\u001b[0;31m             \u001b[0;32mwhile\u001b[0m \u001b[0mself\u001b[0m\u001b[0;34m.\u001b[0m\u001b[0mdispatch_one_batch\u001b[0m\u001b[0;34m(\u001b[0m\u001b[0miterator\u001b[0m\u001b[0;34m)\u001b[0m\u001b[0;34m:\u001b[0m\u001b[0;34m\u001b[0m\u001b[0m\n\u001b[0m\u001b[1;32m    759\u001b[0m                 \u001b[0mself\u001b[0m\u001b[0;34m.\u001b[0m\u001b[0m_iterating\u001b[0m \u001b[0;34m=\u001b[0m \u001b[0;32mTrue\u001b[0m\u001b[0;34m\u001b[0m\u001b[0m\n\u001b[1;32m    760\u001b[0m             \u001b[0;32melse\u001b[0m\u001b[0;34m:\u001b[0m\u001b[0;34m\u001b[0m\u001b[0m\n",
      "\u001b[0;32m/Users/yizhao/anaconda3/lib/python3.5/site-packages/sklearn/externals/joblib/parallel.py\u001b[0m in \u001b[0;36mdispatch_one_batch\u001b[0;34m(self, iterator)\u001b[0m\n\u001b[1;32m    606\u001b[0m                 \u001b[0;32mreturn\u001b[0m \u001b[0;32mFalse\u001b[0m\u001b[0;34m\u001b[0m\u001b[0m\n\u001b[1;32m    607\u001b[0m             \u001b[0;32melse\u001b[0m\u001b[0;34m:\u001b[0m\u001b[0;34m\u001b[0m\u001b[0m\n\u001b[0;32m--> 608\u001b[0;31m                 \u001b[0mself\u001b[0m\u001b[0;34m.\u001b[0m\u001b[0m_dispatch\u001b[0m\u001b[0;34m(\u001b[0m\u001b[0mtasks\u001b[0m\u001b[0;34m)\u001b[0m\u001b[0;34m\u001b[0m\u001b[0m\n\u001b[0m\u001b[1;32m    609\u001b[0m                 \u001b[0;32mreturn\u001b[0m \u001b[0;32mTrue\u001b[0m\u001b[0;34m\u001b[0m\u001b[0m\n\u001b[1;32m    610\u001b[0m \u001b[0;34m\u001b[0m\u001b[0m\n",
      "\u001b[0;32m/Users/yizhao/anaconda3/lib/python3.5/site-packages/sklearn/externals/joblib/parallel.py\u001b[0m in \u001b[0;36m_dispatch\u001b[0;34m(self, batch)\u001b[0m\n\u001b[1;32m    569\u001b[0m         \u001b[0mdispatch_timestamp\u001b[0m \u001b[0;34m=\u001b[0m \u001b[0mtime\u001b[0m\u001b[0;34m.\u001b[0m\u001b[0mtime\u001b[0m\u001b[0;34m(\u001b[0m\u001b[0;34m)\u001b[0m\u001b[0;34m\u001b[0m\u001b[0m\n\u001b[1;32m    570\u001b[0m         \u001b[0mcb\u001b[0m \u001b[0;34m=\u001b[0m \u001b[0mBatchCompletionCallBack\u001b[0m\u001b[0;34m(\u001b[0m\u001b[0mdispatch_timestamp\u001b[0m\u001b[0;34m,\u001b[0m \u001b[0mlen\u001b[0m\u001b[0;34m(\u001b[0m\u001b[0mbatch\u001b[0m\u001b[0;34m)\u001b[0m\u001b[0;34m,\u001b[0m \u001b[0mself\u001b[0m\u001b[0;34m)\u001b[0m\u001b[0;34m\u001b[0m\u001b[0m\n\u001b[0;32m--> 571\u001b[0;31m         \u001b[0mjob\u001b[0m \u001b[0;34m=\u001b[0m \u001b[0mself\u001b[0m\u001b[0;34m.\u001b[0m\u001b[0m_backend\u001b[0m\u001b[0;34m.\u001b[0m\u001b[0mapply_async\u001b[0m\u001b[0;34m(\u001b[0m\u001b[0mbatch\u001b[0m\u001b[0;34m,\u001b[0m \u001b[0mcallback\u001b[0m\u001b[0;34m=\u001b[0m\u001b[0mcb\u001b[0m\u001b[0;34m)\u001b[0m\u001b[0;34m\u001b[0m\u001b[0m\n\u001b[0m\u001b[1;32m    572\u001b[0m         \u001b[0mself\u001b[0m\u001b[0;34m.\u001b[0m\u001b[0m_jobs\u001b[0m\u001b[0;34m.\u001b[0m\u001b[0mappend\u001b[0m\u001b[0;34m(\u001b[0m\u001b[0mjob\u001b[0m\u001b[0;34m)\u001b[0m\u001b[0;34m\u001b[0m\u001b[0m\n\u001b[1;32m    573\u001b[0m \u001b[0;34m\u001b[0m\u001b[0m\n",
      "\u001b[0;32m/Users/yizhao/anaconda3/lib/python3.5/site-packages/sklearn/externals/joblib/_parallel_backends.py\u001b[0m in \u001b[0;36mapply_async\u001b[0;34m(self, func, callback)\u001b[0m\n\u001b[1;32m    107\u001b[0m     \u001b[0;32mdef\u001b[0m \u001b[0mapply_async\u001b[0m\u001b[0;34m(\u001b[0m\u001b[0mself\u001b[0m\u001b[0;34m,\u001b[0m \u001b[0mfunc\u001b[0m\u001b[0;34m,\u001b[0m \u001b[0mcallback\u001b[0m\u001b[0;34m=\u001b[0m\u001b[0;32mNone\u001b[0m\u001b[0;34m)\u001b[0m\u001b[0;34m:\u001b[0m\u001b[0;34m\u001b[0m\u001b[0m\n\u001b[1;32m    108\u001b[0m         \u001b[0;34m\"\"\"Schedule a func to be run\"\"\"\u001b[0m\u001b[0;34m\u001b[0m\u001b[0m\n\u001b[0;32m--> 109\u001b[0;31m         \u001b[0mresult\u001b[0m \u001b[0;34m=\u001b[0m \u001b[0mImmediateResult\u001b[0m\u001b[0;34m(\u001b[0m\u001b[0mfunc\u001b[0m\u001b[0;34m)\u001b[0m\u001b[0;34m\u001b[0m\u001b[0m\n\u001b[0m\u001b[1;32m    110\u001b[0m         \u001b[0;32mif\u001b[0m \u001b[0mcallback\u001b[0m\u001b[0;34m:\u001b[0m\u001b[0;34m\u001b[0m\u001b[0m\n\u001b[1;32m    111\u001b[0m             \u001b[0mcallback\u001b[0m\u001b[0;34m(\u001b[0m\u001b[0mresult\u001b[0m\u001b[0;34m)\u001b[0m\u001b[0;34m\u001b[0m\u001b[0m\n",
      "\u001b[0;32m/Users/yizhao/anaconda3/lib/python3.5/site-packages/sklearn/externals/joblib/_parallel_backends.py\u001b[0m in \u001b[0;36m__init__\u001b[0;34m(self, batch)\u001b[0m\n\u001b[1;32m    324\u001b[0m         \u001b[0;31m# Don't delay the application, to avoid keeping the input\u001b[0m\u001b[0;34m\u001b[0m\u001b[0;34m\u001b[0m\u001b[0m\n\u001b[1;32m    325\u001b[0m         \u001b[0;31m# arguments in memory\u001b[0m\u001b[0;34m\u001b[0m\u001b[0;34m\u001b[0m\u001b[0m\n\u001b[0;32m--> 326\u001b[0;31m         \u001b[0mself\u001b[0m\u001b[0;34m.\u001b[0m\u001b[0mresults\u001b[0m \u001b[0;34m=\u001b[0m \u001b[0mbatch\u001b[0m\u001b[0;34m(\u001b[0m\u001b[0;34m)\u001b[0m\u001b[0;34m\u001b[0m\u001b[0m\n\u001b[0m\u001b[1;32m    327\u001b[0m \u001b[0;34m\u001b[0m\u001b[0m\n\u001b[1;32m    328\u001b[0m     \u001b[0;32mdef\u001b[0m \u001b[0mget\u001b[0m\u001b[0;34m(\u001b[0m\u001b[0mself\u001b[0m\u001b[0;34m)\u001b[0m\u001b[0;34m:\u001b[0m\u001b[0;34m\u001b[0m\u001b[0m\n",
      "\u001b[0;32m/Users/yizhao/anaconda3/lib/python3.5/site-packages/sklearn/externals/joblib/parallel.py\u001b[0m in \u001b[0;36m__call__\u001b[0;34m(self)\u001b[0m\n\u001b[1;32m    129\u001b[0m \u001b[0;34m\u001b[0m\u001b[0m\n\u001b[1;32m    130\u001b[0m     \u001b[0;32mdef\u001b[0m \u001b[0m__call__\u001b[0m\u001b[0;34m(\u001b[0m\u001b[0mself\u001b[0m\u001b[0;34m)\u001b[0m\u001b[0;34m:\u001b[0m\u001b[0;34m\u001b[0m\u001b[0m\n\u001b[0;32m--> 131\u001b[0;31m         \u001b[0;32mreturn\u001b[0m \u001b[0;34m[\u001b[0m\u001b[0mfunc\u001b[0m\u001b[0;34m(\u001b[0m\u001b[0;34m*\u001b[0m\u001b[0margs\u001b[0m\u001b[0;34m,\u001b[0m \u001b[0;34m**\u001b[0m\u001b[0mkwargs\u001b[0m\u001b[0;34m)\u001b[0m \u001b[0;32mfor\u001b[0m \u001b[0mfunc\u001b[0m\u001b[0;34m,\u001b[0m \u001b[0margs\u001b[0m\u001b[0;34m,\u001b[0m \u001b[0mkwargs\u001b[0m \u001b[0;32min\u001b[0m \u001b[0mself\u001b[0m\u001b[0;34m.\u001b[0m\u001b[0mitems\u001b[0m\u001b[0;34m]\u001b[0m\u001b[0;34m\u001b[0m\u001b[0m\n\u001b[0m\u001b[1;32m    132\u001b[0m \u001b[0;34m\u001b[0m\u001b[0m\n\u001b[1;32m    133\u001b[0m     \u001b[0;32mdef\u001b[0m \u001b[0m__len__\u001b[0m\u001b[0;34m(\u001b[0m\u001b[0mself\u001b[0m\u001b[0;34m)\u001b[0m\u001b[0;34m:\u001b[0m\u001b[0;34m\u001b[0m\u001b[0m\n",
      "\u001b[0;32m/Users/yizhao/anaconda3/lib/python3.5/site-packages/sklearn/externals/joblib/parallel.py\u001b[0m in \u001b[0;36m<listcomp>\u001b[0;34m(.0)\u001b[0m\n\u001b[1;32m    129\u001b[0m \u001b[0;34m\u001b[0m\u001b[0m\n\u001b[1;32m    130\u001b[0m     \u001b[0;32mdef\u001b[0m \u001b[0m__call__\u001b[0m\u001b[0;34m(\u001b[0m\u001b[0mself\u001b[0m\u001b[0;34m)\u001b[0m\u001b[0;34m:\u001b[0m\u001b[0;34m\u001b[0m\u001b[0m\n\u001b[0;32m--> 131\u001b[0;31m         \u001b[0;32mreturn\u001b[0m \u001b[0;34m[\u001b[0m\u001b[0mfunc\u001b[0m\u001b[0;34m(\u001b[0m\u001b[0;34m*\u001b[0m\u001b[0margs\u001b[0m\u001b[0;34m,\u001b[0m \u001b[0;34m**\u001b[0m\u001b[0mkwargs\u001b[0m\u001b[0;34m)\u001b[0m \u001b[0;32mfor\u001b[0m \u001b[0mfunc\u001b[0m\u001b[0;34m,\u001b[0m \u001b[0margs\u001b[0m\u001b[0;34m,\u001b[0m \u001b[0mkwargs\u001b[0m \u001b[0;32min\u001b[0m \u001b[0mself\u001b[0m\u001b[0;34m.\u001b[0m\u001b[0mitems\u001b[0m\u001b[0;34m]\u001b[0m\u001b[0;34m\u001b[0m\u001b[0m\n\u001b[0m\u001b[1;32m    132\u001b[0m \u001b[0;34m\u001b[0m\u001b[0m\n\u001b[1;32m    133\u001b[0m     \u001b[0;32mdef\u001b[0m \u001b[0m__len__\u001b[0m\u001b[0;34m(\u001b[0m\u001b[0mself\u001b[0m\u001b[0;34m)\u001b[0m\u001b[0;34m:\u001b[0m\u001b[0;34m\u001b[0m\u001b[0m\n",
      "\u001b[0;32m/Users/yizhao/anaconda3/lib/python3.5/site-packages/sklearn/model_selection/_validation.py\u001b[0m in \u001b[0;36m_fit_and_score\u001b[0;34m(estimator, X, y, scorer, train, test, verbose, parameters, fit_params, return_train_score, return_parameters, return_n_test_samples, return_times, error_score)\u001b[0m\n\u001b[1;32m    229\u001b[0m     \u001b[0mstart_time\u001b[0m \u001b[0;34m=\u001b[0m \u001b[0mtime\u001b[0m\u001b[0;34m.\u001b[0m\u001b[0mtime\u001b[0m\u001b[0;34m(\u001b[0m\u001b[0;34m)\u001b[0m\u001b[0;34m\u001b[0m\u001b[0m\n\u001b[1;32m    230\u001b[0m \u001b[0;34m\u001b[0m\u001b[0m\n\u001b[0;32m--> 231\u001b[0;31m     \u001b[0mX_train\u001b[0m\u001b[0;34m,\u001b[0m \u001b[0my_train\u001b[0m \u001b[0;34m=\u001b[0m \u001b[0m_safe_split\u001b[0m\u001b[0;34m(\u001b[0m\u001b[0mestimator\u001b[0m\u001b[0;34m,\u001b[0m \u001b[0mX\u001b[0m\u001b[0;34m,\u001b[0m \u001b[0my\u001b[0m\u001b[0;34m,\u001b[0m \u001b[0mtrain\u001b[0m\u001b[0;34m)\u001b[0m\u001b[0;34m\u001b[0m\u001b[0m\n\u001b[0m\u001b[1;32m    232\u001b[0m     \u001b[0mX_test\u001b[0m\u001b[0;34m,\u001b[0m \u001b[0my_test\u001b[0m \u001b[0;34m=\u001b[0m \u001b[0m_safe_split\u001b[0m\u001b[0;34m(\u001b[0m\u001b[0mestimator\u001b[0m\u001b[0;34m,\u001b[0m \u001b[0mX\u001b[0m\u001b[0;34m,\u001b[0m \u001b[0my\u001b[0m\u001b[0;34m,\u001b[0m \u001b[0mtest\u001b[0m\u001b[0;34m,\u001b[0m \u001b[0mtrain\u001b[0m\u001b[0;34m)\u001b[0m\u001b[0;34m\u001b[0m\u001b[0m\n\u001b[1;32m    233\u001b[0m \u001b[0;34m\u001b[0m\u001b[0m\n",
      "\u001b[0;32m/Users/yizhao/anaconda3/lib/python3.5/site-packages/sklearn/utils/metaestimators.py\u001b[0m in \u001b[0;36m_safe_split\u001b[0;34m(estimator, X, y, indices, train_indices)\u001b[0m\n\u001b[1;32m    106\u001b[0m                 \u001b[0mX_subset\u001b[0m \u001b[0;34m=\u001b[0m \u001b[0mX\u001b[0m\u001b[0;34m[\u001b[0m\u001b[0mnp\u001b[0m\u001b[0;34m.\u001b[0m\u001b[0mix_\u001b[0m\u001b[0;34m(\u001b[0m\u001b[0mindices\u001b[0m\u001b[0;34m,\u001b[0m \u001b[0mtrain_indices\u001b[0m\u001b[0;34m)\u001b[0m\u001b[0;34m]\u001b[0m\u001b[0;34m\u001b[0m\u001b[0m\n\u001b[1;32m    107\u001b[0m         \u001b[0;32melse\u001b[0m\u001b[0;34m:\u001b[0m\u001b[0;34m\u001b[0m\u001b[0m\n\u001b[0;32m--> 108\u001b[0;31m             \u001b[0mX_subset\u001b[0m \u001b[0;34m=\u001b[0m \u001b[0msafe_indexing\u001b[0m\u001b[0;34m(\u001b[0m\u001b[0mX\u001b[0m\u001b[0;34m,\u001b[0m \u001b[0mindices\u001b[0m\u001b[0;34m)\u001b[0m\u001b[0;34m\u001b[0m\u001b[0m\n\u001b[0m\u001b[1;32m    109\u001b[0m \u001b[0;34m\u001b[0m\u001b[0m\n\u001b[1;32m    110\u001b[0m     \u001b[0;32mif\u001b[0m \u001b[0my\u001b[0m \u001b[0;32mis\u001b[0m \u001b[0;32mnot\u001b[0m \u001b[0;32mNone\u001b[0m\u001b[0;34m:\u001b[0m\u001b[0;34m\u001b[0m\u001b[0m\n",
      "\u001b[0;32m/Users/yizhao/anaconda3/lib/python3.5/site-packages/sklearn/utils/__init__.py\u001b[0m in \u001b[0;36msafe_indexing\u001b[0;34m(X, indices)\u001b[0m\n\u001b[1;32m     97\u001b[0m         \u001b[0;31m# Pandas Dataframes and Series\u001b[0m\u001b[0;34m\u001b[0m\u001b[0;34m\u001b[0m\u001b[0m\n\u001b[1;32m     98\u001b[0m         \u001b[0;32mtry\u001b[0m\u001b[0;34m:\u001b[0m\u001b[0;34m\u001b[0m\u001b[0m\n\u001b[0;32m---> 99\u001b[0;31m             \u001b[0;32mreturn\u001b[0m \u001b[0mX\u001b[0m\u001b[0;34m.\u001b[0m\u001b[0miloc\u001b[0m\u001b[0;34m[\u001b[0m\u001b[0mindices\u001b[0m\u001b[0;34m]\u001b[0m\u001b[0;34m\u001b[0m\u001b[0m\n\u001b[0m\u001b[1;32m    100\u001b[0m         \u001b[0;32mexcept\u001b[0m \u001b[0mValueError\u001b[0m\u001b[0;34m:\u001b[0m\u001b[0;34m\u001b[0m\u001b[0m\n\u001b[1;32m    101\u001b[0m             \u001b[0;31m# Cython typed memoryviews internally used in pandas do not support\u001b[0m\u001b[0;34m\u001b[0m\u001b[0;34m\u001b[0m\u001b[0m\n",
      "\u001b[0;32m/Users/yizhao/anaconda3/lib/python3.5/site-packages/pandas/core/indexing.py\u001b[0m in \u001b[0;36m__getitem__\u001b[0;34m(self, key)\u001b[0m\n\u001b[1;32m   1294\u001b[0m             \u001b[0;32mreturn\u001b[0m \u001b[0mself\u001b[0m\u001b[0;34m.\u001b[0m\u001b[0m_getitem_tuple\u001b[0m\u001b[0;34m(\u001b[0m\u001b[0mkey\u001b[0m\u001b[0;34m)\u001b[0m\u001b[0;34m\u001b[0m\u001b[0m\n\u001b[1;32m   1295\u001b[0m         \u001b[0;32melse\u001b[0m\u001b[0;34m:\u001b[0m\u001b[0;34m\u001b[0m\u001b[0m\n\u001b[0;32m-> 1296\u001b[0;31m             \u001b[0;32mreturn\u001b[0m \u001b[0mself\u001b[0m\u001b[0;34m.\u001b[0m\u001b[0m_getitem_axis\u001b[0m\u001b[0;34m(\u001b[0m\u001b[0mkey\u001b[0m\u001b[0;34m,\u001b[0m \u001b[0maxis\u001b[0m\u001b[0;34m=\u001b[0m\u001b[0;36m0\u001b[0m\u001b[0;34m)\u001b[0m\u001b[0;34m\u001b[0m\u001b[0m\n\u001b[0m\u001b[1;32m   1297\u001b[0m \u001b[0;34m\u001b[0m\u001b[0m\n\u001b[1;32m   1298\u001b[0m     \u001b[0;32mdef\u001b[0m \u001b[0m_getitem_axis\u001b[0m\u001b[0;34m(\u001b[0m\u001b[0mself\u001b[0m\u001b[0;34m,\u001b[0m \u001b[0mkey\u001b[0m\u001b[0;34m,\u001b[0m \u001b[0maxis\u001b[0m\u001b[0;34m=\u001b[0m\u001b[0;36m0\u001b[0m\u001b[0;34m)\u001b[0m\u001b[0;34m:\u001b[0m\u001b[0;34m\u001b[0m\u001b[0m\n",
      "\u001b[0;32m/Users/yizhao/anaconda3/lib/python3.5/site-packages/pandas/core/indexing.py\u001b[0m in \u001b[0;36m_getitem_axis\u001b[0;34m(self, key, axis)\u001b[0m\n\u001b[1;32m   1597\u001b[0m \u001b[0;34m\u001b[0m\u001b[0m\n\u001b[1;32m   1598\u001b[0m                 \u001b[0;31m# validate list bounds\u001b[0m\u001b[0;34m\u001b[0m\u001b[0;34m\u001b[0m\u001b[0m\n\u001b[0;32m-> 1599\u001b[0;31m                 \u001b[0mself\u001b[0m\u001b[0;34m.\u001b[0m\u001b[0m_is_valid_list_like\u001b[0m\u001b[0;34m(\u001b[0m\u001b[0mkey\u001b[0m\u001b[0;34m,\u001b[0m \u001b[0maxis\u001b[0m\u001b[0;34m)\u001b[0m\u001b[0;34m\u001b[0m\u001b[0m\n\u001b[0m\u001b[1;32m   1600\u001b[0m \u001b[0;34m\u001b[0m\u001b[0m\n\u001b[1;32m   1601\u001b[0m                 \u001b[0;31m# force an actual list\u001b[0m\u001b[0;34m\u001b[0m\u001b[0;34m\u001b[0m\u001b[0m\n",
      "\u001b[0;32m/Users/yizhao/anaconda3/lib/python3.5/site-packages/pandas/core/indexing.py\u001b[0m in \u001b[0;36m_is_valid_list_like\u001b[0;34m(self, key, axis)\u001b[0m\n\u001b[1;32m   1536\u001b[0m         \u001b[0ml\u001b[0m \u001b[0;34m=\u001b[0m \u001b[0mlen\u001b[0m\u001b[0;34m(\u001b[0m\u001b[0max\u001b[0m\u001b[0;34m)\u001b[0m\u001b[0;34m\u001b[0m\u001b[0m\n\u001b[1;32m   1537\u001b[0m         \u001b[0;32mif\u001b[0m \u001b[0mlen\u001b[0m\u001b[0;34m(\u001b[0m\u001b[0marr\u001b[0m\u001b[0;34m)\u001b[0m \u001b[0;32mand\u001b[0m \u001b[0;34m(\u001b[0m\u001b[0marr\u001b[0m\u001b[0;34m.\u001b[0m\u001b[0mmax\u001b[0m\u001b[0;34m(\u001b[0m\u001b[0;34m)\u001b[0m \u001b[0;34m>=\u001b[0m \u001b[0ml\u001b[0m \u001b[0;32mor\u001b[0m \u001b[0marr\u001b[0m\u001b[0;34m.\u001b[0m\u001b[0mmin\u001b[0m\u001b[0;34m(\u001b[0m\u001b[0;34m)\u001b[0m \u001b[0;34m<\u001b[0m \u001b[0;34m-\u001b[0m\u001b[0ml\u001b[0m\u001b[0;34m)\u001b[0m\u001b[0;34m:\u001b[0m\u001b[0;34m\u001b[0m\u001b[0m\n\u001b[0;32m-> 1538\u001b[0;31m             \u001b[0;32mraise\u001b[0m \u001b[0mIndexError\u001b[0m\u001b[0;34m(\u001b[0m\u001b[0;34m\"positional indexers are out-of-bounds\"\u001b[0m\u001b[0;34m)\u001b[0m\u001b[0;34m\u001b[0m\u001b[0m\n\u001b[0m\u001b[1;32m   1539\u001b[0m \u001b[0;34m\u001b[0m\u001b[0m\n\u001b[1;32m   1540\u001b[0m         \u001b[0;32mreturn\u001b[0m \u001b[0;32mTrue\u001b[0m\u001b[0;34m\u001b[0m\u001b[0m\n",
      "\u001b[0;31mIndexError\u001b[0m: positional indexers are out-of-bounds"
     ]
    }
   ],
   "source": [
    "results = cross_val_score(RandomForestClassifier(n_estimators=100),  \n",
    "                          X, y,  \n",
    "                          cv=kfold,  \n",
    "                          scoring = metrics.make_scorer(metrics.f1_score))\n",
    "print('RandomForest Classifier\\n mean f1_score score: \\n',\n",
    "      results.mean())"
   ]
  },
  {
   "cell_type": "code",
   "execution_count": 6,
   "metadata": {
    "collapsed": false
   },
   "outputs": [
    {
     "data": {
      "text/plain": [
       "pandas.core.series.Series"
      ]
     },
     "execution_count": 6,
     "metadata": {},
     "output_type": "execute_result"
    }
   ],
   "source": [
    "type(train_raw.TARGET) # target means something else"
   ]
  },
  {
   "cell_type": "code",
   "execution_count": 41,
   "metadata": {
    "collapsed": false
   },
   "outputs": [
    {
     "data": {
      "text/plain": [
       "sklearn.cross_validation.StratifiedKFold"
      ]
     },
     "execution_count": 41,
     "metadata": {},
     "output_type": "execute_result"
    }
   ],
   "source": [
    "type(kfold)"
   ]
  },
  {
   "cell_type": "code",
   "execution_count": 46,
   "metadata": {
    "collapsed": false
   },
   "outputs": [
    {
     "data": {
      "text/plain": [
       "76020"
      ]
     },
     "execution_count": 46,
     "metadata": {},
     "output_type": "execute_result"
    }
   ],
   "source": [
    "y.size"
   ]
  },
  {
   "cell_type": "code",
   "execution_count": 45,
   "metadata": {
    "collapsed": false
   },
   "outputs": [
    {
     "ename": "KeyError",
     "evalue": "-1",
     "output_type": "error",
     "traceback": [
      "\u001b[0;31m---------------------------------------------------------------------------\u001b[0m",
      "\u001b[0;31mKeyError\u001b[0m                                  Traceback (most recent call last)",
      "\u001b[0;32m/Users/yizhao/anaconda3/lib/python3.5/site-packages/pandas/indexes/base.py\u001b[0m in \u001b[0;36mget_loc\u001b[0;34m(self, key, method, tolerance)\u001b[0m\n\u001b[1;32m   1944\u001b[0m             \u001b[0;32mtry\u001b[0m\u001b[0;34m:\u001b[0m\u001b[0;34m\u001b[0m\u001b[0m\n\u001b[0;32m-> 1945\u001b[0;31m                 \u001b[0;32mreturn\u001b[0m \u001b[0mself\u001b[0m\u001b[0;34m.\u001b[0m\u001b[0m_engine\u001b[0m\u001b[0;34m.\u001b[0m\u001b[0mget_loc\u001b[0m\u001b[0;34m(\u001b[0m\u001b[0mkey\u001b[0m\u001b[0;34m)\u001b[0m\u001b[0;34m\u001b[0m\u001b[0m\n\u001b[0m\u001b[1;32m   1946\u001b[0m             \u001b[0;32mexcept\u001b[0m \u001b[0mKeyError\u001b[0m\u001b[0;34m:\u001b[0m\u001b[0;34m\u001b[0m\u001b[0m\n",
      "\u001b[0;32mpandas/index.pyx\u001b[0m in \u001b[0;36mpandas.index.IndexEngine.get_loc (pandas/index.c:4154)\u001b[0;34m()\u001b[0m\n",
      "\u001b[0;32mpandas/index.pyx\u001b[0m in \u001b[0;36mpandas.index.IndexEngine.get_loc (pandas/index.c:4018)\u001b[0;34m()\u001b[0m\n",
      "\u001b[0;32mpandas/hashtable.pyx\u001b[0m in \u001b[0;36mpandas.hashtable.PyObjectHashTable.get_item (pandas/hashtable.c:12368)\u001b[0;34m()\u001b[0m\n",
      "\u001b[0;32mpandas/hashtable.pyx\u001b[0m in \u001b[0;36mpandas.hashtable.PyObjectHashTable.get_item (pandas/hashtable.c:12322)\u001b[0;34m()\u001b[0m\n",
      "\u001b[0;31mKeyError\u001b[0m: -1",
      "\nDuring handling of the above exception, another exception occurred:\n",
      "\u001b[0;31mKeyError\u001b[0m                                  Traceback (most recent call last)",
      "\u001b[0;32m<ipython-input-45-0aca51f08f8c>\u001b[0m in \u001b[0;36m<module>\u001b[0;34m()\u001b[0m\n\u001b[0;32m----> 1\u001b[0;31m \u001b[0mX\u001b[0m \u001b[0;34m=\u001b[0m \u001b[0mtrain_raw\u001b[0m\u001b[0;34m[\u001b[0m\u001b[0;34m-\u001b[0m\u001b[0;36m1\u001b[0m\u001b[0;34m]\u001b[0m\u001b[0;34m\u001b[0m\u001b[0m\n\u001b[0m\u001b[1;32m      2\u001b[0m \u001b[0my\u001b[0m \u001b[0;34m=\u001b[0m \u001b[0mtrain_raw\u001b[0m\u001b[0;34m.\u001b[0m\u001b[0mTARGET\u001b[0m\u001b[0;34m\u001b[0m\u001b[0m\n\u001b[1;32m      3\u001b[0m \u001b[0;34m\u001b[0m\u001b[0m\n\u001b[1;32m      4\u001b[0m \u001b[0;32mfor\u001b[0m \u001b[0mtrain_index\u001b[0m\u001b[0;34m,\u001b[0m \u001b[0mtest_index\u001b[0m \u001b[0;32min\u001b[0m \u001b[0mkfold\u001b[0m\u001b[0;34m:\u001b[0m\u001b[0;34m\u001b[0m\u001b[0m\n\u001b[1;32m      5\u001b[0m     \u001b[0mprint\u001b[0m\u001b[0;34m(\u001b[0m\u001b[0;34m\"TRAIN:\"\u001b[0m\u001b[0;34m,\u001b[0m \u001b[0mtrain_index\u001b[0m\u001b[0;34m,\u001b[0m \u001b[0;34m\"TEST:\"\u001b[0m\u001b[0;34m,\u001b[0m \u001b[0mtest_index\u001b[0m\u001b[0;34m)\u001b[0m\u001b[0;34m\u001b[0m\u001b[0m\n",
      "\u001b[0;32m/Users/yizhao/anaconda3/lib/python3.5/site-packages/pandas/core/frame.py\u001b[0m in \u001b[0;36m__getitem__\u001b[0;34m(self, key)\u001b[0m\n\u001b[1;32m   1995\u001b[0m             \u001b[0;32mreturn\u001b[0m \u001b[0mself\u001b[0m\u001b[0;34m.\u001b[0m\u001b[0m_getitem_multilevel\u001b[0m\u001b[0;34m(\u001b[0m\u001b[0mkey\u001b[0m\u001b[0;34m)\u001b[0m\u001b[0;34m\u001b[0m\u001b[0m\n\u001b[1;32m   1996\u001b[0m         \u001b[0;32melse\u001b[0m\u001b[0;34m:\u001b[0m\u001b[0;34m\u001b[0m\u001b[0m\n\u001b[0;32m-> 1997\u001b[0;31m             \u001b[0;32mreturn\u001b[0m \u001b[0mself\u001b[0m\u001b[0;34m.\u001b[0m\u001b[0m_getitem_column\u001b[0m\u001b[0;34m(\u001b[0m\u001b[0mkey\u001b[0m\u001b[0;34m)\u001b[0m\u001b[0;34m\u001b[0m\u001b[0m\n\u001b[0m\u001b[1;32m   1998\u001b[0m \u001b[0;34m\u001b[0m\u001b[0m\n\u001b[1;32m   1999\u001b[0m     \u001b[0;32mdef\u001b[0m \u001b[0m_getitem_column\u001b[0m\u001b[0;34m(\u001b[0m\u001b[0mself\u001b[0m\u001b[0;34m,\u001b[0m \u001b[0mkey\u001b[0m\u001b[0;34m)\u001b[0m\u001b[0;34m:\u001b[0m\u001b[0;34m\u001b[0m\u001b[0m\n",
      "\u001b[0;32m/Users/yizhao/anaconda3/lib/python3.5/site-packages/pandas/core/frame.py\u001b[0m in \u001b[0;36m_getitem_column\u001b[0;34m(self, key)\u001b[0m\n\u001b[1;32m   2002\u001b[0m         \u001b[0;31m# get column\u001b[0m\u001b[0;34m\u001b[0m\u001b[0;34m\u001b[0m\u001b[0m\n\u001b[1;32m   2003\u001b[0m         \u001b[0;32mif\u001b[0m \u001b[0mself\u001b[0m\u001b[0;34m.\u001b[0m\u001b[0mcolumns\u001b[0m\u001b[0;34m.\u001b[0m\u001b[0mis_unique\u001b[0m\u001b[0;34m:\u001b[0m\u001b[0;34m\u001b[0m\u001b[0m\n\u001b[0;32m-> 2004\u001b[0;31m             \u001b[0;32mreturn\u001b[0m \u001b[0mself\u001b[0m\u001b[0;34m.\u001b[0m\u001b[0m_get_item_cache\u001b[0m\u001b[0;34m(\u001b[0m\u001b[0mkey\u001b[0m\u001b[0;34m)\u001b[0m\u001b[0;34m\u001b[0m\u001b[0m\n\u001b[0m\u001b[1;32m   2005\u001b[0m \u001b[0;34m\u001b[0m\u001b[0m\n\u001b[1;32m   2006\u001b[0m         \u001b[0;31m# duplicate columns & possible reduce dimensionality\u001b[0m\u001b[0;34m\u001b[0m\u001b[0;34m\u001b[0m\u001b[0m\n",
      "\u001b[0;32m/Users/yizhao/anaconda3/lib/python3.5/site-packages/pandas/core/generic.py\u001b[0m in \u001b[0;36m_get_item_cache\u001b[0;34m(self, item)\u001b[0m\n\u001b[1;32m   1348\u001b[0m         \u001b[0mres\u001b[0m \u001b[0;34m=\u001b[0m \u001b[0mcache\u001b[0m\u001b[0;34m.\u001b[0m\u001b[0mget\u001b[0m\u001b[0;34m(\u001b[0m\u001b[0mitem\u001b[0m\u001b[0;34m)\u001b[0m\u001b[0;34m\u001b[0m\u001b[0m\n\u001b[1;32m   1349\u001b[0m         \u001b[0;32mif\u001b[0m \u001b[0mres\u001b[0m \u001b[0;32mis\u001b[0m \u001b[0;32mNone\u001b[0m\u001b[0;34m:\u001b[0m\u001b[0;34m\u001b[0m\u001b[0m\n\u001b[0;32m-> 1350\u001b[0;31m             \u001b[0mvalues\u001b[0m \u001b[0;34m=\u001b[0m \u001b[0mself\u001b[0m\u001b[0;34m.\u001b[0m\u001b[0m_data\u001b[0m\u001b[0;34m.\u001b[0m\u001b[0mget\u001b[0m\u001b[0;34m(\u001b[0m\u001b[0mitem\u001b[0m\u001b[0;34m)\u001b[0m\u001b[0;34m\u001b[0m\u001b[0m\n\u001b[0m\u001b[1;32m   1351\u001b[0m             \u001b[0mres\u001b[0m \u001b[0;34m=\u001b[0m \u001b[0mself\u001b[0m\u001b[0;34m.\u001b[0m\u001b[0m_box_item_values\u001b[0m\u001b[0;34m(\u001b[0m\u001b[0mitem\u001b[0m\u001b[0;34m,\u001b[0m \u001b[0mvalues\u001b[0m\u001b[0;34m)\u001b[0m\u001b[0;34m\u001b[0m\u001b[0m\n\u001b[1;32m   1352\u001b[0m             \u001b[0mcache\u001b[0m\u001b[0;34m[\u001b[0m\u001b[0mitem\u001b[0m\u001b[0;34m]\u001b[0m \u001b[0;34m=\u001b[0m \u001b[0mres\u001b[0m\u001b[0;34m\u001b[0m\u001b[0m\n",
      "\u001b[0;32m/Users/yizhao/anaconda3/lib/python3.5/site-packages/pandas/core/internals.py\u001b[0m in \u001b[0;36mget\u001b[0;34m(self, item, fastpath)\u001b[0m\n\u001b[1;32m   3288\u001b[0m \u001b[0;34m\u001b[0m\u001b[0m\n\u001b[1;32m   3289\u001b[0m             \u001b[0;32mif\u001b[0m \u001b[0;32mnot\u001b[0m \u001b[0misnull\u001b[0m\u001b[0;34m(\u001b[0m\u001b[0mitem\u001b[0m\u001b[0;34m)\u001b[0m\u001b[0;34m:\u001b[0m\u001b[0;34m\u001b[0m\u001b[0m\n\u001b[0;32m-> 3290\u001b[0;31m                 \u001b[0mloc\u001b[0m \u001b[0;34m=\u001b[0m \u001b[0mself\u001b[0m\u001b[0;34m.\u001b[0m\u001b[0mitems\u001b[0m\u001b[0;34m.\u001b[0m\u001b[0mget_loc\u001b[0m\u001b[0;34m(\u001b[0m\u001b[0mitem\u001b[0m\u001b[0;34m)\u001b[0m\u001b[0;34m\u001b[0m\u001b[0m\n\u001b[0m\u001b[1;32m   3291\u001b[0m             \u001b[0;32melse\u001b[0m\u001b[0;34m:\u001b[0m\u001b[0;34m\u001b[0m\u001b[0m\n\u001b[1;32m   3292\u001b[0m                 \u001b[0mindexer\u001b[0m \u001b[0;34m=\u001b[0m \u001b[0mnp\u001b[0m\u001b[0;34m.\u001b[0m\u001b[0marange\u001b[0m\u001b[0;34m(\u001b[0m\u001b[0mlen\u001b[0m\u001b[0;34m(\u001b[0m\u001b[0mself\u001b[0m\u001b[0;34m.\u001b[0m\u001b[0mitems\u001b[0m\u001b[0;34m)\u001b[0m\u001b[0;34m)\u001b[0m\u001b[0;34m[\u001b[0m\u001b[0misnull\u001b[0m\u001b[0;34m(\u001b[0m\u001b[0mself\u001b[0m\u001b[0;34m.\u001b[0m\u001b[0mitems\u001b[0m\u001b[0;34m)\u001b[0m\u001b[0;34m]\u001b[0m\u001b[0;34m\u001b[0m\u001b[0m\n",
      "\u001b[0;32m/Users/yizhao/anaconda3/lib/python3.5/site-packages/pandas/indexes/base.py\u001b[0m in \u001b[0;36mget_loc\u001b[0;34m(self, key, method, tolerance)\u001b[0m\n\u001b[1;32m   1945\u001b[0m                 \u001b[0;32mreturn\u001b[0m \u001b[0mself\u001b[0m\u001b[0;34m.\u001b[0m\u001b[0m_engine\u001b[0m\u001b[0;34m.\u001b[0m\u001b[0mget_loc\u001b[0m\u001b[0;34m(\u001b[0m\u001b[0mkey\u001b[0m\u001b[0;34m)\u001b[0m\u001b[0;34m\u001b[0m\u001b[0m\n\u001b[1;32m   1946\u001b[0m             \u001b[0;32mexcept\u001b[0m \u001b[0mKeyError\u001b[0m\u001b[0;34m:\u001b[0m\u001b[0;34m\u001b[0m\u001b[0m\n\u001b[0;32m-> 1947\u001b[0;31m                 \u001b[0;32mreturn\u001b[0m \u001b[0mself\u001b[0m\u001b[0;34m.\u001b[0m\u001b[0m_engine\u001b[0m\u001b[0;34m.\u001b[0m\u001b[0mget_loc\u001b[0m\u001b[0;34m(\u001b[0m\u001b[0mself\u001b[0m\u001b[0;34m.\u001b[0m\u001b[0m_maybe_cast_indexer\u001b[0m\u001b[0;34m(\u001b[0m\u001b[0mkey\u001b[0m\u001b[0;34m)\u001b[0m\u001b[0;34m)\u001b[0m\u001b[0;34m\u001b[0m\u001b[0m\n\u001b[0m\u001b[1;32m   1948\u001b[0m \u001b[0;34m\u001b[0m\u001b[0m\n\u001b[1;32m   1949\u001b[0m         \u001b[0mindexer\u001b[0m \u001b[0;34m=\u001b[0m \u001b[0mself\u001b[0m\u001b[0;34m.\u001b[0m\u001b[0mget_indexer\u001b[0m\u001b[0;34m(\u001b[0m\u001b[0;34m[\u001b[0m\u001b[0mkey\u001b[0m\u001b[0;34m]\u001b[0m\u001b[0;34m,\u001b[0m \u001b[0mmethod\u001b[0m\u001b[0;34m=\u001b[0m\u001b[0mmethod\u001b[0m\u001b[0;34m,\u001b[0m \u001b[0mtolerance\u001b[0m\u001b[0;34m=\u001b[0m\u001b[0mtolerance\u001b[0m\u001b[0;34m)\u001b[0m\u001b[0;34m\u001b[0m\u001b[0m\n",
      "\u001b[0;32mpandas/index.pyx\u001b[0m in \u001b[0;36mpandas.index.IndexEngine.get_loc (pandas/index.c:4154)\u001b[0;34m()\u001b[0m\n",
      "\u001b[0;32mpandas/index.pyx\u001b[0m in \u001b[0;36mpandas.index.IndexEngine.get_loc (pandas/index.c:4018)\u001b[0;34m()\u001b[0m\n",
      "\u001b[0;32mpandas/hashtable.pyx\u001b[0m in \u001b[0;36mpandas.hashtable.PyObjectHashTable.get_item (pandas/hashtable.c:12368)\u001b[0;34m()\u001b[0m\n",
      "\u001b[0;32mpandas/hashtable.pyx\u001b[0m in \u001b[0;36mpandas.hashtable.PyObjectHashTable.get_item (pandas/hashtable.c:12322)\u001b[0;34m()\u001b[0m\n",
      "\u001b[0;31mKeyError\u001b[0m: -1"
     ]
    }
   ],
   "source": [
    "X = train_raw[-1]\n",
    "y = train_raw.TARGET\n",
    "\n",
    "for train_index, test_index in kfold:\n",
    "    print(\"TRAIN:\", train_index, \"TEST:\", test_index)\n",
    "    X_train = X.iloc[train_index, :]\n",
    "    X_test = X.iloc[test_index,:]\n",
    "    y_train, y_test = y[train_index], y[test_index]\n",
    "    \n",
    "    pipe_LG.fit(X_train, y_train)\n",
    "    \n",
    "    print(metrics.f1_score(y_pred= pipe_LG.predict(X_test), \n",
    "                           y_true= y_test), '\\n')"
   ]
  },
  {
   "cell_type": "code",
   "execution_count": 21,
   "metadata": {
    "collapsed": false
   },
   "outputs": [
    {
     "name": "stdout",
     "output_type": "stream",
     "text": [
      "Training set: 0.0 \n",
      "\n",
      "Testing set: 0.0\n"
     ]
    }
   ],
   "source": [
    "Xlr, Xtestlr, y_lr, y_testlr = train_test_split(X, y,random_state=5)\n",
    "\n",
    "scale = MinMaxScaler()\n",
    "X_train = scale.fit_transform(Xlr) # scale all predictor variables\n",
    "X_test = scale.fit_transform(Xtestlr)\n",
    "\n",
    "get_kbest = SelectKBest(chi2, k = 100) # use Chi2 to select best features\n",
    "get_kbest.fit(X_train, y_lr)\n",
    "X_top = get_kbest.transform(X_train)\n",
    "\n",
    "LG = LogisticRegression(C=0.1)\n",
    "LG.fit(X_top, y_lr)\n",
    "\n",
    "pred_train = LG.predict(X_top)\n",
    "pred_test = LG.predict(get_kbest.transform(X_test))\n",
    "\n",
    "print('Training set:', metrics.f1_score(y_pred= pred_train, \n",
    "                           y_true= y_lr), '\\n')\n",
    "print('Testing set:', \n",
    "      metrics.f1_score(y_pred= pred_test, \n",
    "                           y_true= y_testlr))"
   ]
  },
  {
   "cell_type": "code",
   "execution_count": 23,
   "metadata": {
    "collapsed": false
   },
   "outputs": [
    {
     "data": {
      "text/plain": [
       "array([[54711,     1],\n",
       "       [ 2303,     0]])"
      ]
     },
     "execution_count": 23,
     "metadata": {},
     "output_type": "execute_result"
    }
   ],
   "source": [
    "metrics.confusion_matrix(y_true = y_lr, y_pred = pred_train)"
   ]
  },
  {
   "cell_type": "code",
   "execution_count": 32,
   "metadata": {
    "collapsed": false
   },
   "outputs": [
    {
     "name": "stdout",
     "output_type": "stream",
     "text": [
      "True positive:  0\n",
      "\n",
      "True negative:  54711\n",
      "\n",
      "False negative 2303\n",
      "\n",
      "False positive:  1\n"
     ]
    }
   ],
   "source": [
    "print('True positive: ', sum(pred_train * y_lr ==1))\n",
    "\n",
    "print('\\nTrue negative: ',sum(pred_train + y_lr ==0) )\n",
    "print('\\nFalse negative',sum(y_lr ==1))\n",
    "print('\\nFalse positive: ', sum(pred_train + y_lr ==1) - sum(y_lr== 1))"
   ]
  },
  {
   "cell_type": "code",
   "execution_count": 25,
   "metadata": {
    "collapsed": false
   },
   "outputs": [
    {
     "data": {
      "image/png": "[encoded data removed]",
      "text/plain": [
       "<matplotlib.figure.Figure at 0x11c10b2e8>"
      ]
     },
     "metadata": {},
     "output_type": "display_data"
    }
   ],
   "source": [
    "plt.plot(pred_train, y_lr)\n",
    "plt.show()"
   ]
  },
  {
   "cell_type": "code",
   "execution_count": null,
   "metadata": {
    "collapsed": true
   },
   "outputs": [],
   "source": []
  }
 ],
 "metadata": {
  "anaconda-cloud": {},
  "kernelspec": {
   "display_name": "Python [conda root]",
   "language": "python",
   "name": "conda-root-py"
  },
  "language_info": {
   "codemirror_mode": {
    "name": "ipython",
    "version": 3
   },
   "file_extension": ".py",
   "mimetype": "text/x-python",
   "name": "python",
   "nbconvert_exporter": "python",
   "pygments_lexer": "ipython3",
   "version": "3.5.2"
  }
 },
 "nbformat": 4,
 "nbformat_minor": 1
}
